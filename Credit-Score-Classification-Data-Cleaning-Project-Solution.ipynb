{
 "cells": [
  {
   "cell_type": "markdown",
   "metadata": {
    "id": "RBgL2bqDjwN_"
   },
   "source": [
    "<img src='https://storage.googleapis.com/kaggle-datasets-images/2289007/3846912/ad5e128929f5ac26133b67a6110de7c0/dataset-cover.jpg?t=2022-06-22-14-33-45' alt='image' style=\"display: block; margin: auto;\" width='600' height='350'>\n",
    "\n",
    "<p style=\"background-color:romance; color:jaguar; font-size:250%; text-align:center; border-radius:10px 10px; font-family:newtimeroman; line-height: 1.4; text-transform: uppercase;\"><strong>Data Analysis & Visualization with Python</strong></p>\n",
    "\n",
    "<p style=\"background-color:romance; color:jaguar; font-size:200%; text-align:center; border-radius:10px 10px; font-family:newtimeroman; line-height: 1.4; text-transform: title;\"><strong>Analysis of Credit Score Classification</strong></p>\n",
    "\n",
    "<p style=\"background-color:romance; color:jaguar; font-size:200%; text-align:center; border-radius:10px 10px; font-family:newtimeroman; line-height: 1.1;\">Project Solution: Data Cleaning</p>"
   ]
  },
  {
   "cell_type": "markdown",
   "metadata": {},
   "source": [
    "<a id=\"content\"></a>\n",
    "<p style=\"background-color:plum; color:floralwhite; font-size:175%; text-align:center; border-radius:10px 10px; font-family:newtimeroman; line-height: 1.4;\"><b>Content</b></p>\n",
    "\n",
    "* [Introduction](#0)\n",
    "* [About Dataset](#1)\n",
    "* [Importing Related Libraries](#2)\n",
    "* [Recognizing & Understanding Data](#3)\n",
    "* [Handling with Missing Values](#7)\n",
    "* [Handling with Outliers](#8)    \n",
    "* [The End of the Project](#10)"
   ]
  },
  {
   "cell_type": "markdown",
   "metadata": {
    "id": "wN-5l4z7jwN_"
   },
   "source": [
    "<a id=\"0\"></a>\n",
    "<p style=\"background-color:plum; color:floralwhite; font-size:175%; text-align:center; border-radius:10px 10px; font-family:newtimeroman; line-height: 1.4;\"><b>Introduction</b></p>\n",
    "\n",
    "<a href=\"#content\" class=\"btn btn-primary btn-sm\" role=\"button\" aria-pressed=\"true\" style=\"color:blue; background-color:#dfa8e4\" data-toggle=\"popover\">Content</a>\n",
    "\n",
    "One of the most important components to any data science experiment that doesn’t get as much importance as it should is **``Exploratory Data Analysis (EDA)``**. In short, EDA is **``\"A first look at the data\"``**. It is a critical step in analyzing the data from an experiment. It is used to understand and summarize the content of the dataset to ensure that the features which we feed to our machine learning algorithms are refined and we get valid, correctly interpreted results.\n",
    "In general, looking at a column of numbers or a whole spreadsheet and determining the important characteristics of the data can be very tedious and boring. Moreover, it is **good practice to understand the problem statement** and the data before you get your hands dirty, which in view, **helps to gain a lot of insights**."
   ]
  },
  {
   "cell_type": "markdown",
   "metadata": {
    "id": "XzZP-nZ5jwOA"
   },
   "source": [
    "<a id=\"1\"></a>\n",
    "<p style=\"background-color:plum; color:floralwhite; font-size:175%; text-align:center; border-radius:10px 10px; font-family:newtimeroman; line-height: 1.4;\"><b>About Dataset</b></p>\n",
    "\n",
    "<a href=\"https://www.kaggle.com/datasets/parisrohan/credit-score-classification\" class=\"btn btn-primary btn-sm\" role=\"button\" aria-pressed=\"true\" style=\"color:blue; background-color:#dfa8e4\" data-toggle=\"popover\">Kaggle: Credit Score Classification</a>\n",
    "\n",
    "**Problem Statement**\n",
    "You are working as a data scientist in a global finance company. Over the years, the company has collected basic bank details and gathered a lot of credit-related information. The management wants to build an intelligent system to segregate the people into credit score brackets to reduce the manual efforts.\n",
    "\n",
    "**Task**\n",
    "Given a person’s credit-related information, build a machine learning model that can classify the credit score."
   ]
  },
  {
   "cell_type": "markdown",
   "metadata": {
    "id": "rvbIoNsjjwOD"
   },
   "source": [
    "<a id=\"2\"></a>\n",
    "<p style=\"background-color:plum; color:floralwhite; font-size:175%; text-align:center; border-radius:10px 10px; font-family:newtimeroman; line-height: 1.4;\"><b>Importing Related Libraries</b></p>\n",
    "\n",
    "<a href=\"#content\" class=\"btn btn-primary btn-sm\" role=\"button\" aria-pressed=\"true\" style=\"color:blue; background-color:#dfa8e4\" data-toggle=\"popover\">Content</a>\n",
    "\n",
    "- Once you've Installed NumPy and Pandas etc. you can Import them as a Library.\n",
    "- Reading the Data from File"
   ]
  },
  {
   "cell_type": "code",
   "execution_count": 1,
   "metadata": {
    "id": "p7_KEHrAjwOE"
   },
   "outputs": [],
   "source": [
    "import re\n",
    "import numpy as np\n",
    "import pandas as pd\n",
    "import matplotlib.pyplot as plt\n",
    "import seaborn as sns\n",
    "\n",
    "# Statistics functions\n",
    "from scipy import stats\n",
    "\n",
    "import warnings\n",
    "# Suppressing a warning \n",
    "warnings.filterwarnings(\"ignore\") \n",
    "warnings.warn(\"this will not show\")\n",
    "\n",
    "# Environment settings: \n",
    "pd.set_option('display.float_format', lambda x: '%.3f' % x)\n",
    "# Set it to None to display all columns in the dataframe\n",
    "pd.set_option('display.max_columns', None)\n",
    "# Set it None to display all rows in the dataframe\n",
    "pd.set_option('display.max_rows', 100)\n",
    "\n",
    "# It is a magic function that renders the figure in the notebook\n",
    "# Attention if U use this inline Command not work 'figure.figsize'\n",
    "# %matplotlib inline "
   ]
  },
  {
   "cell_type": "markdown",
   "metadata": {
    "id": "12VFNmTfjwOG"
   },
   "source": [
    "## Reading the Data from File"
   ]
  },
  {
   "cell_type": "code",
   "execution_count": 2,
   "metadata": {},
   "outputs": [
    {
     "data": {
      "text/html": [
       "<div>\n",
       "<style scoped>\n",
       "    .dataframe tbody tr th:only-of-type {\n",
       "        vertical-align: middle;\n",
       "    }\n",
       "\n",
       "    .dataframe tbody tr th {\n",
       "        vertical-align: top;\n",
       "    }\n",
       "\n",
       "    .dataframe thead th {\n",
       "        text-align: right;\n",
       "    }\n",
       "</style>\n",
       "<table border=\"1\" class=\"dataframe\">\n",
       "  <thead>\n",
       "    <tr style=\"text-align: right;\">\n",
       "      <th></th>\n",
       "      <th>ID</th>\n",
       "      <th>Customer_ID</th>\n",
       "      <th>Month</th>\n",
       "      <th>Name</th>\n",
       "      <th>Age</th>\n",
       "      <th>SSN</th>\n",
       "      <th>Occupation</th>\n",
       "      <th>Annual_Income</th>\n",
       "      <th>Monthly_Inhand_Salary</th>\n",
       "      <th>Num_Bank_Accounts</th>\n",
       "      <th>Num_Credit_Card</th>\n",
       "      <th>Interest_Rate</th>\n",
       "      <th>Num_of_Loan</th>\n",
       "      <th>Type_of_Loan</th>\n",
       "      <th>Delay_from_due_date</th>\n",
       "      <th>Num_of_Delayed_Payment</th>\n",
       "      <th>Changed_Credit_Limit</th>\n",
       "      <th>Num_Credit_Inquiries</th>\n",
       "      <th>Credit_Mix</th>\n",
       "      <th>Outstanding_Debt</th>\n",
       "      <th>Credit_Utilization_Ratio</th>\n",
       "      <th>Credit_History_Age</th>\n",
       "      <th>Payment_of_Min_Amount</th>\n",
       "      <th>Total_EMI_per_month</th>\n",
       "      <th>Amount_invested_monthly</th>\n",
       "      <th>Payment_Behaviour</th>\n",
       "      <th>Monthly_Balance</th>\n",
       "      <th>Credit_Score</th>\n",
       "    </tr>\n",
       "  </thead>\n",
       "  <tbody>\n",
       "    <tr>\n",
       "      <th>0</th>\n",
       "      <td>0x1602</td>\n",
       "      <td>CUS_0xd40</td>\n",
       "      <td>January</td>\n",
       "      <td>Aaron Maashoh</td>\n",
       "      <td>23</td>\n",
       "      <td>821-00-0265</td>\n",
       "      <td>Scientist</td>\n",
       "      <td>19114.12</td>\n",
       "      <td>1824.843</td>\n",
       "      <td>3</td>\n",
       "      <td>4</td>\n",
       "      <td>3</td>\n",
       "      <td>4</td>\n",
       "      <td>Auto Loan, Credit-Builder Loan, Personal Loan,...</td>\n",
       "      <td>3</td>\n",
       "      <td>7</td>\n",
       "      <td>11.27</td>\n",
       "      <td>4.000</td>\n",
       "      <td>_</td>\n",
       "      <td>809.98</td>\n",
       "      <td>26.823</td>\n",
       "      <td>22 Years and 1 Months</td>\n",
       "      <td>No</td>\n",
       "      <td>49.575</td>\n",
       "      <td>80.41529543900253</td>\n",
       "      <td>High_spent_Small_value_payments</td>\n",
       "      <td>312.49408867943663</td>\n",
       "      <td>Good</td>\n",
       "    </tr>\n",
       "    <tr>\n",
       "      <th>1</th>\n",
       "      <td>0x1603</td>\n",
       "      <td>CUS_0xd40</td>\n",
       "      <td>February</td>\n",
       "      <td>Aaron Maashoh</td>\n",
       "      <td>23</td>\n",
       "      <td>821-00-0265</td>\n",
       "      <td>Scientist</td>\n",
       "      <td>19114.12</td>\n",
       "      <td>NaN</td>\n",
       "      <td>3</td>\n",
       "      <td>4</td>\n",
       "      <td>3</td>\n",
       "      <td>4</td>\n",
       "      <td>Auto Loan, Credit-Builder Loan, Personal Loan,...</td>\n",
       "      <td>-1</td>\n",
       "      <td>NaN</td>\n",
       "      <td>11.27</td>\n",
       "      <td>4.000</td>\n",
       "      <td>Good</td>\n",
       "      <td>809.98</td>\n",
       "      <td>31.945</td>\n",
       "      <td>NaN</td>\n",
       "      <td>No</td>\n",
       "      <td>49.575</td>\n",
       "      <td>118.28022162236736</td>\n",
       "      <td>Low_spent_Large_value_payments</td>\n",
       "      <td>284.62916249607184</td>\n",
       "      <td>Good</td>\n",
       "    </tr>\n",
       "    <tr>\n",
       "      <th>2</th>\n",
       "      <td>0x1604</td>\n",
       "      <td>CUS_0xd40</td>\n",
       "      <td>March</td>\n",
       "      <td>Aaron Maashoh</td>\n",
       "      <td>-500</td>\n",
       "      <td>821-00-0265</td>\n",
       "      <td>Scientist</td>\n",
       "      <td>19114.12</td>\n",
       "      <td>NaN</td>\n",
       "      <td>3</td>\n",
       "      <td>4</td>\n",
       "      <td>3</td>\n",
       "      <td>4</td>\n",
       "      <td>Auto Loan, Credit-Builder Loan, Personal Loan,...</td>\n",
       "      <td>3</td>\n",
       "      <td>7</td>\n",
       "      <td>_</td>\n",
       "      <td>4.000</td>\n",
       "      <td>Good</td>\n",
       "      <td>809.98</td>\n",
       "      <td>28.609</td>\n",
       "      <td>22 Years and 3 Months</td>\n",
       "      <td>No</td>\n",
       "      <td>49.575</td>\n",
       "      <td>81.699521264648</td>\n",
       "      <td>Low_spent_Medium_value_payments</td>\n",
       "      <td>331.2098628537912</td>\n",
       "      <td>Good</td>\n",
       "    </tr>\n",
       "  </tbody>\n",
       "</table>\n",
       "</div>"
      ],
      "text/plain": [
       "       ID Customer_ID     Month           Name   Age          SSN Occupation  \\\n",
       "0  0x1602   CUS_0xd40   January  Aaron Maashoh    23  821-00-0265  Scientist   \n",
       "1  0x1603   CUS_0xd40  February  Aaron Maashoh    23  821-00-0265  Scientist   \n",
       "2  0x1604   CUS_0xd40     March  Aaron Maashoh  -500  821-00-0265  Scientist   \n",
       "\n",
       "  Annual_Income  Monthly_Inhand_Salary  Num_Bank_Accounts  Num_Credit_Card  \\\n",
       "0      19114.12               1824.843                  3                4   \n",
       "1      19114.12                    NaN                  3                4   \n",
       "2      19114.12                    NaN                  3                4   \n",
       "\n",
       "   Interest_Rate Num_of_Loan  \\\n",
       "0              3           4   \n",
       "1              3           4   \n",
       "2              3           4   \n",
       "\n",
       "                                        Type_of_Loan  Delay_from_due_date  \\\n",
       "0  Auto Loan, Credit-Builder Loan, Personal Loan,...                    3   \n",
       "1  Auto Loan, Credit-Builder Loan, Personal Loan,...                   -1   \n",
       "2  Auto Loan, Credit-Builder Loan, Personal Loan,...                    3   \n",
       "\n",
       "  Num_of_Delayed_Payment Changed_Credit_Limit  Num_Credit_Inquiries  \\\n",
       "0                      7                11.27                 4.000   \n",
       "1                    NaN                11.27                 4.000   \n",
       "2                      7                    _                 4.000   \n",
       "\n",
       "  Credit_Mix Outstanding_Debt  Credit_Utilization_Ratio  \\\n",
       "0          _           809.98                    26.823   \n",
       "1       Good           809.98                    31.945   \n",
       "2       Good           809.98                    28.609   \n",
       "\n",
       "      Credit_History_Age Payment_of_Min_Amount  Total_EMI_per_month  \\\n",
       "0  22 Years and 1 Months                    No               49.575   \n",
       "1                    NaN                    No               49.575   \n",
       "2  22 Years and 3 Months                    No               49.575   \n",
       "\n",
       "  Amount_invested_monthly                Payment_Behaviour  \\\n",
       "0       80.41529543900253  High_spent_Small_value_payments   \n",
       "1      118.28022162236736   Low_spent_Large_value_payments   \n",
       "2         81.699521264648  Low_spent_Medium_value_payments   \n",
       "\n",
       "      Monthly_Balance Credit_Score  \n",
       "0  312.49408867943663         Good  \n",
       "1  284.62916249607184         Good  \n",
       "2   331.2098628537912         Good  "
      ]
     },
     "execution_count": 2,
     "metadata": {},
     "output_type": "execute_result"
    }
   ],
   "source": [
    "df_origin_train = pd.read_csv('./train.csv')\n",
    "df_train = df_origin_train.copy()\n",
    "df_train.head(3)"
   ]
  },
  {
   "cell_type": "code",
   "execution_count": 3,
   "metadata": {},
   "outputs": [
    {
     "data": {
      "text/html": [
       "<div>\n",
       "<style scoped>\n",
       "    .dataframe tbody tr th:only-of-type {\n",
       "        vertical-align: middle;\n",
       "    }\n",
       "\n",
       "    .dataframe tbody tr th {\n",
       "        vertical-align: top;\n",
       "    }\n",
       "\n",
       "    .dataframe thead th {\n",
       "        text-align: right;\n",
       "    }\n",
       "</style>\n",
       "<table border=\"1\" class=\"dataframe\">\n",
       "  <thead>\n",
       "    <tr style=\"text-align: right;\">\n",
       "      <th></th>\n",
       "      <th>ID</th>\n",
       "      <th>Customer_ID</th>\n",
       "      <th>Month</th>\n",
       "      <th>Name</th>\n",
       "      <th>Age</th>\n",
       "      <th>SSN</th>\n",
       "      <th>Occupation</th>\n",
       "      <th>Annual_Income</th>\n",
       "      <th>Monthly_Inhand_Salary</th>\n",
       "      <th>Num_Bank_Accounts</th>\n",
       "      <th>Num_Credit_Card</th>\n",
       "      <th>Interest_Rate</th>\n",
       "      <th>Num_of_Loan</th>\n",
       "      <th>Type_of_Loan</th>\n",
       "      <th>Delay_from_due_date</th>\n",
       "      <th>Num_of_Delayed_Payment</th>\n",
       "      <th>Changed_Credit_Limit</th>\n",
       "      <th>Num_Credit_Inquiries</th>\n",
       "      <th>Credit_Mix</th>\n",
       "      <th>Outstanding_Debt</th>\n",
       "      <th>Credit_Utilization_Ratio</th>\n",
       "      <th>Credit_History_Age</th>\n",
       "      <th>Payment_of_Min_Amount</th>\n",
       "      <th>Total_EMI_per_month</th>\n",
       "      <th>Amount_invested_monthly</th>\n",
       "      <th>Payment_Behaviour</th>\n",
       "      <th>Monthly_Balance</th>\n",
       "    </tr>\n",
       "  </thead>\n",
       "  <tbody>\n",
       "    <tr>\n",
       "      <th>0</th>\n",
       "      <td>0x160a</td>\n",
       "      <td>CUS_0xd40</td>\n",
       "      <td>September</td>\n",
       "      <td>Aaron Maashoh</td>\n",
       "      <td>23</td>\n",
       "      <td>821-00-0265</td>\n",
       "      <td>Scientist</td>\n",
       "      <td>19114.12</td>\n",
       "      <td>1824.843</td>\n",
       "      <td>3</td>\n",
       "      <td>4</td>\n",
       "      <td>3</td>\n",
       "      <td>4</td>\n",
       "      <td>Auto Loan, Credit-Builder Loan, Personal Loan,...</td>\n",
       "      <td>3</td>\n",
       "      <td>7</td>\n",
       "      <td>11.27</td>\n",
       "      <td>2022.000</td>\n",
       "      <td>Good</td>\n",
       "      <td>809.98</td>\n",
       "      <td>35.030</td>\n",
       "      <td>22 Years and 9 Months</td>\n",
       "      <td>No</td>\n",
       "      <td>49.575</td>\n",
       "      <td>236.64268203272135</td>\n",
       "      <td>Low_spent_Small_value_payments</td>\n",
       "      <td>186.26670208571772</td>\n",
       "    </tr>\n",
       "    <tr>\n",
       "      <th>1</th>\n",
       "      <td>0x160b</td>\n",
       "      <td>CUS_0xd40</td>\n",
       "      <td>October</td>\n",
       "      <td>Aaron Maashoh</td>\n",
       "      <td>24</td>\n",
       "      <td>821-00-0265</td>\n",
       "      <td>Scientist</td>\n",
       "      <td>19114.12</td>\n",
       "      <td>1824.843</td>\n",
       "      <td>3</td>\n",
       "      <td>4</td>\n",
       "      <td>3</td>\n",
       "      <td>4</td>\n",
       "      <td>Auto Loan, Credit-Builder Loan, Personal Loan,...</td>\n",
       "      <td>3</td>\n",
       "      <td>9</td>\n",
       "      <td>13.27</td>\n",
       "      <td>4.000</td>\n",
       "      <td>Good</td>\n",
       "      <td>809.98</td>\n",
       "      <td>33.053</td>\n",
       "      <td>22 Years and 10 Months</td>\n",
       "      <td>No</td>\n",
       "      <td>49.575</td>\n",
       "      <td>21.465380264657146</td>\n",
       "      <td>High_spent_Medium_value_payments</td>\n",
       "      <td>361.44400385378196</td>\n",
       "    </tr>\n",
       "    <tr>\n",
       "      <th>2</th>\n",
       "      <td>0x160c</td>\n",
       "      <td>CUS_0xd40</td>\n",
       "      <td>November</td>\n",
       "      <td>Aaron Maashoh</td>\n",
       "      <td>24</td>\n",
       "      <td>821-00-0265</td>\n",
       "      <td>Scientist</td>\n",
       "      <td>19114.12</td>\n",
       "      <td>1824.843</td>\n",
       "      <td>3</td>\n",
       "      <td>4</td>\n",
       "      <td>3</td>\n",
       "      <td>4</td>\n",
       "      <td>Auto Loan, Credit-Builder Loan, Personal Loan,...</td>\n",
       "      <td>-1</td>\n",
       "      <td>4</td>\n",
       "      <td>12.27</td>\n",
       "      <td>4.000</td>\n",
       "      <td>Good</td>\n",
       "      <td>809.98</td>\n",
       "      <td>33.812</td>\n",
       "      <td>NaN</td>\n",
       "      <td>No</td>\n",
       "      <td>49.575</td>\n",
       "      <td>148.23393788500925</td>\n",
       "      <td>Low_spent_Medium_value_payments</td>\n",
       "      <td>264.67544623342997</td>\n",
       "    </tr>\n",
       "  </tbody>\n",
       "</table>\n",
       "</div>"
      ],
      "text/plain": [
       "       ID Customer_ID      Month           Name Age          SSN Occupation  \\\n",
       "0  0x160a   CUS_0xd40  September  Aaron Maashoh  23  821-00-0265  Scientist   \n",
       "1  0x160b   CUS_0xd40    October  Aaron Maashoh  24  821-00-0265  Scientist   \n",
       "2  0x160c   CUS_0xd40   November  Aaron Maashoh  24  821-00-0265  Scientist   \n",
       "\n",
       "  Annual_Income  Monthly_Inhand_Salary  Num_Bank_Accounts  Num_Credit_Card  \\\n",
       "0      19114.12               1824.843                  3                4   \n",
       "1      19114.12               1824.843                  3                4   \n",
       "2      19114.12               1824.843                  3                4   \n",
       "\n",
       "   Interest_Rate Num_of_Loan  \\\n",
       "0              3           4   \n",
       "1              3           4   \n",
       "2              3           4   \n",
       "\n",
       "                                        Type_of_Loan  Delay_from_due_date  \\\n",
       "0  Auto Loan, Credit-Builder Loan, Personal Loan,...                    3   \n",
       "1  Auto Loan, Credit-Builder Loan, Personal Loan,...                    3   \n",
       "2  Auto Loan, Credit-Builder Loan, Personal Loan,...                   -1   \n",
       "\n",
       "  Num_of_Delayed_Payment Changed_Credit_Limit  Num_Credit_Inquiries  \\\n",
       "0                      7                11.27              2022.000   \n",
       "1                      9                13.27                 4.000   \n",
       "2                      4                12.27                 4.000   \n",
       "\n",
       "  Credit_Mix Outstanding_Debt  Credit_Utilization_Ratio  \\\n",
       "0       Good           809.98                    35.030   \n",
       "1       Good           809.98                    33.053   \n",
       "2       Good           809.98                    33.812   \n",
       "\n",
       "       Credit_History_Age Payment_of_Min_Amount  Total_EMI_per_month  \\\n",
       "0   22 Years and 9 Months                    No               49.575   \n",
       "1  22 Years and 10 Months                    No               49.575   \n",
       "2                     NaN                    No               49.575   \n",
       "\n",
       "  Amount_invested_monthly                 Payment_Behaviour  \\\n",
       "0      236.64268203272135    Low_spent_Small_value_payments   \n",
       "1      21.465380264657146  High_spent_Medium_value_payments   \n",
       "2      148.23393788500925   Low_spent_Medium_value_payments   \n",
       "\n",
       "      Monthly_Balance  \n",
       "0  186.26670208571772  \n",
       "1  361.44400385378196  \n",
       "2  264.67544623342997  "
      ]
     },
     "execution_count": 3,
     "metadata": {},
     "output_type": "execute_result"
    }
   ],
   "source": [
    "df_origin_test = pd.read_csv('./test.csv')\n",
    "df_test = df_origin_test.copy()\n",
    "df_test.head(3)"
   ]
  },
  {
   "cell_type": "markdown",
   "metadata": {},
   "source": [
    "<a id=\"3\"></a>\n",
    "<p style=\"background-color:plum; color:floralwhite; font-size:175%; text-align:center; border-radius:10px 10px; font-family:newtimeroman; line-height: 1.4;\"><b>Recognizing and Understanding Data</b></p>\n",
    "\n",
    "<a href=\"#content\" class=\"btn btn-primary btn-sm\" role=\"button\" aria-pressed=\"true\" style=\"color:blue; background-color:#dfa8e4\" data-toggle=\"popover\">Content</a>\n",
    "\n",
    "01. Reading the Data from File\n",
    "02. Try to understand what the data looks like\n",
    "03. Examining the Data\n",
    "04. Fixing a data type\n",
    "05. Combining object columns"
   ]
  },
  {
   "cell_type": "markdown",
   "metadata": {
    "id": "Y_VGwqWCjwOH"
   },
   "source": [
    "## Try to understand what the data looks like\n",
    "- Check the head, shape, data-types of the features.\n",
    "- Check if there are some dublicate rows or not. If there are, then drop them. \n",
    "- Check the statistical values of features.\n",
    "- Basically check the missing values. (NaN, None)\n",
    "- If needed, rename the columns' names for easy use."
   ]
  },
  {
   "cell_type": "markdown",
   "metadata": {},
   "source": [
    "### Check the head, shape, data-types of the features."
   ]
  },
  {
   "cell_type": "code",
   "execution_count": 4,
   "metadata": {},
   "outputs": [
    {
     "data": {
      "text/plain": [
       "((100000, 28), (50000, 27))"
      ]
     },
     "execution_count": 4,
     "metadata": {},
     "output_type": "execute_result"
    }
   ],
   "source": [
    "df_train.shape, df_test.shape"
   ]
  },
  {
   "cell_type": "code",
   "execution_count": 5,
   "metadata": {},
   "outputs": [
    {
     "name": "stdout",
     "output_type": "stream",
     "text": [
      "<class 'pandas.core.frame.DataFrame'>\n",
      "RangeIndex: 100000 entries, 0 to 99999\n",
      "Data columns (total 28 columns):\n",
      " #   Column                    Non-Null Count   Dtype  \n",
      "---  ------                    --------------   -----  \n",
      " 0   ID                        100000 non-null  object \n",
      " 1   Customer_ID               100000 non-null  object \n",
      " 2   Month                     100000 non-null  object \n",
      " 3   Name                      90015 non-null   object \n",
      " 4   Age                       100000 non-null  object \n",
      " 5   SSN                       100000 non-null  object \n",
      " 6   Occupation                100000 non-null  object \n",
      " 7   Annual_Income             100000 non-null  object \n",
      " 8   Monthly_Inhand_Salary     84998 non-null   float64\n",
      " 9   Num_Bank_Accounts         100000 non-null  int64  \n",
      " 10  Num_Credit_Card           100000 non-null  int64  \n",
      " 11  Interest_Rate             100000 non-null  int64  \n",
      " 12  Num_of_Loan               100000 non-null  object \n",
      " 13  Type_of_Loan              88592 non-null   object \n",
      " 14  Delay_from_due_date       100000 non-null  int64  \n",
      " 15  Num_of_Delayed_Payment    92998 non-null   object \n",
      " 16  Changed_Credit_Limit      100000 non-null  object \n",
      " 17  Num_Credit_Inquiries      98035 non-null   float64\n",
      " 18  Credit_Mix                100000 non-null  object \n",
      " 19  Outstanding_Debt          100000 non-null  object \n",
      " 20  Credit_Utilization_Ratio  100000 non-null  float64\n",
      " 21  Credit_History_Age        90970 non-null   object \n",
      " 22  Payment_of_Min_Amount     100000 non-null  object \n",
      " 23  Total_EMI_per_month       100000 non-null  float64\n",
      " 24  Amount_invested_monthly   95521 non-null   object \n",
      " 25  Payment_Behaviour         100000 non-null  object \n",
      " 26  Monthly_Balance           98800 non-null   object \n",
      " 27  Credit_Score              100000 non-null  object \n",
      "dtypes: float64(4), int64(4), object(20)\n",
      "memory usage: 21.4+ MB\n",
      "\n",
      "<class 'pandas.core.frame.DataFrame'>\n",
      "RangeIndex: 50000 entries, 0 to 49999\n",
      "Data columns (total 27 columns):\n",
      " #   Column                    Non-Null Count  Dtype  \n",
      "---  ------                    --------------  -----  \n",
      " 0   ID                        50000 non-null  object \n",
      " 1   Customer_ID               50000 non-null  object \n",
      " 2   Month                     50000 non-null  object \n",
      " 3   Name                      44985 non-null  object \n",
      " 4   Age                       50000 non-null  object \n",
      " 5   SSN                       50000 non-null  object \n",
      " 6   Occupation                50000 non-null  object \n",
      " 7   Annual_Income             50000 non-null  object \n",
      " 8   Monthly_Inhand_Salary     42502 non-null  float64\n",
      " 9   Num_Bank_Accounts         50000 non-null  int64  \n",
      " 10  Num_Credit_Card           50000 non-null  int64  \n",
      " 11  Interest_Rate             50000 non-null  int64  \n",
      " 12  Num_of_Loan               50000 non-null  object \n",
      " 13  Type_of_Loan              44296 non-null  object \n",
      " 14  Delay_from_due_date       50000 non-null  int64  \n",
      " 15  Num_of_Delayed_Payment    46502 non-null  object \n",
      " 16  Changed_Credit_Limit      50000 non-null  object \n",
      " 17  Num_Credit_Inquiries      48965 non-null  float64\n",
      " 18  Credit_Mix                50000 non-null  object \n",
      " 19  Outstanding_Debt          50000 non-null  object \n",
      " 20  Credit_Utilization_Ratio  50000 non-null  float64\n",
      " 21  Credit_History_Age        45530 non-null  object \n",
      " 22  Payment_of_Min_Amount     50000 non-null  object \n",
      " 23  Total_EMI_per_month       50000 non-null  float64\n",
      " 24  Amount_invested_monthly   47729 non-null  object \n",
      " 25  Payment_Behaviour         50000 non-null  object \n",
      " 26  Monthly_Balance           49438 non-null  object \n",
      "dtypes: float64(4), int64(4), object(19)\n",
      "memory usage: 10.3+ MB\n"
     ]
    },
    {
     "data": {
      "text/plain": [
       "None"
      ]
     },
     "metadata": {},
     "output_type": "display_data"
    },
    {
     "data": {
      "text/plain": [
       "None"
      ]
     },
     "metadata": {},
     "output_type": "display_data"
    },
    {
     "data": {
      "text/plain": [
       "None"
      ]
     },
     "metadata": {},
     "output_type": "display_data"
    }
   ],
   "source": [
    "display(\n",
    "    df_train.info(), \n",
    "    print(), \n",
    "    df_test.info()\n",
    ")"
   ]
  },
  {
   "cell_type": "markdown",
   "metadata": {},
   "source": [
    "* Firstly, the training set as approximately have 2 times the test  sample size. \n",
    "\n",
    "* Secondly, It's worth noticing that the test set contains one veraible less than the training set. Obviously, we might suspect that this variable is \"Credit_Score\" since our purpose is to predict its value based on the test set. Consequently, our training set is a labeled one setting up a supervised learning framework. \n",
    "\n",
    "* Finally, the raw data displayed reveals that there are some quasi-constant Features: One of the values is dominant. No worries, we will certainly tackle this issue later on while processing numerical features. \n",
    "\n",
    "But at this point, let's clean data, and then continue check the second claim using the next commands."
   ]
  },
  {
   "cell_type": "markdown",
   "metadata": {},
   "source": [
    "### Check if there are some dublicate rows or not. If there are, then drop them."
   ]
  },
  {
   "cell_type": "code",
   "execution_count": 6,
   "metadata": {},
   "outputs": [
    {
     "name": "stdout",
     "output_type": "stream",
     "text": [
      "\n"
     ]
    },
    {
     "data": {
      "text/plain": [
       "False    100000\n",
       "dtype: int64"
      ]
     },
     "metadata": {},
     "output_type": "display_data"
    },
    {
     "data": {
      "text/plain": [
       "None"
      ]
     },
     "metadata": {},
     "output_type": "display_data"
    },
    {
     "data": {
      "text/plain": [
       "False    50000\n",
       "dtype: int64"
      ]
     },
     "metadata": {},
     "output_type": "display_data"
    }
   ],
   "source": [
    "display(\n",
    "    df_train.duplicated().value_counts(), \n",
    "    print(), \n",
    "    df_test.duplicated().value_counts()\n",
    ")"
   ]
  },
  {
   "cell_type": "markdown",
   "metadata": {},
   "source": [
    "### Check the statistical values of features."
   ]
  },
  {
   "cell_type": "code",
   "execution_count": 7,
   "metadata": {},
   "outputs": [
    {
     "name": "stdout",
     "output_type": "stream",
     "text": [
      "\n"
     ]
    },
    {
     "data": {
      "text/html": [
       "<div>\n",
       "<style scoped>\n",
       "    .dataframe tbody tr th:only-of-type {\n",
       "        vertical-align: middle;\n",
       "    }\n",
       "\n",
       "    .dataframe tbody tr th {\n",
       "        vertical-align: top;\n",
       "    }\n",
       "\n",
       "    .dataframe thead th {\n",
       "        text-align: right;\n",
       "    }\n",
       "</style>\n",
       "<table border=\"1\" class=\"dataframe\">\n",
       "  <thead>\n",
       "    <tr style=\"text-align: right;\">\n",
       "      <th></th>\n",
       "      <th>count</th>\n",
       "      <th>mean</th>\n",
       "      <th>std</th>\n",
       "      <th>min</th>\n",
       "      <th>25%</th>\n",
       "      <th>50%</th>\n",
       "      <th>75%</th>\n",
       "      <th>max</th>\n",
       "    </tr>\n",
       "  </thead>\n",
       "  <tbody>\n",
       "    <tr>\n",
       "      <th>Monthly_Inhand_Salary</th>\n",
       "      <td>84998.000</td>\n",
       "      <td>4194.171</td>\n",
       "      <td>3183.686</td>\n",
       "      <td>303.645</td>\n",
       "      <td>1625.568</td>\n",
       "      <td>3093.745</td>\n",
       "      <td>5957.448</td>\n",
       "      <td>15204.633</td>\n",
       "    </tr>\n",
       "    <tr>\n",
       "      <th>Num_Bank_Accounts</th>\n",
       "      <td>100000.000</td>\n",
       "      <td>17.091</td>\n",
       "      <td>117.405</td>\n",
       "      <td>-1.000</td>\n",
       "      <td>3.000</td>\n",
       "      <td>6.000</td>\n",
       "      <td>7.000</td>\n",
       "      <td>1798.000</td>\n",
       "    </tr>\n",
       "    <tr>\n",
       "      <th>Num_Credit_Card</th>\n",
       "      <td>100000.000</td>\n",
       "      <td>22.474</td>\n",
       "      <td>129.057</td>\n",
       "      <td>0.000</td>\n",
       "      <td>4.000</td>\n",
       "      <td>5.000</td>\n",
       "      <td>7.000</td>\n",
       "      <td>1499.000</td>\n",
       "    </tr>\n",
       "    <tr>\n",
       "      <th>Interest_Rate</th>\n",
       "      <td>100000.000</td>\n",
       "      <td>72.466</td>\n",
       "      <td>466.423</td>\n",
       "      <td>1.000</td>\n",
       "      <td>8.000</td>\n",
       "      <td>13.000</td>\n",
       "      <td>20.000</td>\n",
       "      <td>5797.000</td>\n",
       "    </tr>\n",
       "    <tr>\n",
       "      <th>Delay_from_due_date</th>\n",
       "      <td>100000.000</td>\n",
       "      <td>21.069</td>\n",
       "      <td>14.860</td>\n",
       "      <td>-5.000</td>\n",
       "      <td>10.000</td>\n",
       "      <td>18.000</td>\n",
       "      <td>28.000</td>\n",
       "      <td>67.000</td>\n",
       "    </tr>\n",
       "    <tr>\n",
       "      <th>Num_Credit_Inquiries</th>\n",
       "      <td>98035.000</td>\n",
       "      <td>27.754</td>\n",
       "      <td>193.177</td>\n",
       "      <td>0.000</td>\n",
       "      <td>3.000</td>\n",
       "      <td>6.000</td>\n",
       "      <td>9.000</td>\n",
       "      <td>2597.000</td>\n",
       "    </tr>\n",
       "    <tr>\n",
       "      <th>Credit_Utilization_Ratio</th>\n",
       "      <td>100000.000</td>\n",
       "      <td>32.285</td>\n",
       "      <td>5.117</td>\n",
       "      <td>20.000</td>\n",
       "      <td>28.053</td>\n",
       "      <td>32.306</td>\n",
       "      <td>36.497</td>\n",
       "      <td>50.000</td>\n",
       "    </tr>\n",
       "    <tr>\n",
       "      <th>Total_EMI_per_month</th>\n",
       "      <td>100000.000</td>\n",
       "      <td>1403.118</td>\n",
       "      <td>8306.041</td>\n",
       "      <td>0.000</td>\n",
       "      <td>30.307</td>\n",
       "      <td>69.249</td>\n",
       "      <td>161.224</td>\n",
       "      <td>82331.000</td>\n",
       "    </tr>\n",
       "  </tbody>\n",
       "</table>\n",
       "</div>"
      ],
      "text/plain": [
       "                              count     mean      std     min      25%  \\\n",
       "Monthly_Inhand_Salary     84998.000 4194.171 3183.686 303.645 1625.568   \n",
       "Num_Bank_Accounts        100000.000   17.091  117.405  -1.000    3.000   \n",
       "Num_Credit_Card          100000.000   22.474  129.057   0.000    4.000   \n",
       "Interest_Rate            100000.000   72.466  466.423   1.000    8.000   \n",
       "Delay_from_due_date      100000.000   21.069   14.860  -5.000   10.000   \n",
       "Num_Credit_Inquiries      98035.000   27.754  193.177   0.000    3.000   \n",
       "Credit_Utilization_Ratio 100000.000   32.285    5.117  20.000   28.053   \n",
       "Total_EMI_per_month      100000.000 1403.118 8306.041   0.000   30.307   \n",
       "\n",
       "                              50%      75%       max  \n",
       "Monthly_Inhand_Salary    3093.745 5957.448 15204.633  \n",
       "Num_Bank_Accounts           6.000    7.000  1798.000  \n",
       "Num_Credit_Card             5.000    7.000  1499.000  \n",
       "Interest_Rate              13.000   20.000  5797.000  \n",
       "Delay_from_due_date        18.000   28.000    67.000  \n",
       "Num_Credit_Inquiries        6.000    9.000  2597.000  \n",
       "Credit_Utilization_Ratio   32.306   36.497    50.000  \n",
       "Total_EMI_per_month        69.249  161.224 82331.000  "
      ]
     },
     "metadata": {},
     "output_type": "display_data"
    },
    {
     "data": {
      "text/plain": [
       "None"
      ]
     },
     "metadata": {},
     "output_type": "display_data"
    },
    {
     "data": {
      "text/html": [
       "<div>\n",
       "<style scoped>\n",
       "    .dataframe tbody tr th:only-of-type {\n",
       "        vertical-align: middle;\n",
       "    }\n",
       "\n",
       "    .dataframe tbody tr th {\n",
       "        vertical-align: top;\n",
       "    }\n",
       "\n",
       "    .dataframe thead th {\n",
       "        text-align: right;\n",
       "    }\n",
       "</style>\n",
       "<table border=\"1\" class=\"dataframe\">\n",
       "  <thead>\n",
       "    <tr style=\"text-align: right;\">\n",
       "      <th></th>\n",
       "      <th>count</th>\n",
       "      <th>mean</th>\n",
       "      <th>std</th>\n",
       "      <th>min</th>\n",
       "      <th>25%</th>\n",
       "      <th>50%</th>\n",
       "      <th>75%</th>\n",
       "      <th>max</th>\n",
       "    </tr>\n",
       "  </thead>\n",
       "  <tbody>\n",
       "    <tr>\n",
       "      <th>Monthly_Inhand_Salary</th>\n",
       "      <td>42502.000</td>\n",
       "      <td>4182.004</td>\n",
       "      <td>3174.109</td>\n",
       "      <td>303.645</td>\n",
       "      <td>1625.188</td>\n",
       "      <td>3086.305</td>\n",
       "      <td>5934.189</td>\n",
       "      <td>15204.633</td>\n",
       "    </tr>\n",
       "    <tr>\n",
       "      <th>Num_Bank_Accounts</th>\n",
       "      <td>50000.000</td>\n",
       "      <td>16.838</td>\n",
       "      <td>116.397</td>\n",
       "      <td>-1.000</td>\n",
       "      <td>3.000</td>\n",
       "      <td>6.000</td>\n",
       "      <td>7.000</td>\n",
       "      <td>1798.000</td>\n",
       "    </tr>\n",
       "    <tr>\n",
       "      <th>Num_Credit_Card</th>\n",
       "      <td>50000.000</td>\n",
       "      <td>22.921</td>\n",
       "      <td>129.315</td>\n",
       "      <td>0.000</td>\n",
       "      <td>4.000</td>\n",
       "      <td>5.000</td>\n",
       "      <td>7.000</td>\n",
       "      <td>1499.000</td>\n",
       "    </tr>\n",
       "    <tr>\n",
       "      <th>Interest_Rate</th>\n",
       "      <td>50000.000</td>\n",
       "      <td>68.773</td>\n",
       "      <td>451.602</td>\n",
       "      <td>1.000</td>\n",
       "      <td>8.000</td>\n",
       "      <td>13.000</td>\n",
       "      <td>20.000</td>\n",
       "      <td>5799.000</td>\n",
       "    </tr>\n",
       "    <tr>\n",
       "      <th>Delay_from_due_date</th>\n",
       "      <td>50000.000</td>\n",
       "      <td>21.053</td>\n",
       "      <td>14.860</td>\n",
       "      <td>-5.000</td>\n",
       "      <td>10.000</td>\n",
       "      <td>18.000</td>\n",
       "      <td>28.000</td>\n",
       "      <td>67.000</td>\n",
       "    </tr>\n",
       "    <tr>\n",
       "      <th>Num_Credit_Inquiries</th>\n",
       "      <td>48965.000</td>\n",
       "      <td>30.080</td>\n",
       "      <td>196.984</td>\n",
       "      <td>0.000</td>\n",
       "      <td>4.000</td>\n",
       "      <td>7.000</td>\n",
       "      <td>10.000</td>\n",
       "      <td>2593.000</td>\n",
       "    </tr>\n",
       "    <tr>\n",
       "      <th>Credit_Utilization_Ratio</th>\n",
       "      <td>50000.000</td>\n",
       "      <td>32.280</td>\n",
       "      <td>5.106</td>\n",
       "      <td>20.510</td>\n",
       "      <td>28.061</td>\n",
       "      <td>32.280</td>\n",
       "      <td>36.469</td>\n",
       "      <td>48.541</td>\n",
       "    </tr>\n",
       "    <tr>\n",
       "      <th>Total_EMI_per_month</th>\n",
       "      <td>50000.000</td>\n",
       "      <td>1491.304</td>\n",
       "      <td>8595.648</td>\n",
       "      <td>0.000</td>\n",
       "      <td>32.222</td>\n",
       "      <td>74.733</td>\n",
       "      <td>176.157</td>\n",
       "      <td>82398.000</td>\n",
       "    </tr>\n",
       "  </tbody>\n",
       "</table>\n",
       "</div>"
      ],
      "text/plain": [
       "                             count     mean      std     min      25%  \\\n",
       "Monthly_Inhand_Salary    42502.000 4182.004 3174.109 303.645 1625.188   \n",
       "Num_Bank_Accounts        50000.000   16.838  116.397  -1.000    3.000   \n",
       "Num_Credit_Card          50000.000   22.921  129.315   0.000    4.000   \n",
       "Interest_Rate            50000.000   68.773  451.602   1.000    8.000   \n",
       "Delay_from_due_date      50000.000   21.053   14.860  -5.000   10.000   \n",
       "Num_Credit_Inquiries     48965.000   30.080  196.984   0.000    4.000   \n",
       "Credit_Utilization_Ratio 50000.000   32.280    5.106  20.510   28.061   \n",
       "Total_EMI_per_month      50000.000 1491.304 8595.648   0.000   32.222   \n",
       "\n",
       "                              50%      75%       max  \n",
       "Monthly_Inhand_Salary    3086.305 5934.189 15204.633  \n",
       "Num_Bank_Accounts           6.000    7.000  1798.000  \n",
       "Num_Credit_Card             5.000    7.000  1499.000  \n",
       "Interest_Rate              13.000   20.000  5799.000  \n",
       "Delay_from_due_date        18.000   28.000    67.000  \n",
       "Num_Credit_Inquiries        7.000   10.000  2593.000  \n",
       "Credit_Utilization_Ratio   32.280   36.469    48.541  \n",
       "Total_EMI_per_month        74.733  176.157 82398.000  "
      ]
     },
     "metadata": {},
     "output_type": "display_data"
    }
   ],
   "source": [
    "display(\n",
    "    df_train.describe().T, \n",
    "    print(), \n",
    "    df_test.describe().T\n",
    ")"
   ]
  },
  {
   "cell_type": "code",
   "execution_count": 8,
   "metadata": {},
   "outputs": [
    {
     "name": "stdout",
     "output_type": "stream",
     "text": [
      "\n"
     ]
    },
    {
     "data": {
      "text/html": [
       "<div>\n",
       "<style scoped>\n",
       "    .dataframe tbody tr th:only-of-type {\n",
       "        vertical-align: middle;\n",
       "    }\n",
       "\n",
       "    .dataframe tbody tr th {\n",
       "        vertical-align: top;\n",
       "    }\n",
       "\n",
       "    .dataframe thead th {\n",
       "        text-align: right;\n",
       "    }\n",
       "</style>\n",
       "<table border=\"1\" class=\"dataframe\">\n",
       "  <thead>\n",
       "    <tr style=\"text-align: right;\">\n",
       "      <th></th>\n",
       "      <th>count</th>\n",
       "      <th>unique</th>\n",
       "      <th>top</th>\n",
       "      <th>freq</th>\n",
       "    </tr>\n",
       "  </thead>\n",
       "  <tbody>\n",
       "    <tr>\n",
       "      <th>ID</th>\n",
       "      <td>100000</td>\n",
       "      <td>100000</td>\n",
       "      <td>0x1602</td>\n",
       "      <td>1</td>\n",
       "    </tr>\n",
       "    <tr>\n",
       "      <th>Customer_ID</th>\n",
       "      <td>100000</td>\n",
       "      <td>12500</td>\n",
       "      <td>CUS_0xd40</td>\n",
       "      <td>8</td>\n",
       "    </tr>\n",
       "    <tr>\n",
       "      <th>Month</th>\n",
       "      <td>100000</td>\n",
       "      <td>8</td>\n",
       "      <td>January</td>\n",
       "      <td>12500</td>\n",
       "    </tr>\n",
       "    <tr>\n",
       "      <th>Name</th>\n",
       "      <td>90015</td>\n",
       "      <td>10139</td>\n",
       "      <td>Langep</td>\n",
       "      <td>44</td>\n",
       "    </tr>\n",
       "    <tr>\n",
       "      <th>Age</th>\n",
       "      <td>100000</td>\n",
       "      <td>1788</td>\n",
       "      <td>38</td>\n",
       "      <td>2833</td>\n",
       "    </tr>\n",
       "    <tr>\n",
       "      <th>SSN</th>\n",
       "      <td>100000</td>\n",
       "      <td>12501</td>\n",
       "      <td>#F%$D@*&amp;8</td>\n",
       "      <td>5572</td>\n",
       "    </tr>\n",
       "    <tr>\n",
       "      <th>Occupation</th>\n",
       "      <td>100000</td>\n",
       "      <td>16</td>\n",
       "      <td>_______</td>\n",
       "      <td>7062</td>\n",
       "    </tr>\n",
       "    <tr>\n",
       "      <th>Annual_Income</th>\n",
       "      <td>100000</td>\n",
       "      <td>18940</td>\n",
       "      <td>36585.12</td>\n",
       "      <td>16</td>\n",
       "    </tr>\n",
       "    <tr>\n",
       "      <th>Num_of_Loan</th>\n",
       "      <td>100000</td>\n",
       "      <td>434</td>\n",
       "      <td>3</td>\n",
       "      <td>14386</td>\n",
       "    </tr>\n",
       "    <tr>\n",
       "      <th>Type_of_Loan</th>\n",
       "      <td>88592</td>\n",
       "      <td>6260</td>\n",
       "      <td>Not Specified</td>\n",
       "      <td>1408</td>\n",
       "    </tr>\n",
       "    <tr>\n",
       "      <th>Num_of_Delayed_Payment</th>\n",
       "      <td>92998</td>\n",
       "      <td>749</td>\n",
       "      <td>19</td>\n",
       "      <td>5327</td>\n",
       "    </tr>\n",
       "    <tr>\n",
       "      <th>Changed_Credit_Limit</th>\n",
       "      <td>100000</td>\n",
       "      <td>4384</td>\n",
       "      <td>_</td>\n",
       "      <td>2091</td>\n",
       "    </tr>\n",
       "    <tr>\n",
       "      <th>Credit_Mix</th>\n",
       "      <td>100000</td>\n",
       "      <td>4</td>\n",
       "      <td>Standard</td>\n",
       "      <td>36479</td>\n",
       "    </tr>\n",
       "    <tr>\n",
       "      <th>Outstanding_Debt</th>\n",
       "      <td>100000</td>\n",
       "      <td>13178</td>\n",
       "      <td>1360.45</td>\n",
       "      <td>24</td>\n",
       "    </tr>\n",
       "    <tr>\n",
       "      <th>Credit_History_Age</th>\n",
       "      <td>90970</td>\n",
       "      <td>404</td>\n",
       "      <td>15 Years and 11 Months</td>\n",
       "      <td>446</td>\n",
       "    </tr>\n",
       "    <tr>\n",
       "      <th>Payment_of_Min_Amount</th>\n",
       "      <td>100000</td>\n",
       "      <td>3</td>\n",
       "      <td>Yes</td>\n",
       "      <td>52326</td>\n",
       "    </tr>\n",
       "    <tr>\n",
       "      <th>Amount_invested_monthly</th>\n",
       "      <td>95521</td>\n",
       "      <td>91049</td>\n",
       "      <td>__10000__</td>\n",
       "      <td>4305</td>\n",
       "    </tr>\n",
       "    <tr>\n",
       "      <th>Payment_Behaviour</th>\n",
       "      <td>100000</td>\n",
       "      <td>7</td>\n",
       "      <td>Low_spent_Small_value_payments</td>\n",
       "      <td>25513</td>\n",
       "    </tr>\n",
       "    <tr>\n",
       "      <th>Monthly_Balance</th>\n",
       "      <td>98800</td>\n",
       "      <td>98792</td>\n",
       "      <td>__-333333333333333333333333333__</td>\n",
       "      <td>9</td>\n",
       "    </tr>\n",
       "    <tr>\n",
       "      <th>Credit_Score</th>\n",
       "      <td>100000</td>\n",
       "      <td>3</td>\n",
       "      <td>Standard</td>\n",
       "      <td>53174</td>\n",
       "    </tr>\n",
       "  </tbody>\n",
       "</table>\n",
       "</div>"
      ],
      "text/plain": [
       "                          count  unique                               top  \\\n",
       "ID                       100000  100000                            0x1602   \n",
       "Customer_ID              100000   12500                         CUS_0xd40   \n",
       "Month                    100000       8                           January   \n",
       "Name                      90015   10139                            Langep   \n",
       "Age                      100000    1788                                38   \n",
       "SSN                      100000   12501                         #F%$D@*&8   \n",
       "Occupation               100000      16                           _______   \n",
       "Annual_Income            100000   18940                          36585.12   \n",
       "Num_of_Loan              100000     434                                 3   \n",
       "Type_of_Loan              88592    6260                     Not Specified   \n",
       "Num_of_Delayed_Payment    92998     749                                19   \n",
       "Changed_Credit_Limit     100000    4384                                 _   \n",
       "Credit_Mix               100000       4                          Standard   \n",
       "Outstanding_Debt         100000   13178                           1360.45   \n",
       "Credit_History_Age        90970     404            15 Years and 11 Months   \n",
       "Payment_of_Min_Amount    100000       3                               Yes   \n",
       "Amount_invested_monthly   95521   91049                         __10000__   \n",
       "Payment_Behaviour        100000       7    Low_spent_Small_value_payments   \n",
       "Monthly_Balance           98800   98792  __-333333333333333333333333333__   \n",
       "Credit_Score             100000       3                          Standard   \n",
       "\n",
       "                          freq  \n",
       "ID                           1  \n",
       "Customer_ID                  8  \n",
       "Month                    12500  \n",
       "Name                        44  \n",
       "Age                       2833  \n",
       "SSN                       5572  \n",
       "Occupation                7062  \n",
       "Annual_Income               16  \n",
       "Num_of_Loan              14386  \n",
       "Type_of_Loan              1408  \n",
       "Num_of_Delayed_Payment    5327  \n",
       "Changed_Credit_Limit      2091  \n",
       "Credit_Mix               36479  \n",
       "Outstanding_Debt            24  \n",
       "Credit_History_Age         446  \n",
       "Payment_of_Min_Amount    52326  \n",
       "Amount_invested_monthly   4305  \n",
       "Payment_Behaviour        25513  \n",
       "Monthly_Balance              9  \n",
       "Credit_Score             53174  "
      ]
     },
     "metadata": {},
     "output_type": "display_data"
    },
    {
     "data": {
      "text/plain": [
       "None"
      ]
     },
     "metadata": {},
     "output_type": "display_data"
    },
    {
     "data": {
      "text/html": [
       "<div>\n",
       "<style scoped>\n",
       "    .dataframe tbody tr th:only-of-type {\n",
       "        vertical-align: middle;\n",
       "    }\n",
       "\n",
       "    .dataframe tbody tr th {\n",
       "        vertical-align: top;\n",
       "    }\n",
       "\n",
       "    .dataframe thead th {\n",
       "        text-align: right;\n",
       "    }\n",
       "</style>\n",
       "<table border=\"1\" class=\"dataframe\">\n",
       "  <thead>\n",
       "    <tr style=\"text-align: right;\">\n",
       "      <th></th>\n",
       "      <th>count</th>\n",
       "      <th>unique</th>\n",
       "      <th>top</th>\n",
       "      <th>freq</th>\n",
       "    </tr>\n",
       "  </thead>\n",
       "  <tbody>\n",
       "    <tr>\n",
       "      <th>ID</th>\n",
       "      <td>50000</td>\n",
       "      <td>50000</td>\n",
       "      <td>0x160a</td>\n",
       "      <td>1</td>\n",
       "    </tr>\n",
       "    <tr>\n",
       "      <th>Customer_ID</th>\n",
       "      <td>50000</td>\n",
       "      <td>12500</td>\n",
       "      <td>CUS_0xd40</td>\n",
       "      <td>4</td>\n",
       "    </tr>\n",
       "    <tr>\n",
       "      <th>Month</th>\n",
       "      <td>50000</td>\n",
       "      <td>4</td>\n",
       "      <td>September</td>\n",
       "      <td>12500</td>\n",
       "    </tr>\n",
       "    <tr>\n",
       "      <th>Name</th>\n",
       "      <td>44985</td>\n",
       "      <td>10139</td>\n",
       "      <td>Stevex</td>\n",
       "      <td>22</td>\n",
       "    </tr>\n",
       "    <tr>\n",
       "      <th>Age</th>\n",
       "      <td>50000</td>\n",
       "      <td>976</td>\n",
       "      <td>39</td>\n",
       "      <td>1493</td>\n",
       "    </tr>\n",
       "    <tr>\n",
       "      <th>SSN</th>\n",
       "      <td>50000</td>\n",
       "      <td>12501</td>\n",
       "      <td>#F%$D@*&amp;8</td>\n",
       "      <td>2828</td>\n",
       "    </tr>\n",
       "    <tr>\n",
       "      <th>Occupation</th>\n",
       "      <td>50000</td>\n",
       "      <td>16</td>\n",
       "      <td>_______</td>\n",
       "      <td>3438</td>\n",
       "    </tr>\n",
       "    <tr>\n",
       "      <th>Annual_Income</th>\n",
       "      <td>50000</td>\n",
       "      <td>16121</td>\n",
       "      <td>109945.32</td>\n",
       "      <td>8</td>\n",
       "    </tr>\n",
       "    <tr>\n",
       "      <th>Num_of_Loan</th>\n",
       "      <td>50000</td>\n",
       "      <td>263</td>\n",
       "      <td>2</td>\n",
       "      <td>7173</td>\n",
       "    </tr>\n",
       "    <tr>\n",
       "      <th>Type_of_Loan</th>\n",
       "      <td>44296</td>\n",
       "      <td>6260</td>\n",
       "      <td>Not Specified</td>\n",
       "      <td>704</td>\n",
       "    </tr>\n",
       "    <tr>\n",
       "      <th>Num_of_Delayed_Payment</th>\n",
       "      <td>46502</td>\n",
       "      <td>443</td>\n",
       "      <td>19</td>\n",
       "      <td>2622</td>\n",
       "    </tr>\n",
       "    <tr>\n",
       "      <th>Changed_Credit_Limit</th>\n",
       "      <td>50000</td>\n",
       "      <td>3927</td>\n",
       "      <td>_</td>\n",
       "      <td>1059</td>\n",
       "    </tr>\n",
       "    <tr>\n",
       "      <th>Credit_Mix</th>\n",
       "      <td>50000</td>\n",
       "      <td>4</td>\n",
       "      <td>Standard</td>\n",
       "      <td>18379</td>\n",
       "    </tr>\n",
       "    <tr>\n",
       "      <th>Outstanding_Debt</th>\n",
       "      <td>50000</td>\n",
       "      <td>12685</td>\n",
       "      <td>1109.03</td>\n",
       "      <td>12</td>\n",
       "    </tr>\n",
       "    <tr>\n",
       "      <th>Credit_History_Age</th>\n",
       "      <td>45530</td>\n",
       "      <td>399</td>\n",
       "      <td>20 Years and 1 Months</td>\n",
       "      <td>254</td>\n",
       "    </tr>\n",
       "    <tr>\n",
       "      <th>Payment_of_Min_Amount</th>\n",
       "      <td>50000</td>\n",
       "      <td>3</td>\n",
       "      <td>Yes</td>\n",
       "      <td>26158</td>\n",
       "    </tr>\n",
       "    <tr>\n",
       "      <th>Amount_invested_monthly</th>\n",
       "      <td>47729</td>\n",
       "      <td>45450</td>\n",
       "      <td>__10000__</td>\n",
       "      <td>2175</td>\n",
       "    </tr>\n",
       "    <tr>\n",
       "      <th>Payment_Behaviour</th>\n",
       "      <td>50000</td>\n",
       "      <td>7</td>\n",
       "      <td>Low_spent_Small_value_payments</td>\n",
       "      <td>12694</td>\n",
       "    </tr>\n",
       "    <tr>\n",
       "      <th>Monthly_Balance</th>\n",
       "      <td>49438</td>\n",
       "      <td>49433</td>\n",
       "      <td>__-333333333333333333333333333__</td>\n",
       "      <td>6</td>\n",
       "    </tr>\n",
       "  </tbody>\n",
       "</table>\n",
       "</div>"
      ],
      "text/plain": [
       "                         count unique                               top   freq\n",
       "ID                       50000  50000                            0x160a      1\n",
       "Customer_ID              50000  12500                         CUS_0xd40      4\n",
       "Month                    50000      4                         September  12500\n",
       "Name                     44985  10139                            Stevex     22\n",
       "Age                      50000    976                                39   1493\n",
       "SSN                      50000  12501                         #F%$D@*&8   2828\n",
       "Occupation               50000     16                           _______   3438\n",
       "Annual_Income            50000  16121                         109945.32      8\n",
       "Num_of_Loan              50000    263                                 2   7173\n",
       "Type_of_Loan             44296   6260                     Not Specified    704\n",
       "Num_of_Delayed_Payment   46502    443                                19   2622\n",
       "Changed_Credit_Limit     50000   3927                                 _   1059\n",
       "Credit_Mix               50000      4                          Standard  18379\n",
       "Outstanding_Debt         50000  12685                           1109.03     12\n",
       "Credit_History_Age       45530    399             20 Years and 1 Months    254\n",
       "Payment_of_Min_Amount    50000      3                               Yes  26158\n",
       "Amount_invested_monthly  47729  45450                         __10000__   2175\n",
       "Payment_Behaviour        50000      7    Low_spent_Small_value_payments  12694\n",
       "Monthly_Balance          49438  49433  __-333333333333333333333333333__      6"
      ]
     },
     "metadata": {},
     "output_type": "display_data"
    }
   ],
   "source": [
    "display(\n",
    "    df_train.describe(exclude=np.number).T, \n",
    "    print(), \n",
    "    df_test.describe(exclude=np.number).T\n",
    ")"
   ]
  },
  {
   "cell_type": "markdown",
   "metadata": {},
   "source": [
    "### Basically check the missing values. (NaN, None)-(isna(), mean())"
   ]
  },
  {
   "cell_type": "code",
   "execution_count": 9,
   "metadata": {},
   "outputs": [
    {
     "name": "stdout",
     "output_type": "stream",
     "text": [
      "\n"
     ]
    },
    {
     "data": {
      "text/plain": [
       "ID                              0\n",
       "Customer_ID                     0\n",
       "Month                           0\n",
       "Name                         9985\n",
       "Age                             0\n",
       "SSN                             0\n",
       "Occupation                      0\n",
       "Annual_Income                   0\n",
       "Monthly_Inhand_Salary       15002\n",
       "Num_Bank_Accounts               0\n",
       "Num_Credit_Card                 0\n",
       "Interest_Rate                   0\n",
       "Num_of_Loan                     0\n",
       "Type_of_Loan                11408\n",
       "Delay_from_due_date             0\n",
       "Num_of_Delayed_Payment       7002\n",
       "Changed_Credit_Limit            0\n",
       "Num_Credit_Inquiries         1965\n",
       "Credit_Mix                      0\n",
       "Outstanding_Debt                0\n",
       "Credit_Utilization_Ratio        0\n",
       "Credit_History_Age           9030\n",
       "Payment_of_Min_Amount           0\n",
       "Total_EMI_per_month             0\n",
       "Amount_invested_monthly      4479\n",
       "Payment_Behaviour               0\n",
       "Monthly_Balance              1200\n",
       "Credit_Score                    0\n",
       "dtype: int64"
      ]
     },
     "metadata": {},
     "output_type": "display_data"
    },
    {
     "data": {
      "text/plain": [
       "None"
      ]
     },
     "metadata": {},
     "output_type": "display_data"
    },
    {
     "data": {
      "text/plain": [
       "ID                             0\n",
       "Customer_ID                    0\n",
       "Month                          0\n",
       "Name                        5015\n",
       "Age                            0\n",
       "SSN                            0\n",
       "Occupation                     0\n",
       "Annual_Income                  0\n",
       "Monthly_Inhand_Salary       7498\n",
       "Num_Bank_Accounts              0\n",
       "Num_Credit_Card                0\n",
       "Interest_Rate                  0\n",
       "Num_of_Loan                    0\n",
       "Type_of_Loan                5704\n",
       "Delay_from_due_date            0\n",
       "Num_of_Delayed_Payment      3498\n",
       "Changed_Credit_Limit           0\n",
       "Num_Credit_Inquiries        1035\n",
       "Credit_Mix                     0\n",
       "Outstanding_Debt               0\n",
       "Credit_Utilization_Ratio       0\n",
       "Credit_History_Age          4470\n",
       "Payment_of_Min_Amount          0\n",
       "Total_EMI_per_month            0\n",
       "Amount_invested_monthly     2271\n",
       "Payment_Behaviour              0\n",
       "Monthly_Balance              562\n",
       "dtype: int64"
      ]
     },
     "metadata": {},
     "output_type": "display_data"
    }
   ],
   "source": [
    "display(\n",
    "    df_train.isna().sum(), \n",
    "    print(), \n",
    "    df_test.isna().sum()\n",
    ")"
   ]
  },
  {
   "cell_type": "code",
   "execution_count": 10,
   "metadata": {},
   "outputs": [
    {
     "name": "stdout",
     "output_type": "stream",
     "text": [
      "\n"
     ]
    },
    {
     "data": {
      "text/plain": [
       "ID                          0.000\n",
       "Customer_ID                 0.000\n",
       "Month                       0.000\n",
       "Name                        9.985\n",
       "Age                         0.000\n",
       "SSN                         0.000\n",
       "Occupation                  0.000\n",
       "Annual_Income               0.000\n",
       "Monthly_Inhand_Salary      15.002\n",
       "Num_Bank_Accounts           0.000\n",
       "Num_Credit_Card             0.000\n",
       "Interest_Rate               0.000\n",
       "Num_of_Loan                 0.000\n",
       "Type_of_Loan               11.408\n",
       "Delay_from_due_date         0.000\n",
       "Num_of_Delayed_Payment      7.002\n",
       "Changed_Credit_Limit        0.000\n",
       "Num_Credit_Inquiries        1.965\n",
       "Credit_Mix                  0.000\n",
       "Outstanding_Debt            0.000\n",
       "Credit_Utilization_Ratio    0.000\n",
       "Credit_History_Age          9.030\n",
       "Payment_of_Min_Amount       0.000\n",
       "Total_EMI_per_month         0.000\n",
       "Amount_invested_monthly     4.479\n",
       "Payment_Behaviour           0.000\n",
       "Monthly_Balance             1.200\n",
       "Credit_Score                0.000\n",
       "dtype: float64"
      ]
     },
     "metadata": {},
     "output_type": "display_data"
    },
    {
     "data": {
      "text/plain": [
       "None"
      ]
     },
     "metadata": {},
     "output_type": "display_data"
    },
    {
     "data": {
      "text/plain": [
       "ID                          0.000\n",
       "Customer_ID                 0.000\n",
       "Month                       0.000\n",
       "Name                       10.030\n",
       "Age                         0.000\n",
       "SSN                         0.000\n",
       "Occupation                  0.000\n",
       "Annual_Income               0.000\n",
       "Monthly_Inhand_Salary      14.996\n",
       "Num_Bank_Accounts           0.000\n",
       "Num_Credit_Card             0.000\n",
       "Interest_Rate               0.000\n",
       "Num_of_Loan                 0.000\n",
       "Type_of_Loan               11.408\n",
       "Delay_from_due_date         0.000\n",
       "Num_of_Delayed_Payment      6.996\n",
       "Changed_Credit_Limit        0.000\n",
       "Num_Credit_Inquiries        2.070\n",
       "Credit_Mix                  0.000\n",
       "Outstanding_Debt            0.000\n",
       "Credit_Utilization_Ratio    0.000\n",
       "Credit_History_Age          8.940\n",
       "Payment_of_Min_Amount       0.000\n",
       "Total_EMI_per_month         0.000\n",
       "Amount_invested_monthly     4.542\n",
       "Payment_Behaviour           0.000\n",
       "Monthly_Balance             1.124\n",
       "dtype: float64"
      ]
     },
     "metadata": {},
     "output_type": "display_data"
    }
   ],
   "source": [
    "display(\n",
    "    df_train.isnull().mean()*100, \n",
    "    print(), \n",
    "    df_test.isnull().mean()*100\n",
    ")"
   ]
  },
  {
   "cell_type": "markdown",
   "metadata": {},
   "source": [
    "### If needed, rename the columns' names for easy use. "
   ]
  },
  {
   "cell_type": "code",
   "execution_count": 11,
   "metadata": {},
   "outputs": [
    {
     "name": "stdout",
     "output_type": "stream",
     "text": [
      "\n"
     ]
    },
    {
     "data": {
      "text/plain": [
       "Index(['ID', 'Customer_ID', 'Month', 'Name', 'Age', 'SSN', 'Occupation',\n",
       "       'Annual_Income', 'Monthly_Inhand_Salary', 'Num_Bank_Accounts',\n",
       "       'Num_Credit_Card', 'Interest_Rate', 'Num_of_Loan', 'Type_of_Loan',\n",
       "       'Delay_from_due_date', 'Num_of_Delayed_Payment', 'Changed_Credit_Limit',\n",
       "       'Num_Credit_Inquiries', 'Credit_Mix', 'Outstanding_Debt',\n",
       "       'Credit_Utilization_Ratio', 'Credit_History_Age',\n",
       "       'Payment_of_Min_Amount', 'Total_EMI_per_month',\n",
       "       'Amount_invested_monthly', 'Payment_Behaviour', 'Monthly_Balance',\n",
       "       'Credit_Score'],\n",
       "      dtype='object')"
      ]
     },
     "metadata": {},
     "output_type": "display_data"
    },
    {
     "data": {
      "text/plain": [
       "None"
      ]
     },
     "metadata": {},
     "output_type": "display_data"
    },
    {
     "data": {
      "text/plain": [
       "Index(['ID', 'Customer_ID', 'Month', 'Name', 'Age', 'SSN', 'Occupation',\n",
       "       'Annual_Income', 'Monthly_Inhand_Salary', 'Num_Bank_Accounts',\n",
       "       'Num_Credit_Card', 'Interest_Rate', 'Num_of_Loan', 'Type_of_Loan',\n",
       "       'Delay_from_due_date', 'Num_of_Delayed_Payment', 'Changed_Credit_Limit',\n",
       "       'Num_Credit_Inquiries', 'Credit_Mix', 'Outstanding_Debt',\n",
       "       'Credit_Utilization_Ratio', 'Credit_History_Age',\n",
       "       'Payment_of_Min_Amount', 'Total_EMI_per_month',\n",
       "       'Amount_invested_monthly', 'Payment_Behaviour', 'Monthly_Balance'],\n",
       "      dtype='object')"
      ]
     },
     "metadata": {},
     "output_type": "display_data"
    }
   ],
   "source": [
    "display(\n",
    "    df_train.columns, \n",
    "    print(), \n",
    "    df_test.columns\n",
    ")"
   ]
  },
  {
   "cell_type": "markdown",
   "metadata": {
    "id": "3QuB60ZKjwOM"
   },
   "source": [
    "## Examining the Data\n",
    "- Look at the counts of columns that have OBJECT datatype \n",
    "- Assign the Columns (Features) of object data type as** **`\"object_col\"`**\n",
    "- Detect strange values apart from the NaN Values.(isin(),Count(),Sum(),Any())"
   ]
  },
  {
   "cell_type": "markdown",
   "metadata": {},
   "source": [
    "### Look at the value counts of columns that have OBJECT datatype"
   ]
  },
  {
   "cell_type": "code",
   "execution_count": 12,
   "metadata": {},
   "outputs": [
    {
     "name": "stdout",
     "output_type": "stream",
     "text": [
      "<class 'pandas.core.frame.DataFrame'>\n",
      "RangeIndex: 100000 entries, 0 to 99999\n",
      "Data columns (total 20 columns):\n",
      " #   Column                   Non-Null Count   Dtype \n",
      "---  ------                   --------------   ----- \n",
      " 0   ID                       100000 non-null  object\n",
      " 1   Customer_ID              100000 non-null  object\n",
      " 2   Month                    100000 non-null  object\n",
      " 3   Name                     90015 non-null   object\n",
      " 4   Age                      100000 non-null  object\n",
      " 5   SSN                      100000 non-null  object\n",
      " 6   Occupation               100000 non-null  object\n",
      " 7   Annual_Income            100000 non-null  object\n",
      " 8   Num_of_Loan              100000 non-null  object\n",
      " 9   Type_of_Loan             88592 non-null   object\n",
      " 10  Num_of_Delayed_Payment   92998 non-null   object\n",
      " 11  Changed_Credit_Limit     100000 non-null  object\n",
      " 12  Credit_Mix               100000 non-null  object\n",
      " 13  Outstanding_Debt         100000 non-null  object\n",
      " 14  Credit_History_Age       90970 non-null   object\n",
      " 15  Payment_of_Min_Amount    100000 non-null  object\n",
      " 16  Amount_invested_monthly  95521 non-null   object\n",
      " 17  Payment_Behaviour        100000 non-null  object\n",
      " 18  Monthly_Balance          98800 non-null   object\n",
      " 19  Credit_Score             100000 non-null  object\n",
      "dtypes: object(20)\n",
      "memory usage: 15.3+ MB\n",
      "\n",
      "<class 'pandas.core.frame.DataFrame'>\n",
      "RangeIndex: 50000 entries, 0 to 49999\n",
      "Data columns (total 19 columns):\n",
      " #   Column                   Non-Null Count  Dtype \n",
      "---  ------                   --------------  ----- \n",
      " 0   ID                       50000 non-null  object\n",
      " 1   Customer_ID              50000 non-null  object\n",
      " 2   Month                    50000 non-null  object\n",
      " 3   Name                     44985 non-null  object\n",
      " 4   Age                      50000 non-null  object\n",
      " 5   SSN                      50000 non-null  object\n",
      " 6   Occupation               50000 non-null  object\n",
      " 7   Annual_Income            50000 non-null  object\n",
      " 8   Num_of_Loan              50000 non-null  object\n",
      " 9   Type_of_Loan             44296 non-null  object\n",
      " 10  Num_of_Delayed_Payment   46502 non-null  object\n",
      " 11  Changed_Credit_Limit     50000 non-null  object\n",
      " 12  Credit_Mix               50000 non-null  object\n",
      " 13  Outstanding_Debt         50000 non-null  object\n",
      " 14  Credit_History_Age       45530 non-null  object\n",
      " 15  Payment_of_Min_Amount    50000 non-null  object\n",
      " 16  Amount_invested_monthly  47729 non-null  object\n",
      " 17  Payment_Behaviour        50000 non-null  object\n",
      " 18  Monthly_Balance          49438 non-null  object\n",
      "dtypes: object(19)\n",
      "memory usage: 7.2+ MB\n"
     ]
    },
    {
     "data": {
      "text/plain": [
       "None"
      ]
     },
     "metadata": {},
     "output_type": "display_data"
    },
    {
     "data": {
      "text/plain": [
       "None"
      ]
     },
     "metadata": {},
     "output_type": "display_data"
    },
    {
     "data": {
      "text/plain": [
       "None"
      ]
     },
     "metadata": {},
     "output_type": "display_data"
    }
   ],
   "source": [
    "display(\n",
    "    df_train.select_dtypes('O').info(), \n",
    "    print(), \n",
    "    df_test.select_dtypes('O').info()\n",
    ")"
   ]
  },
  {
   "cell_type": "markdown",
   "metadata": {},
   "source": [
    "### Assign the Columns (Features) of object data type as** **``\"object_col\"``"
   ]
  },
  {
   "cell_type": "code",
   "execution_count": 13,
   "metadata": {},
   "outputs": [],
   "source": [
    "object_col_train = df_train.describe(include='O').columns\n",
    "object_col_test = df_test.describe(include='O').columns"
   ]
  },
  {
   "cell_type": "code",
   "execution_count": 14,
   "metadata": {
    "scrolled": true
   },
   "outputs": [
    {
     "name": "stdout",
     "output_type": "stream",
     "text": [
      "Column Name: ID\n",
      "****************************************\n",
      "0x1602     1\n",
      "0x19c88    1\n",
      "0x19caa    1\n",
      "0x19ca5    1\n",
      "0x19ca4    1\n",
      "          ..\n",
      "0xd94d     1\n",
      "0xd94c     1\n",
      "0xd94b     1\n",
      "0xd94a     1\n",
      "0x25fed    1\n",
      "Name: ID, Length: 100000, dtype: int64\n",
      "END ------------------------------------ \n",
      "\n",
      "Column Name: Customer_ID\n",
      "****************************************\n",
      "CUS_0xd40     8\n",
      "CUS_0x9bf4    8\n",
      "CUS_0x5ae3    8\n",
      "CUS_0xbe9a    8\n",
      "CUS_0x4874    8\n",
      "             ..\n",
      "CUS_0x2eb4    8\n",
      "CUS_0x7863    8\n",
      "CUS_0x9d89    8\n",
      "CUS_0xc045    8\n",
      "CUS_0x942c    8\n",
      "Name: Customer_ID, Length: 12500, dtype: int64\n",
      "END ------------------------------------ \n",
      "\n",
      "Column Name: Month\n",
      "****************************************\n",
      "January     12500\n",
      "February    12500\n",
      "March       12500\n",
      "April       12500\n",
      "May         12500\n",
      "June        12500\n",
      "July        12500\n",
      "August      12500\n",
      "Name: Month, dtype: int64\n",
      "END ------------------------------------ \n",
      "\n",
      "Column Name: Name\n",
      "****************************************\n",
      "NaN               9985\n",
      "Stevex              44\n",
      "Langep              44\n",
      "Jessicad            39\n",
      "Vaughanl            39\n",
      "                  ... \n",
      "Robin Pomeroyz       4\n",
      "Matt Scuffhamk       4\n",
      "Julieno              4\n",
      "Bavierq              4\n",
      "Timothyl             3\n",
      "Name: Name, Length: 10140, dtype: int64\n",
      "END ------------------------------------ \n",
      "\n",
      "Column Name: Age\n",
      "****************************************\n",
      "38      2833\n",
      "28      2829\n",
      "31      2806\n",
      "26      2792\n",
      "32      2749\n",
      "        ... \n",
      "471        1\n",
      "1520       1\n",
      "8663       1\n",
      "3363       1\n",
      "1342       1\n",
      "Name: Age, Length: 1788, dtype: int64\n",
      "END ------------------------------------ \n",
      "\n",
      "Column Name: SSN\n",
      "****************************************\n",
      "#F%$D@*&8      5572\n",
      "078-73-5990       8\n",
      "486-78-3816       8\n",
      "750-67-7525       8\n",
      "903-50-0305       8\n",
      "               ... \n",
      "856-06-6147       4\n",
      "753-72-2651       4\n",
      "331-28-1921       4\n",
      "604-62-6133       4\n",
      "286-44-9634       4\n",
      "Name: SSN, Length: 12501, dtype: int64\n",
      "END ------------------------------------ \n",
      "\n",
      "Column Name: Occupation\n",
      "****************************************\n",
      "_______          7062\n",
      "Lawyer           6575\n",
      "Architect        6355\n",
      "Engineer         6350\n",
      "Scientist        6299\n",
      "Mechanic         6291\n",
      "Accountant       6271\n",
      "Developer        6235\n",
      "Media_Manager    6232\n",
      "Teacher          6215\n",
      "Entrepreneur     6174\n",
      "Doctor           6087\n",
      "Journalist       6085\n",
      "Manager          5973\n",
      "Musician         5911\n",
      "Writer           5885\n",
      "Name: Occupation, dtype: int64\n",
      "END ------------------------------------ \n",
      "\n",
      "Column Name: Annual_Income\n",
      "****************************************\n",
      "36585.12     16\n",
      "20867.67     16\n",
      "17273.83     16\n",
      "9141.63      15\n",
      "33029.66     15\n",
      "             ..\n",
      "20269.93_     1\n",
      "15157.25_     1\n",
      "44955.64_     1\n",
      "76650.12_     1\n",
      "4262933.0     1\n",
      "Name: Annual_Income, Length: 18940, dtype: int64\n",
      "END ------------------------------------ \n",
      "\n",
      "Column Name: Num_of_Loan\n",
      "****************************************\n",
      "3        14386\n",
      "2        14250\n",
      "4        14016\n",
      "0        10380\n",
      "1        10083\n",
      "         ...  \n",
      "1320_        1\n",
      "103          1\n",
      "1444         1\n",
      "392          1\n",
      "966          1\n",
      "Name: Num_of_Loan, Length: 434, dtype: int64\n",
      "END ------------------------------------ \n",
      "\n",
      "Column Name: Type_of_Loan\n",
      "****************************************\n",
      "NaN                                                                                                                                   11408\n",
      "Not Specified                                                                                                                          1408\n",
      "Credit-Builder Loan                                                                                                                    1280\n",
      "Personal Loan                                                                                                                          1272\n",
      "Debt Consolidation Loan                                                                                                                1264\n",
      "                                                                                                                                      ...  \n",
      "Not Specified, Mortgage Loan, Auto Loan, and Payday Loan                                                                                  8\n",
      "Payday Loan, Mortgage Loan, Debt Consolidation Loan, and Student Loan                                                                     8\n",
      "Debt Consolidation Loan, Auto Loan, Personal Loan, Debt Consolidation Loan, Student Loan, and Credit-Builder Loan                         8\n",
      "Student Loan, Auto Loan, Student Loan, Credit-Builder Loan, Home Equity Loan, Debt Consolidation Loan, and Debt Consolidation Loan        8\n",
      "Personal Loan, Auto Loan, Mortgage Loan, Student Loan, and Student Loan                                                                   8\n",
      "Name: Type_of_Loan, Length: 6261, dtype: int64\n",
      "END ------------------------------------ \n",
      "\n",
      "Column Name: Num_of_Delayed_Payment\n",
      "****************************************\n",
      "NaN     7002\n",
      "19      5327\n",
      "17      5261\n",
      "16      5173\n",
      "10      5153\n",
      "        ... \n",
      "848_       1\n",
      "4134       1\n",
      "1530       1\n",
      "1502       1\n",
      "2047       1\n",
      "Name: Num_of_Delayed_Payment, Length: 750, dtype: int64\n",
      "END ------------------------------------ \n",
      "\n",
      "Column Name: Changed_Credit_Limit\n",
      "****************************************\n",
      "_                     2091\n",
      "8.22                   133\n",
      "11.5                   127\n",
      "11.32                  126\n",
      "7.35                   121\n",
      "                      ... \n",
      "-1.84                    1\n",
      "0.8899999999999999       1\n",
      "28.06                    1\n",
      "1.5599999999999996       1\n",
      "21.17                    1\n",
      "Name: Changed_Credit_Limit, Length: 4384, dtype: int64\n",
      "END ------------------------------------ \n",
      "\n",
      "Column Name: Credit_Mix\n",
      "****************************************\n",
      "Standard    36479\n",
      "Good        24337\n",
      "_           20195\n",
      "Bad         18989\n",
      "Name: Credit_Mix, dtype: int64\n",
      "END ------------------------------------ \n",
      "\n",
      "Column Name: Outstanding_Debt\n",
      "****************************************\n",
      "1360.45     24\n",
      "460.46      23\n",
      "1151.7      23\n",
      "1109.03     23\n",
      "467.7       16\n",
      "            ..\n",
      "245.46_      1\n",
      "645.77_      1\n",
      "174.79_      1\n",
      "1181.13_     1\n",
      "1013.53_     1\n",
      "Name: Outstanding_Debt, Length: 13178, dtype: int64\n",
      "END ------------------------------------ \n",
      "\n",
      "Column Name: Credit_History_Age\n",
      "****************************************\n",
      "NaN                       9030\n",
      "15 Years and 11 Months     446\n",
      "19 Years and 4 Months      445\n",
      "19 Years and 5 Months      444\n",
      "17 Years and 11 Months     443\n",
      "                          ... \n",
      "0 Years and 3 Months        20\n",
      "0 Years and 2 Months        15\n",
      "33 Years and 7 Months       14\n",
      "33 Years and 8 Months       12\n",
      "0 Years and 1 Months         2\n",
      "Name: Credit_History_Age, Length: 405, dtype: int64\n",
      "END ------------------------------------ \n",
      "\n",
      "Column Name: Payment_of_Min_Amount\n",
      "****************************************\n",
      "Yes    52326\n",
      "No     35667\n",
      "NM     12007\n",
      "Name: Payment_of_Min_Amount, dtype: int64\n",
      "END ------------------------------------ \n",
      "\n",
      "Column Name: Amount_invested_monthly\n",
      "****************************************\n",
      "NaN                   4479\n",
      "__10000__             4305\n",
      "0.0                    169\n",
      "36.66235139442514        1\n",
      "89.7384893604547         1\n",
      "                      ... \n",
      "36.541908593249026       1\n",
      "93.45116318631192        1\n",
      "140.80972223052834       1\n",
      "38.73937670100975        1\n",
      "167.1638651610451        1\n",
      "Name: Amount_invested_monthly, Length: 91050, dtype: int64\n",
      "END ------------------------------------ \n",
      "\n",
      "Column Name: Payment_Behaviour\n",
      "****************************************\n",
      "Low_spent_Small_value_payments      25513\n",
      "High_spent_Medium_value_payments    17540\n",
      "Low_spent_Medium_value_payments     13861\n",
      "High_spent_Large_value_payments     13721\n",
      "High_spent_Small_value_payments     11340\n",
      "Low_spent_Large_value_payments      10425\n",
      "!@9#%8                               7600\n",
      "Name: Payment_Behaviour, dtype: int64\n",
      "END ------------------------------------ \n",
      "\n",
      "Column Name: Monthly_Balance\n",
      "****************************************\n",
      "NaN                                 1200\n",
      "__-333333333333333333333333333__       9\n",
      "312.49408867943663                     1\n",
      "347.413889978152                       1\n",
      "254.9709216273975                      1\n",
      "                                    ... \n",
      "366.2890379762706                      1\n",
      "151.1882696261166                      1\n",
      "306.75027851710234                     1\n",
      "278.8720257394474                      1\n",
      "393.6736955618808                      1\n",
      "Name: Monthly_Balance, Length: 98793, dtype: int64\n",
      "END ------------------------------------ \n",
      "\n",
      "Column Name: Credit_Score\n",
      "****************************************\n",
      "Standard    53174\n",
      "Poor        28998\n",
      "Good        17828\n",
      "Name: Credit_Score, dtype: int64\n",
      "END ------------------------------------ \n",
      "\n"
     ]
    }
   ],
   "source": [
    "for col in object_col_train:\n",
    "    print('Column Name: '+col)\n",
    "    print(\"**\"*20)\n",
    "    print(df_train[col].value_counts(dropna=False))\n",
    "    print('END', \"--\"*18, '\\n')"
   ]
  },
  {
   "cell_type": "code",
   "execution_count": 15,
   "metadata": {
    "scrolled": true
   },
   "outputs": [
    {
     "name": "stdout",
     "output_type": "stream",
     "text": [
      "Column Name: ID\n",
      "****************************************\n",
      "0x160a     1\n",
      "0x19cd8    1\n",
      "0x19c9a    1\n",
      "0x19c9b    1\n",
      "0x19c9c    1\n",
      "          ..\n",
      "0xd95e     1\n",
      "0xd95f     1\n",
      "0xd960     1\n",
      "0xd961     1\n",
      "0x25ff1    1\n",
      "Name: ID, Length: 50000, dtype: int64\n",
      "END ------------------------------------ \n",
      "\n",
      "Column Name: Customer_ID\n",
      "****************************************\n",
      "CUS_0xd40     4\n",
      "CUS_0x9bf4    4\n",
      "CUS_0x5ae3    4\n",
      "CUS_0xbe9a    4\n",
      "CUS_0x4874    4\n",
      "             ..\n",
      "CUS_0x2eb4    4\n",
      "CUS_0x7863    4\n",
      "CUS_0x9d89    4\n",
      "CUS_0xc045    4\n",
      "CUS_0x942c    4\n",
      "Name: Customer_ID, Length: 12500, dtype: int64\n",
      "END ------------------------------------ \n",
      "\n",
      "Column Name: Month\n",
      "****************************************\n",
      "September    12500\n",
      "October      12500\n",
      "November     12500\n",
      "December     12500\n",
      "Name: Month, dtype: int64\n",
      "END ------------------------------------ \n",
      "\n",
      "Column Name: Name\n",
      "****************************************\n",
      "NaN                   5015\n",
      "Stevex                  22\n",
      "Langep                  21\n",
      "Deepa Seetharamanm      20\n",
      "Nicko                   20\n",
      "                      ... \n",
      "Nicolaq                  1\n",
      "Alexei Oreskovicn        1\n",
      "Herbert Lashx            1\n",
      "Sarah N.y                1\n",
      "Timf                     1\n",
      "Name: Name, Length: 10140, dtype: int64\n",
      "END ------------------------------------ \n",
      "\n",
      "Column Name: Age\n",
      "****************************************\n",
      "39      1493\n",
      "32      1440\n",
      "44      1428\n",
      "22      1422\n",
      "35      1414\n",
      "        ... \n",
      "437        1\n",
      "1419       1\n",
      "120        1\n",
      "2552       1\n",
      "4975       1\n",
      "Name: Age, Length: 976, dtype: int64\n",
      "END ------------------------------------ \n",
      "\n",
      "Column Name: SSN\n",
      "****************************************\n",
      "#F%$D@*&8      2828\n",
      "821-00-0265       4\n",
      "756-60-6274       4\n",
      "089-19-7596       4\n",
      "905-14-5788       4\n",
      "               ... \n",
      "332-96-0334       1\n",
      "611-21-4406       1\n",
      "326-89-0421       1\n",
      "789-15-7049       1\n",
      "715-49-4883       1\n",
      "Name: SSN, Length: 12501, dtype: int64\n",
      "END ------------------------------------ \n",
      "\n",
      "Column Name: Occupation\n",
      "****************************************\n",
      "_______          3438\n",
      "Lawyer           3324\n",
      "Engineer         3212\n",
      "Architect        3195\n",
      "Mechanic         3168\n",
      "Developer        3146\n",
      "Accountant       3133\n",
      "Media_Manager    3130\n",
      "Scientist        3104\n",
      "Teacher          3103\n",
      "Entrepreneur     3103\n",
      "Journalist       3037\n",
      "Doctor           3027\n",
      "Manager          3000\n",
      "Musician         2947\n",
      "Writer           2933\n",
      "Name: Occupation, dtype: int64\n",
      "END ------------------------------------ \n",
      "\n",
      "Column Name: Annual_Income\n",
      "****************************************\n",
      "109945.32    8\n",
      "17816.75     8\n",
      "95596.35     8\n",
      "72524.2      8\n",
      "9141.63      8\n",
      "            ..\n",
      "28056.94_    1\n",
      "28286.24_    1\n",
      "1716646.0    1\n",
      "10622.485    1\n",
      "62160.87_    1\n",
      "Name: Annual_Income, Length: 16121, dtype: int64\n",
      "END ------------------------------------ \n",
      "\n",
      "Column Name: Num_of_Loan\n",
      "****************************************\n",
      "2        7173\n",
      "3        7114\n",
      "4        6982\n",
      "0        5163\n",
      "1        5029\n",
      "         ... \n",
      "621         1\n",
      "1040        1\n",
      "1496        1\n",
      "570         1\n",
      "1296_       1\n",
      "Name: Num_of_Loan, Length: 263, dtype: int64\n",
      "END ------------------------------------ \n",
      "\n",
      "Column Name: Type_of_Loan\n",
      "****************************************\n",
      "NaN                                                                                                                                   5704\n",
      "Not Specified                                                                                                                          704\n",
      "Credit-Builder Loan                                                                                                                    640\n",
      "Personal Loan                                                                                                                          636\n",
      "Debt Consolidation Loan                                                                                                                632\n",
      "                                                                                                                                      ... \n",
      "Not Specified, Mortgage Loan, Auto Loan, and Payday Loan                                                                                 4\n",
      "Payday Loan, Mortgage Loan, Debt Consolidation Loan, and Student Loan                                                                    4\n",
      "Debt Consolidation Loan, Auto Loan, Personal Loan, Debt Consolidation Loan, Student Loan, and Credit-Builder Loan                        4\n",
      "Student Loan, Auto Loan, Student Loan, Credit-Builder Loan, Home Equity Loan, Debt Consolidation Loan, and Debt Consolidation Loan       4\n",
      "Personal Loan, Auto Loan, Mortgage Loan, Student Loan, and Student Loan                                                                  4\n",
      "Name: Type_of_Loan, Length: 6261, dtype: int64\n",
      "END ------------------------------------ \n",
      "\n",
      "Column Name: Num_of_Delayed_Payment\n",
      "****************************************\n",
      "NaN     3498\n",
      "19      2622\n",
      "15      2594\n",
      "18      2570\n",
      "16      2548\n",
      "        ... \n",
      "288        1\n",
      "3556       1\n",
      "3393       1\n",
      "4351       1\n",
      "2034       1\n",
      "Name: Num_of_Delayed_Payment, Length: 444, dtype: int64\n",
      "END ------------------------------------ \n",
      "\n",
      "Column Name: Changed_Credit_Limit\n",
      "****************************************\n",
      "_                      1059\n",
      "11.5                     70\n",
      "11.32                    63\n",
      "7.01                     60\n",
      "7.35                     60\n",
      "                       ... \n",
      "-0.6099999999999999       1\n",
      "21.61                     1\n",
      "12.010000000000002        1\n",
      "0.43000000000000016       1\n",
      "29.17                     1\n",
      "Name: Changed_Credit_Limit, Length: 3927, dtype: int64\n",
      "END ------------------------------------ \n",
      "\n",
      "Column Name: Credit_Mix\n",
      "****************************************\n",
      "Standard    18379\n",
      "Good        12260\n",
      "_            9805\n",
      "Bad          9556\n",
      "Name: Credit_Mix, dtype: int64\n",
      "END ------------------------------------ \n",
      "\n",
      "Column Name: Outstanding_Debt\n",
      "****************************************\n",
      "1109.03     12\n",
      "1360.45     12\n",
      "460.46      12\n",
      "1151.7      12\n",
      "1319.87      8\n",
      "            ..\n",
      "1443.78_     1\n",
      "3534.9_      1\n",
      "4320.49_     1\n",
      "2982.66_     1\n",
      "3223.66_     1\n",
      "Name: Outstanding_Debt, Length: 12685, dtype: int64\n",
      "END ------------------------------------ \n",
      "\n",
      "Column Name: Credit_History_Age\n",
      "****************************************\n",
      "NaN                       4470\n",
      "20 Years and 1 Months      254\n",
      "16 Years and 1 Months      254\n",
      "19 Years and 7 Months      252\n",
      "18 Years and 7 Months      252\n",
      "                          ... \n",
      "4 Years and 5 Months        21\n",
      "0 Years and 11 Months       16\n",
      "33 Years and 11 Months      15\n",
      "34 Years and 0 Months       14\n",
      "0 Years and 10 Months       13\n",
      "Name: Credit_History_Age, Length: 400, dtype: int64\n",
      "END ------------------------------------ \n",
      "\n",
      "Column Name: Payment_of_Min_Amount\n",
      "****************************************\n",
      "Yes    26158\n",
      "No     17849\n",
      "NM      5993\n",
      "Name: Payment_of_Min_Amount, dtype: int64\n",
      "END ------------------------------------ \n",
      "\n",
      "Column Name: Amount_invested_monthly\n",
      "****************************************\n",
      "NaN                   2271\n",
      "__10000__             2175\n",
      "0.0                    106\n",
      "75.97604257809586        1\n",
      "320.4566446914704        1\n",
      "                      ... \n",
      "197.2171314766754        1\n",
      "366.23148415217315       1\n",
      "34.89940643392877        1\n",
      "256.90830529853173       1\n",
      "220.45787812168732       1\n",
      "Name: Amount_invested_monthly, Length: 45451, dtype: int64\n",
      "END ------------------------------------ \n",
      "\n",
      "Column Name: Payment_Behaviour\n",
      "****************************************\n",
      "Low_spent_Small_value_payments      12694\n",
      "High_spent_Medium_value_payments     8922\n",
      "High_spent_Large_value_payments      6844\n",
      "Low_spent_Medium_value_payments      6837\n",
      "High_spent_Small_value_payments      5651\n",
      "Low_spent_Large_value_payments       5252\n",
      "!@9#%8                               3800\n",
      "Name: Payment_Behaviour, dtype: int64\n",
      "END ------------------------------------ \n",
      "\n",
      "Column Name: Monthly_Balance\n",
      "****************************************\n",
      "NaN                                 562\n",
      "__-333333333333333333333333333__      6\n",
      "186.26670208571772                    1\n",
      "449.82938730504236                    1\n",
      "389.53754307843735                    1\n",
      "                                   ... \n",
      "421.25686767906984                    1\n",
      "194.44026842190848                    1\n",
      "299.957837924029                      1\n",
      "375.897928536186                      1\n",
      "360.37968260123847                    1\n",
      "Name: Monthly_Balance, Length: 49434, dtype: int64\n",
      "END ------------------------------------ \n",
      "\n"
     ]
    }
   ],
   "source": [
    "for col in object_col_test:\n",
    "    print('Column Name: '+col)\n",
    "    print(\"**\"*20)\n",
    "    print(df_test[col].value_counts(dropna=False))\n",
    "    print('END', \"--\"*18, '\\n')"
   ]
  },
  {
   "cell_type": "markdown",
   "metadata": {},
   "source": [
    "### Detect strange values apart from the NaN Values.(isin(),Count(),Sum(),Any())"
   ]
  },
  {
   "cell_type": "code",
   "execution_count": 16,
   "metadata": {
    "code_folding": []
   },
   "outputs": [],
   "source": [
    "def df_Cleaner(df):\n",
    "    columns = df.dtypes.to_dict()\n",
    "    for col, types in columns.items():\n",
    "        if types == object:\n",
    "            df[col] = df[col].apply(lambda x: x if x is np.NaN else str(x).strip('_ ,\"')\n",
    "                ).replace(['', 'nan', '!@9#%8', '#F%$D@*&8'], np.NaN)\n",
    "    return df"
   ]
  },
  {
   "cell_type": "code",
   "execution_count": 17,
   "metadata": {},
   "outputs": [],
   "source": [
    "df_train = df_Cleaner(df_train)\n",
    "df_test = df_Cleaner(df_test)"
   ]
  },
  {
   "cell_type": "code",
   "execution_count": 18,
   "metadata": {},
   "outputs": [],
   "source": [
    "# Or\n",
    "# df_train = df_train.applymap(lambda x: x if x is np.NaN or not isinstance(x, str) else str(x).strip('_ ,\"')).replace(['', 'nan', '!@9#%8', '#F%$D@*&8'], np.NaN)\n",
    "# df_test = df_test.applymap(lambda x: x if x is np.NaN or not isinstance(x, str) else str(x).strip('_ ,\"')).replace(['', 'nan', '!@9#%8', '#F%$D@*&8'], np.NaN)"
   ]
  },
  {
   "cell_type": "code",
   "execution_count": 19,
   "metadata": {},
   "outputs": [
    {
     "name": "stdout",
     "output_type": "stream",
     "text": [
      "\n"
     ]
    },
    {
     "data": {
      "text/plain": [
       "ID                              0\n",
       "Customer_ID                     0\n",
       "Month                           0\n",
       "Name                         9985\n",
       "Age                             0\n",
       "SSN                          5572\n",
       "Occupation                   7062\n",
       "Annual_Income                   0\n",
       "Monthly_Inhand_Salary       15002\n",
       "Num_Bank_Accounts               0\n",
       "Num_Credit_Card                 0\n",
       "Interest_Rate                   0\n",
       "Num_of_Loan                     0\n",
       "Type_of_Loan                11408\n",
       "Delay_from_due_date             0\n",
       "Num_of_Delayed_Payment       7002\n",
       "Changed_Credit_Limit         2091\n",
       "Num_Credit_Inquiries         1965\n",
       "Credit_Mix                  20195\n",
       "Outstanding_Debt                0\n",
       "Credit_Utilization_Ratio        0\n",
       "Credit_History_Age           9030\n",
       "Payment_of_Min_Amount           0\n",
       "Total_EMI_per_month             0\n",
       "Amount_invested_monthly      4479\n",
       "Payment_Behaviour            7600\n",
       "Monthly_Balance              1200\n",
       "Credit_Score                    0\n",
       "dtype: int64"
      ]
     },
     "metadata": {},
     "output_type": "display_data"
    },
    {
     "data": {
      "text/plain": [
       "None"
      ]
     },
     "metadata": {},
     "output_type": "display_data"
    },
    {
     "data": {
      "text/plain": [
       "ID                             0\n",
       "Customer_ID                    0\n",
       "Month                          0\n",
       "Name                        5015\n",
       "Age                            0\n",
       "SSN                         2828\n",
       "Occupation                  3438\n",
       "Annual_Income                  0\n",
       "Monthly_Inhand_Salary       7498\n",
       "Num_Bank_Accounts              0\n",
       "Num_Credit_Card                0\n",
       "Interest_Rate                  0\n",
       "Num_of_Loan                    0\n",
       "Type_of_Loan                5704\n",
       "Delay_from_due_date            0\n",
       "Num_of_Delayed_Payment      3498\n",
       "Changed_Credit_Limit        1059\n",
       "Num_Credit_Inquiries        1035\n",
       "Credit_Mix                  9805\n",
       "Outstanding_Debt               0\n",
       "Credit_Utilization_Ratio       0\n",
       "Credit_History_Age          4470\n",
       "Payment_of_Min_Amount          0\n",
       "Total_EMI_per_month            0\n",
       "Amount_invested_monthly     2271\n",
       "Payment_Behaviour           3800\n",
       "Monthly_Balance              562\n",
       "dtype: int64"
      ]
     },
     "metadata": {},
     "output_type": "display_data"
    }
   ],
   "source": [
    "display(\n",
    "    df_train.isna().sum(), \n",
    "    print(), \n",
    "    df_test.isna().sum()\n",
    ")"
   ]
  },
  {
   "cell_type": "code",
   "execution_count": 20,
   "metadata": {},
   "outputs": [
    {
     "name": "stdout",
     "output_type": "stream",
     "text": [
      "\n"
     ]
    },
    {
     "data": {
      "text/plain": [
       "ID                          0.000\n",
       "Customer_ID                 0.000\n",
       "Month                       0.000\n",
       "Name                        9.985\n",
       "Age                         0.000\n",
       "SSN                         5.572\n",
       "Occupation                  7.062\n",
       "Annual_Income               0.000\n",
       "Monthly_Inhand_Salary      15.002\n",
       "Num_Bank_Accounts           0.000\n",
       "Num_Credit_Card             0.000\n",
       "Interest_Rate               0.000\n",
       "Num_of_Loan                 0.000\n",
       "Type_of_Loan               11.408\n",
       "Delay_from_due_date         0.000\n",
       "Num_of_Delayed_Payment      7.002\n",
       "Changed_Credit_Limit        2.091\n",
       "Num_Credit_Inquiries        1.965\n",
       "Credit_Mix                 20.195\n",
       "Outstanding_Debt            0.000\n",
       "Credit_Utilization_Ratio    0.000\n",
       "Credit_History_Age          9.030\n",
       "Payment_of_Min_Amount       0.000\n",
       "Total_EMI_per_month         0.000\n",
       "Amount_invested_monthly     4.479\n",
       "Payment_Behaviour           7.600\n",
       "Monthly_Balance             1.200\n",
       "Credit_Score                0.000\n",
       "dtype: float64"
      ]
     },
     "metadata": {},
     "output_type": "display_data"
    },
    {
     "data": {
      "text/plain": [
       "None"
      ]
     },
     "metadata": {},
     "output_type": "display_data"
    },
    {
     "data": {
      "text/plain": [
       "ID                          0.000\n",
       "Customer_ID                 0.000\n",
       "Month                       0.000\n",
       "Name                       10.030\n",
       "Age                         0.000\n",
       "SSN                         5.656\n",
       "Occupation                  6.876\n",
       "Annual_Income               0.000\n",
       "Monthly_Inhand_Salary      14.996\n",
       "Num_Bank_Accounts           0.000\n",
       "Num_Credit_Card             0.000\n",
       "Interest_Rate               0.000\n",
       "Num_of_Loan                 0.000\n",
       "Type_of_Loan               11.408\n",
       "Delay_from_due_date         0.000\n",
       "Num_of_Delayed_Payment      6.996\n",
       "Changed_Credit_Limit        2.118\n",
       "Num_Credit_Inquiries        2.070\n",
       "Credit_Mix                 19.610\n",
       "Outstanding_Debt            0.000\n",
       "Credit_Utilization_Ratio    0.000\n",
       "Credit_History_Age          8.940\n",
       "Payment_of_Min_Amount       0.000\n",
       "Total_EMI_per_month         0.000\n",
       "Amount_invested_monthly     4.542\n",
       "Payment_Behaviour           7.600\n",
       "Monthly_Balance             1.124\n",
       "dtype: float64"
      ]
     },
     "metadata": {},
     "output_type": "display_data"
    }
   ],
   "source": [
    "display(\n",
    "    df_train.isna().mean()*100, \n",
    "    print(), \n",
    "    df_test.isna().mean()*100\n",
    ")"
   ]
  },
  {
   "cell_type": "markdown",
   "metadata": {},
   "source": [
    "## Fixing a data type (value_counts(), astype())\n",
    "\n",
    "- Assign Object Types to Numeric Types\n",
    "- Convert Object Types to Numeric Types (int, float, np.int64, pd.Int64Dtype())"
   ]
  },
  {
   "cell_type": "code",
   "execution_count": 21,
   "metadata": {},
   "outputs": [
    {
     "name": "stdout",
     "output_type": "stream",
     "text": [
      "<class 'pandas.core.frame.DataFrame'>\n",
      "RangeIndex: 100000 entries, 0 to 99999\n",
      "Data columns (total 20 columns):\n",
      " #   Column                   Non-Null Count   Dtype \n",
      "---  ------                   --------------   ----- \n",
      " 0   ID                       100000 non-null  object\n",
      " 1   Customer_ID              100000 non-null  object\n",
      " 2   Month                    100000 non-null  object\n",
      " 3   Name                     90015 non-null   object\n",
      " 4   Age                      100000 non-null  object\n",
      " 5   SSN                      94428 non-null   object\n",
      " 6   Occupation               92938 non-null   object\n",
      " 7   Annual_Income            100000 non-null  object\n",
      " 8   Num_of_Loan              100000 non-null  object\n",
      " 9   Type_of_Loan             88592 non-null   object\n",
      " 10  Num_of_Delayed_Payment   92998 non-null   object\n",
      " 11  Changed_Credit_Limit     97909 non-null   object\n",
      " 12  Credit_Mix               79805 non-null   object\n",
      " 13  Outstanding_Debt         100000 non-null  object\n",
      " 14  Credit_History_Age       90970 non-null   object\n",
      " 15  Payment_of_Min_Amount    100000 non-null  object\n",
      " 16  Amount_invested_monthly  95521 non-null   object\n",
      " 17  Payment_Behaviour        92400 non-null   object\n",
      " 18  Monthly_Balance          98800 non-null   object\n",
      " 19  Credit_Score             100000 non-null  object\n",
      "dtypes: object(20)\n",
      "memory usage: 15.3+ MB\n",
      "\n",
      "<class 'pandas.core.frame.DataFrame'>\n",
      "RangeIndex: 50000 entries, 0 to 49999\n",
      "Data columns (total 19 columns):\n",
      " #   Column                   Non-Null Count  Dtype \n",
      "---  ------                   --------------  ----- \n",
      " 0   ID                       50000 non-null  object\n",
      " 1   Customer_ID              50000 non-null  object\n",
      " 2   Month                    50000 non-null  object\n",
      " 3   Name                     44985 non-null  object\n",
      " 4   Age                      50000 non-null  object\n",
      " 5   SSN                      47172 non-null  object\n",
      " 6   Occupation               46562 non-null  object\n",
      " 7   Annual_Income            50000 non-null  object\n",
      " 8   Num_of_Loan              50000 non-null  object\n",
      " 9   Type_of_Loan             44296 non-null  object\n",
      " 10  Num_of_Delayed_Payment   46502 non-null  object\n",
      " 11  Changed_Credit_Limit     48941 non-null  object\n",
      " 12  Credit_Mix               40195 non-null  object\n",
      " 13  Outstanding_Debt         50000 non-null  object\n",
      " 14  Credit_History_Age       45530 non-null  object\n",
      " 15  Payment_of_Min_Amount    50000 non-null  object\n",
      " 16  Amount_invested_monthly  47729 non-null  object\n",
      " 17  Payment_Behaviour        46200 non-null  object\n",
      " 18  Monthly_Balance          49438 non-null  object\n",
      "dtypes: object(19)\n",
      "memory usage: 7.2+ MB\n"
     ]
    },
    {
     "data": {
      "text/plain": [
       "None"
      ]
     },
     "metadata": {},
     "output_type": "display_data"
    },
    {
     "data": {
      "text/plain": [
       "None"
      ]
     },
     "metadata": {},
     "output_type": "display_data"
    },
    {
     "data": {
      "text/plain": [
       "None"
      ]
     },
     "metadata": {},
     "output_type": "display_data"
    }
   ],
   "source": [
    "display(df_train.select_dtypes('O').info(), print(), df_test.select_dtypes('O').info())"
   ]
  },
  {
   "cell_type": "markdown",
   "metadata": {},
   "source": [
    "### Convert Object Types to Numeric Types (int, float, np.int64, pd.Int64Dtype())"
   ]
  },
  {
   "cell_type": "code",
   "execution_count": 22,
   "metadata": {},
   "outputs": [],
   "source": [
    "df_train['ID'] = df_train.ID.apply(lambda x: int(x, 16))\n",
    "df_test['ID'] = df_test.ID.apply(lambda x: int(x, 16))"
   ]
  },
  {
   "cell_type": "code",
   "execution_count": 23,
   "metadata": {},
   "outputs": [],
   "source": [
    "df_train['Customer_ID'] = df_train.Customer_ID.apply(lambda x: int(x[4:], 16))\n",
    "df_test['Customer_ID'] = df_test.Customer_ID.apply(lambda x: int(x[4:], 16))"
   ]
  },
  {
   "cell_type": "code",
   "execution_count": 24,
   "metadata": {},
   "outputs": [],
   "source": [
    "df_train['Month'] = pd.to_datetime(df_train.Month, format='%B').dt.month\n",
    "df_test['Month'] = pd.to_datetime(df_test.Month, format='%B').dt.month"
   ]
  },
  {
   "cell_type": "code",
   "execution_count": 25,
   "metadata": {},
   "outputs": [],
   "source": [
    "df_train['Age'] = df_train.Age.astype(int)        \n",
    "df_test['Age'] = df_test.Age.astype(int)  "
   ]
  },
  {
   "cell_type": "code",
   "execution_count": 26,
   "metadata": {},
   "outputs": [],
   "source": [
    "df_train['SSN'] = df_train.SSN.apply(lambda x: x if x is np.NaN else int(str(x).replace('-', ''))).astype(float)\n",
    "df_test['SSN'] = df_test.SSN.apply(lambda x: x if x is np.NaN else int(str(x).replace('-', ''))).astype(float)"
   ]
  },
  {
   "cell_type": "code",
   "execution_count": 27,
   "metadata": {},
   "outputs": [],
   "source": [
    "df_train['Annual_Income'] = df_train.Annual_Income.astype(float)\n",
    "df_test['Annual_Income'] = df_test.Annual_Income.astype(float)"
   ]
  },
  {
   "cell_type": "code",
   "execution_count": 28,
   "metadata": {},
   "outputs": [],
   "source": [
    "df_train['Num_of_Loan'] = df_train.Num_of_Loan.astype(int) \n",
    "df_test['Num_of_Loan'] = df_test.Num_of_Loan.astype(int) "
   ]
  },
  {
   "cell_type": "code",
   "execution_count": 29,
   "metadata": {},
   "outputs": [],
   "source": [
    "df_train['Num_of_Delayed_Payment'] = df_train.Num_of_Delayed_Payment.astype(float)\n",
    "df_test['Num_of_Delayed_Payment'] = df_test.Num_of_Delayed_Payment.astype(float)"
   ]
  },
  {
   "cell_type": "code",
   "execution_count": 30,
   "metadata": {},
   "outputs": [],
   "source": [
    "df_train['Changed_Credit_Limit'] = df_train.Changed_Credit_Limit.astype(float)\n",
    "df_test['Changed_Credit_Limit'] = df_test.Changed_Credit_Limit.astype(float)"
   ]
  },
  {
   "cell_type": "code",
   "execution_count": 31,
   "metadata": {},
   "outputs": [],
   "source": [
    "df_train['Outstanding_Debt'] = df_train.Outstanding_Debt.astype(float)\n",
    "df_test['Outstanding_Debt'] = df_test.Outstanding_Debt.astype(float)"
   ]
  },
  {
   "cell_type": "code",
   "execution_count": 32,
   "metadata": {},
   "outputs": [],
   "source": [
    "df_train['Amount_invested_monthly'] = df_train.Amount_invested_monthly.astype(float)\n",
    "df_test['Amount_invested_monthly'] = df_test.Amount_invested_monthly.astype(float)"
   ]
  },
  {
   "cell_type": "code",
   "execution_count": 33,
   "metadata": {},
   "outputs": [],
   "source": [
    "df_train['Monthly_Balance'] = df_train.Monthly_Balance.astype(float)\n",
    "df_test['Monthly_Balance'] = df_test.Monthly_Balance.astype(float)"
   ]
  },
  {
   "cell_type": "markdown",
   "metadata": {},
   "source": [
    "### Assign Categorical Types to Numeric Types"
   ]
  },
  {
   "cell_type": "markdown",
   "metadata": {},
   "source": [
    "- Use Before Machine Learning "
   ]
  },
  {
   "cell_type": "code",
   "execution_count": 34,
   "metadata": {},
   "outputs": [],
   "source": [
    "# df_train['Occupation_Num'] = df_train.Occupation.astype('category').cat.codes\n",
    "# df_test['Occupation_Num'] = df_test.Occupation.astype('category').cat.codes"
   ]
  },
  {
   "cell_type": "code",
   "execution_count": 35,
   "metadata": {},
   "outputs": [],
   "source": [
    "# df_train['Credit_Mix_Num'] = df_train.Credit_Mix.astype('category').cat.codes\n",
    "# df_test['Credit_Mix_Num'] = df_test.Credit_Mix.astype('category').cat.codes"
   ]
  },
  {
   "cell_type": "code",
   "execution_count": 36,
   "metadata": {},
   "outputs": [],
   "source": [
    "# df_train['Payment_of_Min_Amount_Num'] = df_train.Payment_of_Min_Amount.astype('category').cat.codes\n",
    "# df_test['Payment_of_Min_Amount_Num'] = df_test.Payment_of_Min_Amount.astype('category').cat.codes"
   ]
  },
  {
   "cell_type": "code",
   "execution_count": 37,
   "metadata": {},
   "outputs": [],
   "source": [
    "# df_train['Payment_Behaviour_Num'] = df_train.Payment_Behaviour.astype('category').cat.codes\n",
    "# df_test['Payment_Behaviour_Num'] = df_test.Payment_Behaviour.astype('category').cat.codes"
   ]
  },
  {
   "cell_type": "code",
   "execution_count": 38,
   "metadata": {},
   "outputs": [],
   "source": [
    "# Not equired\n",
    "# df_train['Credit_Score_Num'] = df_train.Credit_Score.astype('category').cat.codes"
   ]
  },
  {
   "cell_type": "markdown",
   "metadata": {},
   "source": [
    "## Combining object columns\n",
    "- Example: If the date and time of  are stored in separate object columns. Then combine these two columns into a single column, and then convert it to datetime format."
   ]
  },
  {
   "cell_type": "code",
   "execution_count": 39,
   "metadata": {},
   "outputs": [],
   "source": [
    "def Month_Converter(x):\n",
    "    if pd.notnull(x):\n",
    "        num1 = int(x.split(' ')[0])\n",
    "        num2 = int(x.split(' ')[3])\n",
    "      \n",
    "        return num1*12+num2\n",
    "    else:\n",
    "        return x\n",
    "    \n",
    "# Month_Converter('3 Years and 1 Months')"
   ]
  },
  {
   "cell_type": "code",
   "execution_count": 40,
   "metadata": {},
   "outputs": [],
   "source": [
    "df_train['Credit_History_Age'] = df_train.Credit_History_Age.apply(lambda x: Month_Converter(x)).astype(float)\n",
    "df_test['Credit_History_Age'] = df_test.Credit_History_Age.apply(lambda x: Month_Converter(x)).astype(float)"
   ]
  },
  {
   "cell_type": "code",
   "execution_count": 41,
   "metadata": {},
   "outputs": [
    {
     "data": {
      "text/plain": [
       "Customer_ID\n",
       "1006     [182.0, 183.0, 184.0, 185.0, 186.0, 187.0, 188...\n",
       "1007     [346.0, 347.0, 348.0, 349.0, 350.0, nan, 352.0...\n",
       "1008     [292.0, 293.0, 294.0, nan, 296.0, 297.0, 298.0...\n",
       "1009     [331.0, 332.0, 333.0, 334.0, 335.0, 336.0, 337...\n",
       "1011     [179.0, 180.0, nan, 182.0, 183.0, 184.0, 185.0...\n",
       "                               ...                        \n",
       "50984    [157.0, 158.0, 159.0, nan, 161.0, 162.0, nan, ...\n",
       "50990       [70.0, 71.0, 72.0, nan, nan, 75.0, 76.0, 77.0]\n",
       "50992    [159.0, 160.0, 161.0, 162.0, 163.0, nan, 165.0...\n",
       "50996    [206.0, 207.0, 208.0, 209.0, 210.0, 211.0, 212...\n",
       "50999    [226.0, 227.0, 228.0, 229.0, 230.0, 231.0, 232...\n",
       "Name: Credit_History_Age, Length: 12500, dtype: object"
      ]
     },
     "execution_count": 41,
     "metadata": {},
     "output_type": "execute_result"
    }
   ],
   "source": [
    "df_train.groupby('Customer_ID')['Credit_History_Age'].apply(list)"
   ]
  },
  {
   "cell_type": "code",
   "execution_count": 42,
   "metadata": {},
   "outputs": [
    {
     "data": {
      "text/plain": [
       "Customer_ID  Type_of_Loan                                                                                         \n",
       "1006         Credit-Builder Loan, and Payday Loan                                                                     8\n",
       "1007         Home Equity Loan, Mortgage Loan, and Student Loan                                                        8\n",
       "1008         NaN                                                                                                      8\n",
       "1009         Credit-Builder Loan, Student Loan, Not Specified, and Student Loan                                       8\n",
       "1011         Personal Loan, Auto Loan, and Auto Loan                                                                  8\n",
       "                                                                                                                     ..\n",
       "50984        Home Equity Loan, Mortgage Loan, Payday Loan, Mortgage Loan, Mortgage Loan, and Payday Loan              8\n",
       "50990        Mortgage Loan, Auto Loan, and Auto Loan                                                                  8\n",
       "50992        Student Loan, Credit-Builder Loan, Mortgage Loan, Payday Loan, Home Equity Loan, and Home Equity Loan    8\n",
       "50996        NaN                                                                                                      8\n",
       "50999        Credit-Builder Loan                                                                                      8\n",
       "Name: Type_of_Loan, Length: 12500, dtype: int64"
      ]
     },
     "execution_count": 42,
     "metadata": {},
     "output_type": "execute_result"
    }
   ],
   "source": [
    "df_train.groupby('Customer_ID')['Type_of_Loan'].value_counts(dropna=False)"
   ]
  },
  {
   "cell_type": "code",
   "execution_count": 43,
   "metadata": {},
   "outputs": [
    {
     "data": {
      "text/plain": [
       "Customer_ID\n",
       "1006     [Credit-Builder Loan, and Payday Loan, Credit-...\n",
       "1007     [Home Equity Loan, Mortgage Loan, and Student ...\n",
       "1008              [nan, nan, nan, nan, nan, nan, nan, nan]\n",
       "1009     [Credit-Builder Loan, Student Loan, Not Specif...\n",
       "1011     [Personal Loan, Auto Loan, and Auto Loan, Pers...\n",
       "                               ...                        \n",
       "50984    [Home Equity Loan, Mortgage Loan, Payday Loan,...\n",
       "50990    [Mortgage Loan, Auto Loan, and Auto Loan, Mort...\n",
       "50992    [Student Loan, Credit-Builder Loan, Mortgage L...\n",
       "50996             [nan, nan, nan, nan, nan, nan, nan, nan]\n",
       "50999    [Credit-Builder Loan, Credit-Builder Loan, Cre...\n",
       "Name: Type_of_Loan, Length: 12500, dtype: object"
      ]
     },
     "execution_count": 43,
     "metadata": {},
     "output_type": "execute_result"
    }
   ],
   "source": [
    "df_train.groupby('Customer_ID')['Type_of_Loan'].apply(list)"
   ]
  },
  {
   "cell_type": "code",
   "execution_count": 44,
   "metadata": {},
   "outputs": [],
   "source": [
    "def get_Diff_Values_Colum(df_column, diff_value = []):   \n",
    "    column = df_column.dropna()\n",
    "    for i in column:\n",
    "        if ',' not in i and i not in diff_value:\n",
    "            diff_value.append(i)\n",
    "        else:\n",
    "            for data in map(lambda x:x.strip(), i.replace('and','').split(',')):\n",
    "                if not data in diff_value:\n",
    "                    diff_value.append(data)\n",
    "    return dict(enumerate(sorted(diff_value)))"
   ]
  },
  {
   "cell_type": "code",
   "execution_count": 45,
   "metadata": {
    "scrolled": false
   },
   "outputs": [
    {
     "name": "stdout",
     "output_type": "stream",
     "text": [
      "\n"
     ]
    },
    {
     "data": {
      "text/plain": [
       "{0: 'Auto Loan',\n",
       " 1: 'Credit-Builder Loan',\n",
       " 2: 'Debt Consolidation Loan',\n",
       " 3: 'Home Equity Loan',\n",
       " 4: 'Mortgage Loan',\n",
       " 5: 'Not Specified',\n",
       " 6: 'Payday Loan',\n",
       " 7: 'Personal Loan',\n",
       " 8: 'Student Loan'}"
      ]
     },
     "metadata": {},
     "output_type": "display_data"
    },
    {
     "data": {
      "text/plain": [
       "None"
      ]
     },
     "metadata": {},
     "output_type": "display_data"
    },
    {
     "data": {
      "text/plain": [
       "{0: 'Auto Loan',\n",
       " 1: 'Credit-Builder Loan',\n",
       " 2: 'Debt Consolidation Loan',\n",
       " 3: 'Home Equity Loan',\n",
       " 4: 'Mortgage Loan',\n",
       " 5: 'Not Specified',\n",
       " 6: 'Payday Loan',\n",
       " 7: 'Personal Loan',\n",
       " 8: 'Student Loan'}"
      ]
     },
     "metadata": {},
     "output_type": "display_data"
    }
   ],
   "source": [
    "display(\n",
    "    get_Diff_Values_Colum(df_train['Type_of_Loan']), \n",
    "    print(), \n",
    "    get_Diff_Values_Colum(df_test['Type_of_Loan'])\n",
    ")"
   ]
  },
  {
   "cell_type": "code",
   "execution_count": 46,
   "metadata": {},
   "outputs": [
    {
     "name": "stdout",
     "output_type": "stream",
     "text": [
      "<class 'pandas.core.frame.DataFrame'>\n",
      "RangeIndex: 100000 entries, 0 to 99999\n",
      "Data columns (total 28 columns):\n",
      " #   Column                    Non-Null Count   Dtype  \n",
      "---  ------                    --------------   -----  \n",
      " 0   ID                        100000 non-null  int64  \n",
      " 1   Customer_ID               100000 non-null  int64  \n",
      " 2   Month                     100000 non-null  int64  \n",
      " 3   Name                      90015 non-null   object \n",
      " 4   Age                       100000 non-null  int32  \n",
      " 5   SSN                       94428 non-null   float64\n",
      " 6   Occupation                92938 non-null   object \n",
      " 7   Annual_Income             100000 non-null  float64\n",
      " 8   Monthly_Inhand_Salary     84998 non-null   float64\n",
      " 9   Num_Bank_Accounts         100000 non-null  int64  \n",
      " 10  Num_Credit_Card           100000 non-null  int64  \n",
      " 11  Interest_Rate             100000 non-null  int64  \n",
      " 12  Num_of_Loan               100000 non-null  int32  \n",
      " 13  Type_of_Loan              88592 non-null   object \n",
      " 14  Delay_from_due_date       100000 non-null  int64  \n",
      " 15  Num_of_Delayed_Payment    92998 non-null   float64\n",
      " 16  Changed_Credit_Limit      97909 non-null   float64\n",
      " 17  Num_Credit_Inquiries      98035 non-null   float64\n",
      " 18  Credit_Mix                79805 non-null   object \n",
      " 19  Outstanding_Debt          100000 non-null  float64\n",
      " 20  Credit_Utilization_Ratio  100000 non-null  float64\n",
      " 21  Credit_History_Age        90970 non-null   float64\n",
      " 22  Payment_of_Min_Amount     100000 non-null  object \n",
      " 23  Total_EMI_per_month       100000 non-null  float64\n",
      " 24  Amount_invested_monthly   95521 non-null   float64\n",
      " 25  Payment_Behaviour         92400 non-null   object \n",
      " 26  Monthly_Balance           98800 non-null   float64\n",
      " 27  Credit_Score              100000 non-null  object \n",
      "dtypes: float64(12), int32(2), int64(7), object(7)\n",
      "memory usage: 20.6+ MB\n",
      "\n",
      "<class 'pandas.core.frame.DataFrame'>\n",
      "RangeIndex: 50000 entries, 0 to 49999\n",
      "Data columns (total 27 columns):\n",
      " #   Column                    Non-Null Count  Dtype  \n",
      "---  ------                    --------------  -----  \n",
      " 0   ID                        50000 non-null  int64  \n",
      " 1   Customer_ID               50000 non-null  int64  \n",
      " 2   Month                     50000 non-null  int64  \n",
      " 3   Name                      44985 non-null  object \n",
      " 4   Age                       50000 non-null  int32  \n",
      " 5   SSN                       47172 non-null  float64\n",
      " 6   Occupation                46562 non-null  object \n",
      " 7   Annual_Income             50000 non-null  float64\n",
      " 8   Monthly_Inhand_Salary     42502 non-null  float64\n",
      " 9   Num_Bank_Accounts         50000 non-null  int64  \n",
      " 10  Num_Credit_Card           50000 non-null  int64  \n",
      " 11  Interest_Rate             50000 non-null  int64  \n",
      " 12  Num_of_Loan               50000 non-null  int32  \n",
      " 13  Type_of_Loan              44296 non-null  object \n",
      " 14  Delay_from_due_date       50000 non-null  int64  \n",
      " 15  Num_of_Delayed_Payment    46502 non-null  float64\n",
      " 16  Changed_Credit_Limit      48941 non-null  float64\n",
      " 17  Num_Credit_Inquiries      48965 non-null  float64\n",
      " 18  Credit_Mix                40195 non-null  object \n",
      " 19  Outstanding_Debt          50000 non-null  float64\n",
      " 20  Credit_Utilization_Ratio  50000 non-null  float64\n",
      " 21  Credit_History_Age        45530 non-null  float64\n",
      " 22  Payment_of_Min_Amount     50000 non-null  object \n",
      " 23  Total_EMI_per_month       50000 non-null  float64\n",
      " 24  Amount_invested_monthly   47729 non-null  float64\n",
      " 25  Payment_Behaviour         46200 non-null  object \n",
      " 26  Monthly_Balance           49438 non-null  float64\n",
      "dtypes: float64(12), int32(2), int64(7), object(6)\n",
      "memory usage: 9.9+ MB\n"
     ]
    },
    {
     "data": {
      "text/plain": [
       "None"
      ]
     },
     "metadata": {},
     "output_type": "display_data"
    },
    {
     "data": {
      "text/plain": [
       "None"
      ]
     },
     "metadata": {},
     "output_type": "display_data"
    },
    {
     "data": {
      "text/plain": [
       "None"
      ]
     },
     "metadata": {},
     "output_type": "display_data"
    }
   ],
   "source": [
    "display(\n",
    "    df_train.info(), \n",
    "    print(), \n",
    "    df_test.info()\n",
    ")"
   ]
  },
  {
   "cell_type": "markdown",
   "metadata": {},
   "source": [
    "## Detect Outliers and Fill NaN Values"
   ]
  },
  {
   "cell_type": "markdown",
   "metadata": {},
   "source": [
    "### Reassign Group in Wrong Object Column"
   ]
  },
  {
   "cell_type": "code",
   "execution_count": 47,
   "metadata": {},
   "outputs": [
    {
     "name": "stdout",
     "output_type": "stream",
     "text": [
      "\n"
     ]
    },
    {
     "data": {
      "text/html": [
       "<div>\n",
       "<style scoped>\n",
       "    .dataframe tbody tr th:only-of-type {\n",
       "        vertical-align: middle;\n",
       "    }\n",
       "\n",
       "    .dataframe tbody tr th {\n",
       "        vertical-align: top;\n",
       "    }\n",
       "\n",
       "    .dataframe thead th {\n",
       "        text-align: right;\n",
       "    }\n",
       "</style>\n",
       "<table border=\"1\" class=\"dataframe\">\n",
       "  <thead>\n",
       "    <tr style=\"text-align: right;\">\n",
       "      <th></th>\n",
       "      <th>count</th>\n",
       "      <th>unique</th>\n",
       "      <th>top</th>\n",
       "      <th>freq</th>\n",
       "    </tr>\n",
       "  </thead>\n",
       "  <tbody>\n",
       "    <tr>\n",
       "      <th>Name</th>\n",
       "      <td>90015</td>\n",
       "      <td>10128</td>\n",
       "      <td>Langep</td>\n",
       "      <td>44</td>\n",
       "    </tr>\n",
       "    <tr>\n",
       "      <th>Occupation</th>\n",
       "      <td>92938</td>\n",
       "      <td>15</td>\n",
       "      <td>Lawyer</td>\n",
       "      <td>6575</td>\n",
       "    </tr>\n",
       "    <tr>\n",
       "      <th>Type_of_Loan</th>\n",
       "      <td>88592</td>\n",
       "      <td>6260</td>\n",
       "      <td>Not Specified</td>\n",
       "      <td>1408</td>\n",
       "    </tr>\n",
       "    <tr>\n",
       "      <th>Credit_Mix</th>\n",
       "      <td>79805</td>\n",
       "      <td>3</td>\n",
       "      <td>Standard</td>\n",
       "      <td>36479</td>\n",
       "    </tr>\n",
       "    <tr>\n",
       "      <th>Payment_of_Min_Amount</th>\n",
       "      <td>100000</td>\n",
       "      <td>3</td>\n",
       "      <td>Yes</td>\n",
       "      <td>52326</td>\n",
       "    </tr>\n",
       "    <tr>\n",
       "      <th>Payment_Behaviour</th>\n",
       "      <td>92400</td>\n",
       "      <td>6</td>\n",
       "      <td>Low_spent_Small_value_payments</td>\n",
       "      <td>25513</td>\n",
       "    </tr>\n",
       "    <tr>\n",
       "      <th>Credit_Score</th>\n",
       "      <td>100000</td>\n",
       "      <td>3</td>\n",
       "      <td>Standard</td>\n",
       "      <td>53174</td>\n",
       "    </tr>\n",
       "  </tbody>\n",
       "</table>\n",
       "</div>"
      ],
      "text/plain": [
       "                        count unique                             top   freq\n",
       "Name                    90015  10128                          Langep     44\n",
       "Occupation              92938     15                          Lawyer   6575\n",
       "Type_of_Loan            88592   6260                   Not Specified   1408\n",
       "Credit_Mix              79805      3                        Standard  36479\n",
       "Payment_of_Min_Amount  100000      3                             Yes  52326\n",
       "Payment_Behaviour       92400      6  Low_spent_Small_value_payments  25513\n",
       "Credit_Score           100000      3                        Standard  53174"
      ]
     },
     "metadata": {},
     "output_type": "display_data"
    },
    {
     "data": {
      "text/plain": [
       "None"
      ]
     },
     "metadata": {},
     "output_type": "display_data"
    },
    {
     "data": {
      "text/html": [
       "<div>\n",
       "<style scoped>\n",
       "    .dataframe tbody tr th:only-of-type {\n",
       "        vertical-align: middle;\n",
       "    }\n",
       "\n",
       "    .dataframe tbody tr th {\n",
       "        vertical-align: top;\n",
       "    }\n",
       "\n",
       "    .dataframe thead th {\n",
       "        text-align: right;\n",
       "    }\n",
       "</style>\n",
       "<table border=\"1\" class=\"dataframe\">\n",
       "  <thead>\n",
       "    <tr style=\"text-align: right;\">\n",
       "      <th></th>\n",
       "      <th>count</th>\n",
       "      <th>unique</th>\n",
       "      <th>top</th>\n",
       "      <th>freq</th>\n",
       "    </tr>\n",
       "  </thead>\n",
       "  <tbody>\n",
       "    <tr>\n",
       "      <th>Name</th>\n",
       "      <td>44985</td>\n",
       "      <td>10128</td>\n",
       "      <td>Stevex</td>\n",
       "      <td>22</td>\n",
       "    </tr>\n",
       "    <tr>\n",
       "      <th>Occupation</th>\n",
       "      <td>46562</td>\n",
       "      <td>15</td>\n",
       "      <td>Lawyer</td>\n",
       "      <td>3324</td>\n",
       "    </tr>\n",
       "    <tr>\n",
       "      <th>Type_of_Loan</th>\n",
       "      <td>44296</td>\n",
       "      <td>6260</td>\n",
       "      <td>Not Specified</td>\n",
       "      <td>704</td>\n",
       "    </tr>\n",
       "    <tr>\n",
       "      <th>Credit_Mix</th>\n",
       "      <td>40195</td>\n",
       "      <td>3</td>\n",
       "      <td>Standard</td>\n",
       "      <td>18379</td>\n",
       "    </tr>\n",
       "    <tr>\n",
       "      <th>Payment_of_Min_Amount</th>\n",
       "      <td>50000</td>\n",
       "      <td>3</td>\n",
       "      <td>Yes</td>\n",
       "      <td>26158</td>\n",
       "    </tr>\n",
       "    <tr>\n",
       "      <th>Payment_Behaviour</th>\n",
       "      <td>46200</td>\n",
       "      <td>6</td>\n",
       "      <td>Low_spent_Small_value_payments</td>\n",
       "      <td>12694</td>\n",
       "    </tr>\n",
       "  </tbody>\n",
       "</table>\n",
       "</div>"
      ],
      "text/plain": [
       "                       count unique                             top   freq\n",
       "Name                   44985  10128                          Stevex     22\n",
       "Occupation             46562     15                          Lawyer   3324\n",
       "Type_of_Loan           44296   6260                   Not Specified    704\n",
       "Credit_Mix             40195      3                        Standard  18379\n",
       "Payment_of_Min_Amount  50000      3                             Yes  26158\n",
       "Payment_Behaviour      46200      6  Low_spent_Small_value_payments  12694"
      ]
     },
     "metadata": {},
     "output_type": "display_data"
    }
   ],
   "source": [
    "display(\n",
    "    df_train.describe(include='O').T, \n",
    "    print(), \n",
    "    df_test.describe(include='O').T\n",
    ")"
   ]
  },
  {
   "cell_type": "code",
   "execution_count": 48,
   "metadata": {},
   "outputs": [
    {
     "data": {
      "text/plain": [
       "Customer_ID\n",
       "1006      [nan, Matthias Blamontb, nan, Matthias Blamontb]\n",
       "1007       [Soyoung Kimu, Soyoung Kimu, nan, Soyoung Kimu]\n",
       "1008                              [Koht, Koht, Koht, Koht]\n",
       "1009                                  [Edd, Edd, Edd, nan]\n",
       "1011                  [nan, Terry Wadeu, Terry Wadeu, nan]\n",
       "                               ...                        \n",
       "50984               [Victoriah, Victoriah, Victoriah, nan]\n",
       "50990                             [Yueo, Yueo, Yueo, Yueo]\n",
       "50992    [Jason Langev, Jason Langev, Jason Langev, Jas...\n",
       "50996                  [Koh Guia, Koh Guia, Koh Guia, nan]\n",
       "50999    [Simon Johnsong, Simon Johnsong, Simon Johnson...\n",
       "Name: Name, Length: 12500, dtype: object"
      ]
     },
     "execution_count": 48,
     "metadata": {},
     "output_type": "execute_result"
    }
   ],
   "source": [
    "df_test.groupby('Customer_ID')['Name'].apply(list)"
   ]
  },
  {
   "cell_type": "code",
   "execution_count": 49,
   "metadata": {},
   "outputs": [
    {
     "data": {
      "text/plain": [
       "NaN    5015\n",
       "Name: Name, dtype: int64"
      ]
     },
     "execution_count": 49,
     "metadata": {},
     "output_type": "execute_result"
    }
   ],
   "source": [
    "df_test['Name'].value_counts(dropna=False).head(1)"
   ]
  },
  {
   "cell_type": "code",
   "execution_count": 50,
   "metadata": {
    "code_folding": []
   },
   "outputs": [],
   "source": [
    "# Reassign and Show Function\n",
    "def Reassign_Group_Object_Wrong_Values(df, groupby, column, inplace=True):    \n",
    "    # Assigning Wrong values Make Simple Function\n",
    "    def make_NaN_and_fill_mode(df, groupby, column, inplace=True):\n",
    "        # Assign None to np.NaN\n",
    "        if df[column].isin([None]).sum():\n",
    "            df[column][df[column].isin([None])] = np.NaN\n",
    "            \n",
    "        # fill with local mode\n",
    "        result = df.groupby(groupby)[column].transform(lambda x: x.fillna(stats.mode(x)[0][0]))\n",
    "\n",
    "        # inplace\n",
    "        if inplace:\n",
    "            df[column]=result\n",
    "        else:\n",
    "            return result\n",
    "    \n",
    "    # Run      \n",
    "    if inplace:  \n",
    "        # Before Assigning Wrong values      \n",
    "        x = df[column].value_counts(dropna=False).head(1)\n",
    "        print(f'\\nBefore Assigning NaN {column}:', [x if x.index[0] is np.NaN or x.index[0] is None else 'No NaN Value'] , end='\\n')\n",
    "        a = df.groupby(groupby)[column].apply(list) \n",
    "        print(f'\\nBefore Assigning Example {column}:\\n', *a.head().values, sep='\\n', end='\\n')\n",
    "        \n",
    "        # Assigning\n",
    "        make_NaN_and_fill_mode(df, groupby, column, inplace)\n",
    "        \n",
    "        # After Assigning Wrong values\n",
    "        y = df[column].value_counts(dropna=False).head(1)\n",
    "        print(f'\\nAfter Assigning NaN {column}:', [y if y.index[0] is np.NaN or x.index[0] is None else 'No NaN Value'] , end='\\n')\n",
    "        b = df.groupby(groupby)[column].apply(list)\n",
    "        print(f'\\nAfter Assigning Example {column}:\\n', *b.head().values, sep='\\n', end='\\n')\n",
    "    else:   \n",
    "        # Show\n",
    "        return make_NaN_and_fill_mode(df, groupby, column, inplace)"
   ]
  },
  {
   "cell_type": "code",
   "execution_count": 51,
   "metadata": {},
   "outputs": [
    {
     "data": {
      "text/plain": [
       "Jessicad              48\n",
       "Langep                48\n",
       "Stevex                48\n",
       "Vaughanl              40\n",
       "Ronald Groverk        40\n",
       "                      ..\n",
       "Breidthardtj           8\n",
       "Sven Egenterx          8\n",
       "Antonella Ciancioc     8\n",
       "Valentina Zan          8\n",
       "Nicks                  8\n",
       "Name: Name, Length: 10128, dtype: int64"
      ]
     },
     "execution_count": 51,
     "metadata": {},
     "output_type": "execute_result"
    }
   ],
   "source": [
    "# Not Save\n",
    "Reassign_Group_Object_Wrong_Values(df_train, 'Customer_ID', 'Name', False).value_counts(dropna=False)"
   ]
  },
  {
   "cell_type": "code",
   "execution_count": 52,
   "metadata": {},
   "outputs": [
    {
     "name": "stdout",
     "output_type": "stream",
     "text": [
      "\n",
      "Before Assigning NaN Name: [NaN    9985\n",
      "Name: Name, dtype: int64]\n",
      "\n",
      "Before Assigning Example Name:\n",
      "\n",
      "['Matthias Blamontb', 'Matthias Blamontb', 'Matthias Blamontb', 'Matthias Blamontb', 'Matthias Blamontb', 'Matthias Blamontb', 'Matthias Blamontb', nan]\n",
      "[nan, 'Soyoung Kimu', 'Soyoung Kimu', 'Soyoung Kimu', 'Soyoung Kimu', nan, nan, 'Soyoung Kimu']\n",
      "['Koht', 'Koht', 'Koht', 'Koht', 'Koht', 'Koht', 'Koht', nan]\n",
      "['Edd', 'Edd', 'Edd', 'Edd', 'Edd', 'Edd', 'Edd', 'Edd']\n",
      "['Terry Wadeu', 'Terry Wadeu', 'Terry Wadeu', 'Terry Wadeu', 'Terry Wadeu', 'Terry Wadeu', 'Terry Wadeu', nan]\n",
      "\n",
      "After Assigning NaN Name: ['No NaN Value']\n",
      "\n",
      "After Assigning Example Name:\n",
      "\n",
      "['Matthias Blamontb', 'Matthias Blamontb', 'Matthias Blamontb', 'Matthias Blamontb', 'Matthias Blamontb', 'Matthias Blamontb', 'Matthias Blamontb', 'Matthias Blamontb']\n",
      "['Soyoung Kimu', 'Soyoung Kimu', 'Soyoung Kimu', 'Soyoung Kimu', 'Soyoung Kimu', 'Soyoung Kimu', 'Soyoung Kimu', 'Soyoung Kimu']\n",
      "['Koht', 'Koht', 'Koht', 'Koht', 'Koht', 'Koht', 'Koht', 'Koht']\n",
      "['Edd', 'Edd', 'Edd', 'Edd', 'Edd', 'Edd', 'Edd', 'Edd']\n",
      "['Terry Wadeu', 'Terry Wadeu', 'Terry Wadeu', 'Terry Wadeu', 'Terry Wadeu', 'Terry Wadeu', 'Terry Wadeu', 'Terry Wadeu']\n",
      "\n",
      "\n",
      "Before Assigning NaN Name: [NaN    5015\n",
      "Name: Name, dtype: int64]\n",
      "\n",
      "Before Assigning Example Name:\n",
      "\n",
      "[nan, 'Matthias Blamontb', nan, 'Matthias Blamontb']\n",
      "['Soyoung Kimu', 'Soyoung Kimu', nan, 'Soyoung Kimu']\n",
      "['Koht', 'Koht', 'Koht', 'Koht']\n",
      "['Edd', 'Edd', 'Edd', nan]\n",
      "[nan, 'Terry Wadeu', 'Terry Wadeu', nan]\n",
      "\n",
      "After Assigning NaN Name: ['No NaN Value']\n",
      "\n",
      "After Assigning Example Name:\n",
      "\n",
      "['Matthias Blamontb', 'Matthias Blamontb', 'Matthias Blamontb', 'Matthias Blamontb']\n",
      "['Soyoung Kimu', 'Soyoung Kimu', 'Soyoung Kimu', 'Soyoung Kimu']\n",
      "['Koht', 'Koht', 'Koht', 'Koht']\n",
      "['Edd', 'Edd', 'Edd', 'Edd']\n",
      "['Terry Wadeu', 'Terry Wadeu', 'Terry Wadeu', 'Terry Wadeu']\n"
     ]
    },
    {
     "data": {
      "text/plain": [
       "None"
      ]
     },
     "metadata": {},
     "output_type": "display_data"
    },
    {
     "data": {
      "text/plain": [
       "None"
      ]
     },
     "metadata": {},
     "output_type": "display_data"
    },
    {
     "data": {
      "text/plain": [
       "None"
      ]
     },
     "metadata": {},
     "output_type": "display_data"
    }
   ],
   "source": [
    "display(\n",
    "    Reassign_Group_Object_Wrong_Values(df_train, 'Customer_ID', 'Name'), \n",
    "    print(), \n",
    "    Reassign_Group_Object_Wrong_Values(df_test, 'Customer_ID', 'Name')\n",
    ")\n"
   ]
  },
  {
   "cell_type": "code",
   "execution_count": 53,
   "metadata": {},
   "outputs": [
    {
     "data": {
      "text/plain": [
       "NaN              7062\n",
       "Lawyer           6575\n",
       "Architect        6355\n",
       "Engineer         6350\n",
       "Scientist        6299\n",
       "Mechanic         6291\n",
       "Accountant       6271\n",
       "Developer        6235\n",
       "Media_Manager    6232\n",
       "Teacher          6215\n",
       "Entrepreneur     6174\n",
       "Doctor           6087\n",
       "Journalist       6085\n",
       "Manager          5973\n",
       "Musician         5911\n",
       "Writer           5885\n",
       "Name: Occupation, dtype: int64"
      ]
     },
     "execution_count": 53,
     "metadata": {},
     "output_type": "execute_result"
    }
   ],
   "source": [
    "df_train['Occupation'].value_counts(dropna=False)"
   ]
  },
  {
   "cell_type": "code",
   "execution_count": 54,
   "metadata": {},
   "outputs": [
    {
     "name": "stdout",
     "output_type": "stream",
     "text": [
      "\n",
      "Before Assigning NaN Occupation: [NaN    7062\n",
      "Name: Occupation, dtype: int64]\n",
      "\n",
      "Before Assigning Example Occupation:\n",
      "\n",
      "['Journalist', 'Journalist', 'Journalist', 'Journalist', 'Journalist', nan, 'Journalist', 'Journalist']\n",
      "['Manager', 'Manager', nan, 'Manager', 'Manager', 'Manager', 'Manager', 'Manager']\n",
      "['Developer', 'Developer', 'Developer', 'Developer', 'Developer', 'Developer', 'Developer', 'Developer']\n",
      "['Accountant', nan, 'Accountant', 'Accountant', 'Accountant', 'Accountant', 'Accountant', 'Accountant']\n",
      "['Writer', 'Writer', 'Writer', 'Writer', nan, 'Writer', 'Writer', 'Writer']\n",
      "\n",
      "After Assigning NaN Occupation: ['No NaN Value']\n",
      "\n",
      "After Assigning Example Occupation:\n",
      "\n",
      "['Journalist', 'Journalist', 'Journalist', 'Journalist', 'Journalist', 'Journalist', 'Journalist', 'Journalist']\n",
      "['Manager', 'Manager', 'Manager', 'Manager', 'Manager', 'Manager', 'Manager', 'Manager']\n",
      "['Developer', 'Developer', 'Developer', 'Developer', 'Developer', 'Developer', 'Developer', 'Developer']\n",
      "['Accountant', 'Accountant', 'Accountant', 'Accountant', 'Accountant', 'Accountant', 'Accountant', 'Accountant']\n",
      "['Writer', 'Writer', 'Writer', 'Writer', 'Writer', 'Writer', 'Writer', 'Writer']\n",
      "\n",
      "\n",
      "Before Assigning NaN Occupation: [NaN    3438\n",
      "Name: Occupation, dtype: int64]\n",
      "\n",
      "Before Assigning Example Occupation:\n",
      "\n",
      "['Journalist', 'Journalist', 'Journalist', 'Journalist']\n",
      "['Manager', 'Manager', 'Manager', 'Manager']\n",
      "['Developer', 'Developer', 'Developer', 'Developer']\n",
      "['Accountant', nan, 'Accountant', 'Accountant']\n",
      "[nan, 'Writer', 'Writer', 'Writer']\n",
      "\n",
      "After Assigning NaN Occupation: ['No NaN Value']\n",
      "\n",
      "After Assigning Example Occupation:\n",
      "\n",
      "['Journalist', 'Journalist', 'Journalist', 'Journalist']\n",
      "['Manager', 'Manager', 'Manager', 'Manager']\n",
      "['Developer', 'Developer', 'Developer', 'Developer']\n",
      "['Accountant', 'Accountant', 'Accountant', 'Accountant']\n",
      "['Writer', 'Writer', 'Writer', 'Writer']\n"
     ]
    },
    {
     "data": {
      "text/plain": [
       "None"
      ]
     },
     "metadata": {},
     "output_type": "display_data"
    },
    {
     "data": {
      "text/plain": [
       "None"
      ]
     },
     "metadata": {},
     "output_type": "display_data"
    },
    {
     "data": {
      "text/plain": [
       "None"
      ]
     },
     "metadata": {},
     "output_type": "display_data"
    }
   ],
   "source": [
    "display(\n",
    "    Reassign_Group_Object_Wrong_Values(df_train, 'Customer_ID', 'Occupation'), \n",
    "    print(), \n",
    "    Reassign_Group_Object_Wrong_Values(df_test, 'Customer_ID', 'Occupation')\n",
    ")"
   ]
  },
  {
   "cell_type": "code",
   "execution_count": 55,
   "metadata": {},
   "outputs": [
    {
     "data": {
      "text/plain": [
       "Customer_ID  Type_of_Loan                                                                                         \n",
       "1006         Credit-Builder Loan, and Payday Loan                                                                     8\n",
       "1007         Home Equity Loan, Mortgage Loan, and Student Loan                                                        8\n",
       "1008         NaN                                                                                                      8\n",
       "1009         Credit-Builder Loan, Student Loan, Not Specified, and Student Loan                                       8\n",
       "1011         Personal Loan, Auto Loan, and Auto Loan                                                                  8\n",
       "                                                                                                                     ..\n",
       "50984        Home Equity Loan, Mortgage Loan, Payday Loan, Mortgage Loan, Mortgage Loan, and Payday Loan              8\n",
       "50990        Mortgage Loan, Auto Loan, and Auto Loan                                                                  8\n",
       "50992        Student Loan, Credit-Builder Loan, Mortgage Loan, Payday Loan, Home Equity Loan, and Home Equity Loan    8\n",
       "50996        NaN                                                                                                      8\n",
       "50999        Credit-Builder Loan                                                                                      8\n",
       "Name: Type_of_Loan, Length: 12500, dtype: int64"
      ]
     },
     "execution_count": 55,
     "metadata": {},
     "output_type": "execute_result"
    }
   ],
   "source": [
    "df_train.groupby('Customer_ID')['Type_of_Loan'].value_counts(dropna=False)"
   ]
  },
  {
   "cell_type": "code",
   "execution_count": 56,
   "metadata": {},
   "outputs": [],
   "source": [
    "df_train['Type_of_Loan'].replace([np.NaN], 'No Data', inplace=True)\n",
    "df_test['Type_of_Loan'].replace([np.NaN], 'No Data', inplace=True)"
   ]
  },
  {
   "cell_type": "code",
   "execution_count": 57,
   "metadata": {},
   "outputs": [
    {
     "data": {
      "text/plain": [
       "Standard    36479\n",
       "Good        24337\n",
       "NaN         20195\n",
       "Bad         18989\n",
       "Name: Credit_Mix, dtype: int64"
      ]
     },
     "execution_count": 57,
     "metadata": {},
     "output_type": "execute_result"
    }
   ],
   "source": [
    "df_train['Credit_Mix'].value_counts(dropna=False)"
   ]
  },
  {
   "cell_type": "code",
   "execution_count": 58,
   "metadata": {},
   "outputs": [
    {
     "name": "stdout",
     "output_type": "stream",
     "text": [
      "\n",
      "Before Assigning NaN Credit_Mix: ['No NaN Value']\n",
      "\n",
      "Before Assigning Example Credit_Mix:\n",
      "\n",
      "['Standard', 'Standard', 'Standard', 'Standard', 'Standard', nan, 'Standard', 'Standard']\n",
      "[nan, 'Standard', 'Standard', 'Standard', nan, 'Standard', nan, 'Standard']\n",
      "[nan, 'Standard', 'Standard', nan, 'Standard', 'Standard', 'Standard', 'Standard']\n",
      "['Standard', nan, 'Standard', 'Standard', 'Standard', 'Standard', 'Standard', 'Standard']\n",
      "[nan, nan, 'Standard', 'Standard', 'Standard', 'Standard', 'Standard', 'Standard']\n",
      "\n",
      "After Assigning NaN Credit_Mix: ['No NaN Value']\n",
      "\n",
      "After Assigning Example Credit_Mix:\n",
      "\n",
      "['Standard', 'Standard', 'Standard', 'Standard', 'Standard', 'Standard', 'Standard', 'Standard']\n",
      "['Standard', 'Standard', 'Standard', 'Standard', 'Standard', 'Standard', 'Standard', 'Standard']\n",
      "['Standard', 'Standard', 'Standard', 'Standard', 'Standard', 'Standard', 'Standard', 'Standard']\n",
      "['Standard', 'Standard', 'Standard', 'Standard', 'Standard', 'Standard', 'Standard', 'Standard']\n",
      "['Standard', 'Standard', 'Standard', 'Standard', 'Standard', 'Standard', 'Standard', 'Standard']\n",
      "\n",
      "\n",
      "Before Assigning NaN Credit_Mix: ['No NaN Value']\n",
      "\n",
      "Before Assigning Example Credit_Mix:\n",
      "\n",
      "['Standard', 'Standard', 'Standard', 'Standard']\n",
      "['Standard', 'Standard', 'Standard', 'Standard']\n",
      "['Standard', 'Standard', 'Standard', 'Standard']\n",
      "['Standard', nan, 'Standard', 'Standard']\n",
      "['Standard', 'Standard', 'Standard', 'Standard']\n",
      "\n",
      "After Assigning NaN Credit_Mix: ['No NaN Value']\n",
      "\n",
      "After Assigning Example Credit_Mix:\n",
      "\n",
      "['Standard', 'Standard', 'Standard', 'Standard']\n",
      "['Standard', 'Standard', 'Standard', 'Standard']\n",
      "['Standard', 'Standard', 'Standard', 'Standard']\n",
      "['Standard', 'Standard', 'Standard', 'Standard']\n",
      "['Standard', 'Standard', 'Standard', 'Standard']\n"
     ]
    },
    {
     "data": {
      "text/plain": [
       "None"
      ]
     },
     "metadata": {},
     "output_type": "display_data"
    },
    {
     "data": {
      "text/plain": [
       "None"
      ]
     },
     "metadata": {},
     "output_type": "display_data"
    },
    {
     "data": {
      "text/plain": [
       "None"
      ]
     },
     "metadata": {},
     "output_type": "display_data"
    }
   ],
   "source": [
    "display(\n",
    "    Reassign_Group_Object_Wrong_Values(df_train, 'Customer_ID', 'Credit_Mix'), \n",
    "    print(), \n",
    "    Reassign_Group_Object_Wrong_Values(df_test, 'Customer_ID', 'Credit_Mix')\n",
    ")"
   ]
  },
  {
   "cell_type": "code",
   "execution_count": 59,
   "metadata": {},
   "outputs": [
    {
     "data": {
      "text/plain": [
       "Yes    52326\n",
       "No     35667\n",
       "NM     12007\n",
       "Name: Payment_of_Min_Amount, dtype: int64"
      ]
     },
     "execution_count": 59,
     "metadata": {},
     "output_type": "execute_result"
    }
   ],
   "source": [
    "# Not Required\n",
    "df_train['Payment_of_Min_Amount'].value_counts(dropna=False)"
   ]
  },
  {
   "cell_type": "code",
   "execution_count": 60,
   "metadata": {},
   "outputs": [
    {
     "name": "stdout",
     "output_type": "stream",
     "text": [
      "\n",
      "Before Assigning NaN Payment_Behaviour: ['No NaN Value']\n",
      "\n",
      "Before Assigning Example Payment_Behaviour:\n",
      "\n",
      "['High_spent_Medium_value_payments', 'Low_spent_Medium_value_payments', 'Low_spent_Small_value_payments', 'High_spent_Small_value_payments', 'Low_spent_Large_value_payments', nan, 'Low_spent_Large_value_payments', 'Low_spent_Small_value_payments']\n",
      "['High_spent_Medium_value_payments', 'High_spent_Medium_value_payments', 'Low_spent_Small_value_payments', 'High_spent_Medium_value_payments', 'Low_spent_Small_value_payments', nan, 'Low_spent_Small_value_payments', 'Low_spent_Small_value_payments']\n",
      "['High_spent_Small_value_payments', 'Low_spent_Large_value_payments', 'Low_spent_Small_value_payments', 'High_spent_Small_value_payments', 'High_spent_Medium_value_payments', 'High_spent_Small_value_payments', 'Low_spent_Large_value_payments', 'Low_spent_Large_value_payments']\n",
      "['High_spent_Medium_value_payments', 'High_spent_Large_value_payments', 'High_spent_Medium_value_payments', 'Low_spent_Large_value_payments', 'Low_spent_Medium_value_payments', 'Low_spent_Large_value_payments', nan, 'High_spent_Large_value_payments']\n",
      "['High_spent_Small_value_payments', 'Low_spent_Small_value_payments', 'High_spent_Medium_value_payments', 'Low_spent_Large_value_payments', 'Low_spent_Medium_value_payments', 'Low_spent_Small_value_payments', 'High_spent_Large_value_payments', 'Low_spent_Medium_value_payments']\n",
      "\n",
      "After Assigning NaN Payment_Behaviour: ['No NaN Value']\n",
      "\n",
      "After Assigning Example Payment_Behaviour:\n",
      "\n",
      "['High_spent_Medium_value_payments', 'Low_spent_Medium_value_payments', 'Low_spent_Small_value_payments', 'High_spent_Small_value_payments', 'Low_spent_Large_value_payments', 'Low_spent_Small_value_payments', 'Low_spent_Large_value_payments', 'Low_spent_Small_value_payments']\n",
      "['High_spent_Medium_value_payments', 'High_spent_Medium_value_payments', 'Low_spent_Small_value_payments', 'High_spent_Medium_value_payments', 'Low_spent_Small_value_payments', 'Low_spent_Small_value_payments', 'Low_spent_Small_value_payments', 'Low_spent_Small_value_payments']\n",
      "['High_spent_Small_value_payments', 'Low_spent_Large_value_payments', 'Low_spent_Small_value_payments', 'High_spent_Small_value_payments', 'High_spent_Medium_value_payments', 'High_spent_Small_value_payments', 'Low_spent_Large_value_payments', 'Low_spent_Large_value_payments']\n",
      "['High_spent_Medium_value_payments', 'High_spent_Large_value_payments', 'High_spent_Medium_value_payments', 'Low_spent_Large_value_payments', 'Low_spent_Medium_value_payments', 'Low_spent_Large_value_payments', 'Low_spent_Large_value_payments', 'High_spent_Large_value_payments']\n",
      "['High_spent_Small_value_payments', 'Low_spent_Small_value_payments', 'High_spent_Medium_value_payments', 'Low_spent_Large_value_payments', 'Low_spent_Medium_value_payments', 'Low_spent_Small_value_payments', 'High_spent_Large_value_payments', 'Low_spent_Medium_value_payments']\n",
      "\n",
      "\n",
      "Before Assigning NaN Payment_Behaviour: ['No NaN Value']\n",
      "\n",
      "Before Assigning Example Payment_Behaviour:\n",
      "\n",
      "['Low_spent_Small_value_payments', 'Low_spent_Medium_value_payments', 'Low_spent_Small_value_payments', 'Low_spent_Small_value_payments']\n",
      "['Low_spent_Medium_value_payments', 'Low_spent_Large_value_payments', 'Low_spent_Small_value_payments', 'Low_spent_Small_value_payments']\n",
      "['High_spent_Small_value_payments', 'High_spent_Small_value_payments', 'Low_spent_Small_value_payments', 'High_spent_Medium_value_payments']\n",
      "['Low_spent_Medium_value_payments', 'High_spent_Large_value_payments', 'High_spent_Medium_value_payments', 'High_spent_Medium_value_payments']\n",
      "['Low_spent_Large_value_payments', 'Low_spent_Medium_value_payments', 'High_spent_Large_value_payments', nan]\n",
      "\n",
      "After Assigning NaN Payment_Behaviour: ['No NaN Value']\n",
      "\n",
      "After Assigning Example Payment_Behaviour:\n",
      "\n",
      "['Low_spent_Small_value_payments', 'Low_spent_Medium_value_payments', 'Low_spent_Small_value_payments', 'Low_spent_Small_value_payments']\n",
      "['Low_spent_Medium_value_payments', 'Low_spent_Large_value_payments', 'Low_spent_Small_value_payments', 'Low_spent_Small_value_payments']\n",
      "['High_spent_Small_value_payments', 'High_spent_Small_value_payments', 'Low_spent_Small_value_payments', 'High_spent_Medium_value_payments']\n",
      "['Low_spent_Medium_value_payments', 'High_spent_Large_value_payments', 'High_spent_Medium_value_payments', 'High_spent_Medium_value_payments']\n",
      "['Low_spent_Large_value_payments', 'Low_spent_Medium_value_payments', 'High_spent_Large_value_payments', 'High_spent_Large_value_payments']\n"
     ]
    },
    {
     "data": {
      "text/plain": [
       "None"
      ]
     },
     "metadata": {},
     "output_type": "display_data"
    },
    {
     "data": {
      "text/plain": [
       "None"
      ]
     },
     "metadata": {},
     "output_type": "display_data"
    },
    {
     "data": {
      "text/plain": [
       "None"
      ]
     },
     "metadata": {},
     "output_type": "display_data"
    }
   ],
   "source": [
    "display(\n",
    "    Reassign_Group_Object_Wrong_Values(df_train, 'Customer_ID', 'Payment_Behaviour'), \n",
    "    print(), \n",
    "    Reassign_Group_Object_Wrong_Values(df_test, 'Customer_ID', 'Payment_Behaviour')\n",
    ")"
   ]
  },
  {
   "cell_type": "code",
   "execution_count": 61,
   "metadata": {},
   "outputs": [
    {
     "data": {
      "text/plain": [
       "Standard    53174\n",
       "Poor        28998\n",
       "Good        17828\n",
       "Name: Credit_Score, dtype: int64"
      ]
     },
     "execution_count": 61,
     "metadata": {},
     "output_type": "execute_result"
    }
   ],
   "source": [
    "# Not Required\n",
    "df_train['Credit_Score'].value_counts(dropna=False)"
   ]
  },
  {
   "cell_type": "markdown",
   "metadata": {},
   "source": [
    "### Reassign_Group_Numeric_Wrong_Values"
   ]
  },
  {
   "cell_type": "code",
   "execution_count": 62,
   "metadata": {},
   "outputs": [
    {
     "name": "stdout",
     "output_type": "stream",
     "text": [
      "\n"
     ]
    },
    {
     "data": {
      "text/html": [
       "<div>\n",
       "<style scoped>\n",
       "    .dataframe tbody tr th:only-of-type {\n",
       "        vertical-align: middle;\n",
       "    }\n",
       "\n",
       "    .dataframe tbody tr th {\n",
       "        vertical-align: top;\n",
       "    }\n",
       "\n",
       "    .dataframe thead th {\n",
       "        text-align: right;\n",
       "    }\n",
       "</style>\n",
       "<table border=\"1\" class=\"dataframe\">\n",
       "  <thead>\n",
       "    <tr style=\"text-align: right;\">\n",
       "      <th></th>\n",
       "      <th>count</th>\n",
       "      <th>mean</th>\n",
       "      <th>std</th>\n",
       "      <th>min</th>\n",
       "      <th>25%</th>\n",
       "      <th>50%</th>\n",
       "      <th>75%</th>\n",
       "      <th>max</th>\n",
       "    </tr>\n",
       "  </thead>\n",
       "  <tbody>\n",
       "    <tr>\n",
       "      <th>ID</th>\n",
       "      <td>100000.000</td>\n",
       "      <td>80631.500</td>\n",
       "      <td>43301.487</td>\n",
       "      <td>5634.000</td>\n",
       "      <td>43132.750</td>\n",
       "      <td>80631.500</td>\n",
       "      <td>118130.250</td>\n",
       "      <td>155629.000</td>\n",
       "    </tr>\n",
       "    <tr>\n",
       "      <th>Customer_ID</th>\n",
       "      <td>100000.000</td>\n",
       "      <td>25982.667</td>\n",
       "      <td>14340.543</td>\n",
       "      <td>1006.000</td>\n",
       "      <td>13664.500</td>\n",
       "      <td>25777.000</td>\n",
       "      <td>38385.000</td>\n",
       "      <td>50999.000</td>\n",
       "    </tr>\n",
       "    <tr>\n",
       "      <th>Month</th>\n",
       "      <td>100000.000</td>\n",
       "      <td>4.500</td>\n",
       "      <td>2.291</td>\n",
       "      <td>1.000</td>\n",
       "      <td>2.750</td>\n",
       "      <td>4.500</td>\n",
       "      <td>6.250</td>\n",
       "      <td>8.000</td>\n",
       "    </tr>\n",
       "    <tr>\n",
       "      <th>Age</th>\n",
       "      <td>100000.000</td>\n",
       "      <td>110.650</td>\n",
       "      <td>686.245</td>\n",
       "      <td>-500.000</td>\n",
       "      <td>24.000</td>\n",
       "      <td>33.000</td>\n",
       "      <td>42.000</td>\n",
       "      <td>8698.000</td>\n",
       "    </tr>\n",
       "    <tr>\n",
       "      <th>SSN</th>\n",
       "      <td>94428.000</td>\n",
       "      <td>500368782.100</td>\n",
       "      <td>290649963.555</td>\n",
       "      <td>81349.000</td>\n",
       "      <td>245221682.000</td>\n",
       "      <td>500317991.000</td>\n",
       "      <td>755784922.000</td>\n",
       "      <td>999993421.000</td>\n",
       "    </tr>\n",
       "    <tr>\n",
       "      <th>Annual_Income</th>\n",
       "      <td>100000.000</td>\n",
       "      <td>176415.701</td>\n",
       "      <td>1429618.051</td>\n",
       "      <td>7005.930</td>\n",
       "      <td>19457.500</td>\n",
       "      <td>37578.610</td>\n",
       "      <td>72790.920</td>\n",
       "      <td>24198062.000</td>\n",
       "    </tr>\n",
       "    <tr>\n",
       "      <th>Monthly_Inhand_Salary</th>\n",
       "      <td>84998.000</td>\n",
       "      <td>4194.171</td>\n",
       "      <td>3183.686</td>\n",
       "      <td>303.645</td>\n",
       "      <td>1625.568</td>\n",
       "      <td>3093.745</td>\n",
       "      <td>5957.448</td>\n",
       "      <td>15204.633</td>\n",
       "    </tr>\n",
       "    <tr>\n",
       "      <th>Num_Bank_Accounts</th>\n",
       "      <td>100000.000</td>\n",
       "      <td>17.091</td>\n",
       "      <td>117.405</td>\n",
       "      <td>-1.000</td>\n",
       "      <td>3.000</td>\n",
       "      <td>6.000</td>\n",
       "      <td>7.000</td>\n",
       "      <td>1798.000</td>\n",
       "    </tr>\n",
       "    <tr>\n",
       "      <th>Num_Credit_Card</th>\n",
       "      <td>100000.000</td>\n",
       "      <td>22.474</td>\n",
       "      <td>129.057</td>\n",
       "      <td>0.000</td>\n",
       "      <td>4.000</td>\n",
       "      <td>5.000</td>\n",
       "      <td>7.000</td>\n",
       "      <td>1499.000</td>\n",
       "    </tr>\n",
       "    <tr>\n",
       "      <th>Interest_Rate</th>\n",
       "      <td>100000.000</td>\n",
       "      <td>72.466</td>\n",
       "      <td>466.423</td>\n",
       "      <td>1.000</td>\n",
       "      <td>8.000</td>\n",
       "      <td>13.000</td>\n",
       "      <td>20.000</td>\n",
       "      <td>5797.000</td>\n",
       "    </tr>\n",
       "    <tr>\n",
       "      <th>Num_of_Loan</th>\n",
       "      <td>100000.000</td>\n",
       "      <td>3.010</td>\n",
       "      <td>62.648</td>\n",
       "      <td>-100.000</td>\n",
       "      <td>1.000</td>\n",
       "      <td>3.000</td>\n",
       "      <td>5.000</td>\n",
       "      <td>1496.000</td>\n",
       "    </tr>\n",
       "    <tr>\n",
       "      <th>Delay_from_due_date</th>\n",
       "      <td>100000.000</td>\n",
       "      <td>21.069</td>\n",
       "      <td>14.860</td>\n",
       "      <td>-5.000</td>\n",
       "      <td>10.000</td>\n",
       "      <td>18.000</td>\n",
       "      <td>28.000</td>\n",
       "      <td>67.000</td>\n",
       "    </tr>\n",
       "    <tr>\n",
       "      <th>Num_of_Delayed_Payment</th>\n",
       "      <td>92998.000</td>\n",
       "      <td>30.923</td>\n",
       "      <td>226.032</td>\n",
       "      <td>-3.000</td>\n",
       "      <td>9.000</td>\n",
       "      <td>14.000</td>\n",
       "      <td>18.000</td>\n",
       "      <td>4397.000</td>\n",
       "    </tr>\n",
       "    <tr>\n",
       "      <th>Changed_Credit_Limit</th>\n",
       "      <td>97909.000</td>\n",
       "      <td>10.389</td>\n",
       "      <td>6.789</td>\n",
       "      <td>-6.490</td>\n",
       "      <td>5.320</td>\n",
       "      <td>9.400</td>\n",
       "      <td>14.870</td>\n",
       "      <td>36.970</td>\n",
       "    </tr>\n",
       "    <tr>\n",
       "      <th>Num_Credit_Inquiries</th>\n",
       "      <td>98035.000</td>\n",
       "      <td>27.754</td>\n",
       "      <td>193.177</td>\n",
       "      <td>0.000</td>\n",
       "      <td>3.000</td>\n",
       "      <td>6.000</td>\n",
       "      <td>9.000</td>\n",
       "      <td>2597.000</td>\n",
       "    </tr>\n",
       "    <tr>\n",
       "      <th>Outstanding_Debt</th>\n",
       "      <td>100000.000</td>\n",
       "      <td>1426.220</td>\n",
       "      <td>1155.129</td>\n",
       "      <td>0.230</td>\n",
       "      <td>566.072</td>\n",
       "      <td>1166.155</td>\n",
       "      <td>1945.963</td>\n",
       "      <td>4998.070</td>\n",
       "    </tr>\n",
       "    <tr>\n",
       "      <th>Credit_Utilization_Ratio</th>\n",
       "      <td>100000.000</td>\n",
       "      <td>32.285</td>\n",
       "      <td>5.117</td>\n",
       "      <td>20.000</td>\n",
       "      <td>28.053</td>\n",
       "      <td>32.306</td>\n",
       "      <td>36.497</td>\n",
       "      <td>50.000</td>\n",
       "    </tr>\n",
       "    <tr>\n",
       "      <th>Credit_History_Age</th>\n",
       "      <td>90970.000</td>\n",
       "      <td>221.195</td>\n",
       "      <td>99.741</td>\n",
       "      <td>1.000</td>\n",
       "      <td>144.000</td>\n",
       "      <td>219.000</td>\n",
       "      <td>302.000</td>\n",
       "      <td>404.000</td>\n",
       "    </tr>\n",
       "    <tr>\n",
       "      <th>Total_EMI_per_month</th>\n",
       "      <td>100000.000</td>\n",
       "      <td>1403.118</td>\n",
       "      <td>8306.041</td>\n",
       "      <td>0.000</td>\n",
       "      <td>30.307</td>\n",
       "      <td>69.249</td>\n",
       "      <td>161.224</td>\n",
       "      <td>82331.000</td>\n",
       "    </tr>\n",
       "    <tr>\n",
       "      <th>Amount_invested_monthly</th>\n",
       "      <td>95521.000</td>\n",
       "      <td>637.413</td>\n",
       "      <td>2043.319</td>\n",
       "      <td>0.000</td>\n",
       "      <td>74.534</td>\n",
       "      <td>135.926</td>\n",
       "      <td>265.732</td>\n",
       "      <td>10000.000</td>\n",
       "    </tr>\n",
       "    <tr>\n",
       "      <th>Monthly_Balance</th>\n",
       "      <td>98800.000</td>\n",
       "      <td>-30364372469635625254912.000</td>\n",
       "      <td>3181295008379834214645760.000</td>\n",
       "      <td>-333333333333333314856026112.000</td>\n",
       "      <td>270.092</td>\n",
       "      <td>336.719</td>\n",
       "      <td>470.220</td>\n",
       "      <td>1602.041</td>\n",
       "    </tr>\n",
       "  </tbody>\n",
       "</table>\n",
       "</div>"
      ],
      "text/plain": [
       "                              count                         mean  \\\n",
       "ID                       100000.000                    80631.500   \n",
       "Customer_ID              100000.000                    25982.667   \n",
       "Month                    100000.000                        4.500   \n",
       "Age                      100000.000                      110.650   \n",
       "SSN                       94428.000                500368782.100   \n",
       "Annual_Income            100000.000                   176415.701   \n",
       "Monthly_Inhand_Salary     84998.000                     4194.171   \n",
       "Num_Bank_Accounts        100000.000                       17.091   \n",
       "Num_Credit_Card          100000.000                       22.474   \n",
       "Interest_Rate            100000.000                       72.466   \n",
       "Num_of_Loan              100000.000                        3.010   \n",
       "Delay_from_due_date      100000.000                       21.069   \n",
       "Num_of_Delayed_Payment    92998.000                       30.923   \n",
       "Changed_Credit_Limit      97909.000                       10.389   \n",
       "Num_Credit_Inquiries      98035.000                       27.754   \n",
       "Outstanding_Debt         100000.000                     1426.220   \n",
       "Credit_Utilization_Ratio 100000.000                       32.285   \n",
       "Credit_History_Age        90970.000                      221.195   \n",
       "Total_EMI_per_month      100000.000                     1403.118   \n",
       "Amount_invested_monthly   95521.000                      637.413   \n",
       "Monthly_Balance           98800.000 -30364372469635625254912.000   \n",
       "\n",
       "                                                   std  \\\n",
       "ID                                           43301.487   \n",
       "Customer_ID                                  14340.543   \n",
       "Month                                            2.291   \n",
       "Age                                            686.245   \n",
       "SSN                                      290649963.555   \n",
       "Annual_Income                              1429618.051   \n",
       "Monthly_Inhand_Salary                         3183.686   \n",
       "Num_Bank_Accounts                              117.405   \n",
       "Num_Credit_Card                                129.057   \n",
       "Interest_Rate                                  466.423   \n",
       "Num_of_Loan                                     62.648   \n",
       "Delay_from_due_date                             14.860   \n",
       "Num_of_Delayed_Payment                         226.032   \n",
       "Changed_Credit_Limit                             6.789   \n",
       "Num_Credit_Inquiries                           193.177   \n",
       "Outstanding_Debt                              1155.129   \n",
       "Credit_Utilization_Ratio                         5.117   \n",
       "Credit_History_Age                              99.741   \n",
       "Total_EMI_per_month                           8306.041   \n",
       "Amount_invested_monthly                       2043.319   \n",
       "Monthly_Balance          3181295008379834214645760.000   \n",
       "\n",
       "                                                      min           25%  \\\n",
       "ID                                               5634.000     43132.750   \n",
       "Customer_ID                                      1006.000     13664.500   \n",
       "Month                                               1.000         2.750   \n",
       "Age                                              -500.000        24.000   \n",
       "SSN                                             81349.000 245221682.000   \n",
       "Annual_Income                                    7005.930     19457.500   \n",
       "Monthly_Inhand_Salary                             303.645      1625.568   \n",
       "Num_Bank_Accounts                                  -1.000         3.000   \n",
       "Num_Credit_Card                                     0.000         4.000   \n",
       "Interest_Rate                                       1.000         8.000   \n",
       "Num_of_Loan                                      -100.000         1.000   \n",
       "Delay_from_due_date                                -5.000        10.000   \n",
       "Num_of_Delayed_Payment                             -3.000         9.000   \n",
       "Changed_Credit_Limit                               -6.490         5.320   \n",
       "Num_Credit_Inquiries                                0.000         3.000   \n",
       "Outstanding_Debt                                    0.230       566.072   \n",
       "Credit_Utilization_Ratio                           20.000        28.053   \n",
       "Credit_History_Age                                  1.000       144.000   \n",
       "Total_EMI_per_month                                 0.000        30.307   \n",
       "Amount_invested_monthly                             0.000        74.534   \n",
       "Monthly_Balance          -333333333333333314856026112.000       270.092   \n",
       "\n",
       "                                   50%           75%           max  \n",
       "ID                           80631.500    118130.250    155629.000  \n",
       "Customer_ID                  25777.000     38385.000     50999.000  \n",
       "Month                            4.500         6.250         8.000  \n",
       "Age                             33.000        42.000      8698.000  \n",
       "SSN                      500317991.000 755784922.000 999993421.000  \n",
       "Annual_Income                37578.610     72790.920  24198062.000  \n",
       "Monthly_Inhand_Salary         3093.745      5957.448     15204.633  \n",
       "Num_Bank_Accounts                6.000         7.000      1798.000  \n",
       "Num_Credit_Card                  5.000         7.000      1499.000  \n",
       "Interest_Rate                   13.000        20.000      5797.000  \n",
       "Num_of_Loan                      3.000         5.000      1496.000  \n",
       "Delay_from_due_date             18.000        28.000        67.000  \n",
       "Num_of_Delayed_Payment          14.000        18.000      4397.000  \n",
       "Changed_Credit_Limit             9.400        14.870        36.970  \n",
       "Num_Credit_Inquiries             6.000         9.000      2597.000  \n",
       "Outstanding_Debt              1166.155      1945.963      4998.070  \n",
       "Credit_Utilization_Ratio        32.306        36.497        50.000  \n",
       "Credit_History_Age             219.000       302.000       404.000  \n",
       "Total_EMI_per_month             69.249       161.224     82331.000  \n",
       "Amount_invested_monthly        135.926       265.732     10000.000  \n",
       "Monthly_Balance                336.719       470.220      1602.041  "
      ]
     },
     "metadata": {},
     "output_type": "display_data"
    },
    {
     "data": {
      "text/plain": [
       "None"
      ]
     },
     "metadata": {},
     "output_type": "display_data"
    },
    {
     "data": {
      "text/html": [
       "<div>\n",
       "<style scoped>\n",
       "    .dataframe tbody tr th:only-of-type {\n",
       "        vertical-align: middle;\n",
       "    }\n",
       "\n",
       "    .dataframe tbody tr th {\n",
       "        vertical-align: top;\n",
       "    }\n",
       "\n",
       "    .dataframe thead th {\n",
       "        text-align: right;\n",
       "    }\n",
       "</style>\n",
       "<table border=\"1\" class=\"dataframe\">\n",
       "  <thead>\n",
       "    <tr style=\"text-align: right;\">\n",
       "      <th></th>\n",
       "      <th>count</th>\n",
       "      <th>mean</th>\n",
       "      <th>std</th>\n",
       "      <th>min</th>\n",
       "      <th>25%</th>\n",
       "      <th>50%</th>\n",
       "      <th>75%</th>\n",
       "      <th>max</th>\n",
       "    </tr>\n",
       "  </thead>\n",
       "  <tbody>\n",
       "    <tr>\n",
       "      <th>ID</th>\n",
       "      <td>50000.000</td>\n",
       "      <td>80637.500</td>\n",
       "      <td>43301.703</td>\n",
       "      <td>5642.000</td>\n",
       "      <td>43139.750</td>\n",
       "      <td>80637.500</td>\n",
       "      <td>118135.250</td>\n",
       "      <td>155633.000</td>\n",
       "    </tr>\n",
       "    <tr>\n",
       "      <th>Customer_ID</th>\n",
       "      <td>50000.000</td>\n",
       "      <td>25982.667</td>\n",
       "      <td>14340.615</td>\n",
       "      <td>1006.000</td>\n",
       "      <td>13664.500</td>\n",
       "      <td>25777.000</td>\n",
       "      <td>38385.000</td>\n",
       "      <td>50999.000</td>\n",
       "    </tr>\n",
       "    <tr>\n",
       "      <th>Month</th>\n",
       "      <td>50000.000</td>\n",
       "      <td>10.500</td>\n",
       "      <td>1.118</td>\n",
       "      <td>9.000</td>\n",
       "      <td>9.750</td>\n",
       "      <td>10.500</td>\n",
       "      <td>11.250</td>\n",
       "      <td>12.000</td>\n",
       "    </tr>\n",
       "    <tr>\n",
       "      <th>Age</th>\n",
       "      <td>50000.000</td>\n",
       "      <td>109.714</td>\n",
       "      <td>679.696</td>\n",
       "      <td>-500.000</td>\n",
       "      <td>25.000</td>\n",
       "      <td>34.000</td>\n",
       "      <td>43.000</td>\n",
       "      <td>8688.000</td>\n",
       "    </tr>\n",
       "    <tr>\n",
       "      <th>SSN</th>\n",
       "      <td>47172.000</td>\n",
       "      <td>500910799.319</td>\n",
       "      <td>290843514.171</td>\n",
       "      <td>81349.000</td>\n",
       "      <td>245499172.000</td>\n",
       "      <td>501079854.000</td>\n",
       "      <td>756411144.000</td>\n",
       "      <td>999993421.000</td>\n",
       "    </tr>\n",
       "    <tr>\n",
       "      <th>Annual_Income</th>\n",
       "      <td>50000.000</td>\n",
       "      <td>166334.205</td>\n",
       "      <td>1351965.474</td>\n",
       "      <td>7005.930</td>\n",
       "      <td>19453.327</td>\n",
       "      <td>37577.820</td>\n",
       "      <td>72817.020</td>\n",
       "      <td>24137255.000</td>\n",
       "    </tr>\n",
       "    <tr>\n",
       "      <th>Monthly_Inhand_Salary</th>\n",
       "      <td>42502.000</td>\n",
       "      <td>4182.004</td>\n",
       "      <td>3174.109</td>\n",
       "      <td>303.645</td>\n",
       "      <td>1625.188</td>\n",
       "      <td>3086.305</td>\n",
       "      <td>5934.189</td>\n",
       "      <td>15204.633</td>\n",
       "    </tr>\n",
       "    <tr>\n",
       "      <th>Num_Bank_Accounts</th>\n",
       "      <td>50000.000</td>\n",
       "      <td>16.838</td>\n",
       "      <td>116.397</td>\n",
       "      <td>-1.000</td>\n",
       "      <td>3.000</td>\n",
       "      <td>6.000</td>\n",
       "      <td>7.000</td>\n",
       "      <td>1798.000</td>\n",
       "    </tr>\n",
       "    <tr>\n",
       "      <th>Num_Credit_Card</th>\n",
       "      <td>50000.000</td>\n",
       "      <td>22.921</td>\n",
       "      <td>129.315</td>\n",
       "      <td>0.000</td>\n",
       "      <td>4.000</td>\n",
       "      <td>5.000</td>\n",
       "      <td>7.000</td>\n",
       "      <td>1499.000</td>\n",
       "    </tr>\n",
       "    <tr>\n",
       "      <th>Interest_Rate</th>\n",
       "      <td>50000.000</td>\n",
       "      <td>68.773</td>\n",
       "      <td>451.602</td>\n",
       "      <td>1.000</td>\n",
       "      <td>8.000</td>\n",
       "      <td>13.000</td>\n",
       "      <td>20.000</td>\n",
       "      <td>5799.000</td>\n",
       "    </tr>\n",
       "    <tr>\n",
       "      <th>Num_of_Loan</th>\n",
       "      <td>50000.000</td>\n",
       "      <td>3.403</td>\n",
       "      <td>66.364</td>\n",
       "      <td>-100.000</td>\n",
       "      <td>1.000</td>\n",
       "      <td>3.000</td>\n",
       "      <td>5.000</td>\n",
       "      <td>1496.000</td>\n",
       "    </tr>\n",
       "    <tr>\n",
       "      <th>Delay_from_due_date</th>\n",
       "      <td>50000.000</td>\n",
       "      <td>21.053</td>\n",
       "      <td>14.860</td>\n",
       "      <td>-5.000</td>\n",
       "      <td>10.000</td>\n",
       "      <td>18.000</td>\n",
       "      <td>28.000</td>\n",
       "      <td>67.000</td>\n",
       "    </tr>\n",
       "    <tr>\n",
       "      <th>Num_of_Delayed_Payment</th>\n",
       "      <td>46502.000</td>\n",
       "      <td>30.889</td>\n",
       "      <td>221.510</td>\n",
       "      <td>-3.000</td>\n",
       "      <td>9.000</td>\n",
       "      <td>14.000</td>\n",
       "      <td>18.000</td>\n",
       "      <td>4399.000</td>\n",
       "    </tr>\n",
       "    <tr>\n",
       "      <th>Changed_Credit_Limit</th>\n",
       "      <td>48941.000</td>\n",
       "      <td>10.375</td>\n",
       "      <td>6.781</td>\n",
       "      <td>-6.450</td>\n",
       "      <td>5.340</td>\n",
       "      <td>9.410</td>\n",
       "      <td>14.800</td>\n",
       "      <td>36.650</td>\n",
       "    </tr>\n",
       "    <tr>\n",
       "      <th>Num_Credit_Inquiries</th>\n",
       "      <td>48965.000</td>\n",
       "      <td>30.080</td>\n",
       "      <td>196.984</td>\n",
       "      <td>0.000</td>\n",
       "      <td>4.000</td>\n",
       "      <td>7.000</td>\n",
       "      <td>10.000</td>\n",
       "      <td>2593.000</td>\n",
       "    </tr>\n",
       "    <tr>\n",
       "      <th>Outstanding_Debt</th>\n",
       "      <td>50000.000</td>\n",
       "      <td>1426.220</td>\n",
       "      <td>1155.135</td>\n",
       "      <td>0.230</td>\n",
       "      <td>566.072</td>\n",
       "      <td>1166.155</td>\n",
       "      <td>1945.963</td>\n",
       "      <td>4998.070</td>\n",
       "    </tr>\n",
       "    <tr>\n",
       "      <th>Credit_Utilization_Ratio</th>\n",
       "      <td>50000.000</td>\n",
       "      <td>32.280</td>\n",
       "      <td>5.106</td>\n",
       "      <td>20.510</td>\n",
       "      <td>28.061</td>\n",
       "      <td>32.280</td>\n",
       "      <td>36.469</td>\n",
       "      <td>48.541</td>\n",
       "    </tr>\n",
       "    <tr>\n",
       "      <th>Credit_History_Age</th>\n",
       "      <td>45530.000</td>\n",
       "      <td>227.251</td>\n",
       "      <td>99.554</td>\n",
       "      <td>10.000</td>\n",
       "      <td>151.000</td>\n",
       "      <td>225.000</td>\n",
       "      <td>307.000</td>\n",
       "      <td>408.000</td>\n",
       "    </tr>\n",
       "    <tr>\n",
       "      <th>Total_EMI_per_month</th>\n",
       "      <td>50000.000</td>\n",
       "      <td>1491.304</td>\n",
       "      <td>8595.648</td>\n",
       "      <td>0.000</td>\n",
       "      <td>32.222</td>\n",
       "      <td>74.733</td>\n",
       "      <td>176.157</td>\n",
       "      <td>82398.000</td>\n",
       "    </tr>\n",
       "    <tr>\n",
       "      <th>Amount_invested_monthly</th>\n",
       "      <td>47729.000</td>\n",
       "      <td>641.655</td>\n",
       "      <td>2053.895</td>\n",
       "      <td>0.000</td>\n",
       "      <td>74.529</td>\n",
       "      <td>135.590</td>\n",
       "      <td>266.892</td>\n",
       "      <td>10000.000</td>\n",
       "    </tr>\n",
       "    <tr>\n",
       "      <th>Monthly_Balance</th>\n",
       "      <td>49438.000</td>\n",
       "      <td>-40454710951090252152832.000</td>\n",
       "      <td>3671993981894084417028096.000</td>\n",
       "      <td>-333333333333333314856026112.000</td>\n",
       "      <td>270.474</td>\n",
       "      <td>336.973</td>\n",
       "      <td>470.857</td>\n",
       "      <td>1606.518</td>\n",
       "    </tr>\n",
       "  </tbody>\n",
       "</table>\n",
       "</div>"
      ],
      "text/plain": [
       "                             count                         mean  \\\n",
       "ID                       50000.000                    80637.500   \n",
       "Customer_ID              50000.000                    25982.667   \n",
       "Month                    50000.000                       10.500   \n",
       "Age                      50000.000                      109.714   \n",
       "SSN                      47172.000                500910799.319   \n",
       "Annual_Income            50000.000                   166334.205   \n",
       "Monthly_Inhand_Salary    42502.000                     4182.004   \n",
       "Num_Bank_Accounts        50000.000                       16.838   \n",
       "Num_Credit_Card          50000.000                       22.921   \n",
       "Interest_Rate            50000.000                       68.773   \n",
       "Num_of_Loan              50000.000                        3.403   \n",
       "Delay_from_due_date      50000.000                       21.053   \n",
       "Num_of_Delayed_Payment   46502.000                       30.889   \n",
       "Changed_Credit_Limit     48941.000                       10.375   \n",
       "Num_Credit_Inquiries     48965.000                       30.080   \n",
       "Outstanding_Debt         50000.000                     1426.220   \n",
       "Credit_Utilization_Ratio 50000.000                       32.280   \n",
       "Credit_History_Age       45530.000                      227.251   \n",
       "Total_EMI_per_month      50000.000                     1491.304   \n",
       "Amount_invested_monthly  47729.000                      641.655   \n",
       "Monthly_Balance          49438.000 -40454710951090252152832.000   \n",
       "\n",
       "                                                   std  \\\n",
       "ID                                           43301.703   \n",
       "Customer_ID                                  14340.615   \n",
       "Month                                            1.118   \n",
       "Age                                            679.696   \n",
       "SSN                                      290843514.171   \n",
       "Annual_Income                              1351965.474   \n",
       "Monthly_Inhand_Salary                         3174.109   \n",
       "Num_Bank_Accounts                              116.397   \n",
       "Num_Credit_Card                                129.315   \n",
       "Interest_Rate                                  451.602   \n",
       "Num_of_Loan                                     66.364   \n",
       "Delay_from_due_date                             14.860   \n",
       "Num_of_Delayed_Payment                         221.510   \n",
       "Changed_Credit_Limit                             6.781   \n",
       "Num_Credit_Inquiries                           196.984   \n",
       "Outstanding_Debt                              1155.135   \n",
       "Credit_Utilization_Ratio                         5.106   \n",
       "Credit_History_Age                              99.554   \n",
       "Total_EMI_per_month                           8595.648   \n",
       "Amount_invested_monthly                       2053.895   \n",
       "Monthly_Balance          3671993981894084417028096.000   \n",
       "\n",
       "                                                      min           25%  \\\n",
       "ID                                               5642.000     43139.750   \n",
       "Customer_ID                                      1006.000     13664.500   \n",
       "Month                                               9.000         9.750   \n",
       "Age                                              -500.000        25.000   \n",
       "SSN                                             81349.000 245499172.000   \n",
       "Annual_Income                                    7005.930     19453.327   \n",
       "Monthly_Inhand_Salary                             303.645      1625.188   \n",
       "Num_Bank_Accounts                                  -1.000         3.000   \n",
       "Num_Credit_Card                                     0.000         4.000   \n",
       "Interest_Rate                                       1.000         8.000   \n",
       "Num_of_Loan                                      -100.000         1.000   \n",
       "Delay_from_due_date                                -5.000        10.000   \n",
       "Num_of_Delayed_Payment                             -3.000         9.000   \n",
       "Changed_Credit_Limit                               -6.450         5.340   \n",
       "Num_Credit_Inquiries                                0.000         4.000   \n",
       "Outstanding_Debt                                    0.230       566.072   \n",
       "Credit_Utilization_Ratio                           20.510        28.061   \n",
       "Credit_History_Age                                 10.000       151.000   \n",
       "Total_EMI_per_month                                 0.000        32.222   \n",
       "Amount_invested_monthly                             0.000        74.529   \n",
       "Monthly_Balance          -333333333333333314856026112.000       270.474   \n",
       "\n",
       "                                   50%           75%           max  \n",
       "ID                           80637.500    118135.250    155633.000  \n",
       "Customer_ID                  25777.000     38385.000     50999.000  \n",
       "Month                           10.500        11.250        12.000  \n",
       "Age                             34.000        43.000      8688.000  \n",
       "SSN                      501079854.000 756411144.000 999993421.000  \n",
       "Annual_Income                37577.820     72817.020  24137255.000  \n",
       "Monthly_Inhand_Salary         3086.305      5934.189     15204.633  \n",
       "Num_Bank_Accounts                6.000         7.000      1798.000  \n",
       "Num_Credit_Card                  5.000         7.000      1499.000  \n",
       "Interest_Rate                   13.000        20.000      5799.000  \n",
       "Num_of_Loan                      3.000         5.000      1496.000  \n",
       "Delay_from_due_date             18.000        28.000        67.000  \n",
       "Num_of_Delayed_Payment          14.000        18.000      4399.000  \n",
       "Changed_Credit_Limit             9.410        14.800        36.650  \n",
       "Num_Credit_Inquiries             7.000        10.000      2593.000  \n",
       "Outstanding_Debt              1166.155      1945.963      4998.070  \n",
       "Credit_Utilization_Ratio        32.280        36.469        48.541  \n",
       "Credit_History_Age             225.000       307.000       408.000  \n",
       "Total_EMI_per_month             74.733       176.157     82398.000  \n",
       "Amount_invested_monthly        135.590       266.892     10000.000  \n",
       "Monthly_Balance                336.973       470.857      1606.518  "
      ]
     },
     "metadata": {},
     "output_type": "display_data"
    }
   ],
   "source": [
    "display(\n",
    "    df_train.describe().T, \n",
    "    print(), \n",
    "    df_test.describe().T\n",
    ")"
   ]
  },
  {
   "cell_type": "code",
   "execution_count": 63,
   "metadata": {},
   "outputs": [
    {
     "name": "stdout",
     "output_type": "stream",
     "text": [
      "\n"
     ]
    },
    {
     "data": {
      "text/plain": [
       "100000"
      ]
     },
     "metadata": {},
     "output_type": "display_data"
    },
    {
     "data": {
      "text/plain": [
       "None"
      ]
     },
     "metadata": {},
     "output_type": "display_data"
    },
    {
     "data": {
      "text/plain": [
       "50000"
      ]
     },
     "metadata": {},
     "output_type": "display_data"
    }
   ],
   "source": [
    "display(    \n",
    "    df_train['ID'].nunique(),\n",
    "    print(),\n",
    "    df_test['ID'].nunique()\n",
    ")"
   ]
  },
  {
   "cell_type": "code",
   "execution_count": 64,
   "metadata": {},
   "outputs": [
    {
     "name": "stdout",
     "output_type": "stream",
     "text": [
      "\n"
     ]
    },
    {
     "data": {
      "text/plain": [
       "12500"
      ]
     },
     "metadata": {},
     "output_type": "display_data"
    },
    {
     "data": {
      "text/plain": [
       "None"
      ]
     },
     "metadata": {},
     "output_type": "display_data"
    },
    {
     "data": {
      "text/plain": [
       "12500"
      ]
     },
     "metadata": {},
     "output_type": "display_data"
    }
   ],
   "source": [
    "display(    \n",
    "    df_train['Customer_ID'].nunique(),\n",
    "    print(),\n",
    "    df_test['Customer_ID'].nunique()\n",
    ")"
   ]
  },
  {
   "cell_type": "code",
   "execution_count": 65,
   "metadata": {},
   "outputs": [
    {
     "name": "stdout",
     "output_type": "stream",
     "text": [
      "\n"
     ]
    },
    {
     "data": {
      "text/plain": [
       "1    12500\n",
       "2    12500\n",
       "3    12500\n",
       "4    12500\n",
       "5    12500\n",
       "6    12500\n",
       "7    12500\n",
       "8    12500\n",
       "Name: Month, dtype: int64"
      ]
     },
     "metadata": {},
     "output_type": "display_data"
    },
    {
     "data": {
      "text/plain": [
       "None"
      ]
     },
     "metadata": {},
     "output_type": "display_data"
    },
    {
     "data": {
      "text/plain": [
       "9     12500\n",
       "10    12500\n",
       "11    12500\n",
       "12    12500\n",
       "Name: Month, dtype: int64"
      ]
     },
     "metadata": {},
     "output_type": "display_data"
    }
   ],
   "source": [
    "display(    \n",
    "    df_train['Month'].value_counts(),\n",
    "    print(),\n",
    "    df_test['Month'].value_counts()\n",
    ")"
   ]
  },
  {
   "cell_type": "code",
   "execution_count": 66,
   "metadata": {},
   "outputs": [],
   "source": [
    "# Define Outlier Range\n",
    "def get_lower_upper(df_column): \n",
    "    \n",
    "    Q1 = df_column.quantile(0.25)\n",
    "    Q3 = df_column.quantile(0.75)\n",
    "    iqr = Q3-Q1\n",
    "    \n",
    "    lower_lim = Q1 - (1.5*iqr)\n",
    "    upper_lim = Q3 + (1.5*iqr)\n",
    "    \n",
    "    return lower_lim, upper_lim"
   ]
  },
  {
   "cell_type": "code",
   "execution_count": 67,
   "metadata": {},
   "outputs": [
    {
     "data": {
      "text/plain": [
       "Customer_ID\n",
       "1006     [37, 38, 38, 8153, 38, 38, 38, 38]\n",
       "1007       [48, 48, 48, 48, 48, 48, 48, 48]\n",
       "1008     [3452, 37, 37, 37, 37, 37, 37, 37]\n",
       "1009       [22, 22, 22, 22, 22, 22, 22, 23]\n",
       "1011       [43, 44, 44, 44, 44, 44, 44, 44]\n",
       "                        ...                \n",
       "50984      [20, 20, 20, 20, 20, 20, 20, 20]\n",
       "50990    [38, 38, 4706, 38, 38, 38, 38, 38]\n",
       "50992      [23, 23, 23, 23, 23, 23, 24, 24]\n",
       "50996    [3891, 38, 38, 38, 38, 38, 38, 38]\n",
       "50999      [46, 46, 46, 46, 46, 46, 46, 46]\n",
       "Name: Age, Length: 12500, dtype: object"
      ]
     },
     "execution_count": 67,
     "metadata": {},
     "output_type": "execute_result"
    }
   ],
   "source": [
    "df_train[df_train.Age.notna()].groupby('Customer_ID')['Age'].apply(list)"
   ]
  },
  {
   "cell_type": "code",
   "execution_count": 68,
   "metadata": {},
   "outputs": [],
   "source": [
    "# Reassign Wrong Values and Show Function\n",
    "def Reassign_Group_Numeric_Wrong_Values(df, groupby, column, inplace=True):    \n",
    "\n",
    "    # Identify Wrong values Range\n",
    "    def get_group_min_max(df, groupby, column):            \n",
    "        cur = df[df[column].notna()].groupby(groupby)[column].apply(list)\n",
    "        x, y = cur.apply(lambda x: stats.mode(x)).apply([min, max])\n",
    "        return x[0][0], y[0][0]\n",
    "    \n",
    "    # Assigning Wrong values\n",
    "    def make_group_NaN_and_fill_mode(df, groupby, column, inplace=True):\n",
    "        df_dropped = df[df[column].notna()].groupby(groupby)[column].apply(list)\n",
    "        x, y = df_dropped.apply(lambda x: stats.mode(x)).apply([min, max])\n",
    "        mini, maxi = x[0][0], y[0][0]\n",
    "\n",
    "        # assign Wrong Values to NaN\n",
    "        col = df[column].apply(lambda x: np.NaN if ((x<mini)|(x>maxi)) else x)\n",
    "\n",
    "        # fill with local mode\n",
    "        mode_by_group = df.groupby(groupby)[column].transform(lambda x: x.mode()[0] if not x.mode().empty else np.NaN)\n",
    "        result = col.fillna(mode_by_group)\n",
    "\n",
    "        # inplace\n",
    "        if inplace:\n",
    "            df[column]=result\n",
    "        else:\n",
    "            return result\n",
    "        \n",
    "    \n",
    "    # Run      \n",
    "    if inplace:   \n",
    "        print(\"\\nExisting Min, Max Values:\", df[column].apply([min, max]), sep='\\n', end='\\n')       \n",
    "        mini, maxi = get_group_min_max(df, groupby, column)        \n",
    "        print(f\"\\nby {groupby}'s Actual min, max Values:\", f'min:\\t{mini},\\nmax:\\t{ maxi}', sep='\\n', end='\\n')\n",
    "        \n",
    "        # Before Assigning Wrong values      \n",
    "        x = df[column].value_counts(dropna=False).head(1)\n",
    "        print(f'\\nBefore Assigning Min, Max {column}:', [x if x.index[0] is np.NaN or x.index[0] is None else 'No NaN Value'] , end='\\n')\n",
    "        \n",
    "        a = df.groupby(groupby)[column].apply(list) \n",
    "        print(f'\\nBefore Assigning Example {column}:\\n', *a.head().values, sep='\\n', end='\\n')\n",
    "        \n",
    "        # Assigning\n",
    "        make_group_NaN_and_fill_mode(df, groupby, column, inplace)\n",
    "        \n",
    "        # After Assigning Wrong values\n",
    "        y = df[column].value_counts(dropna=False).head(1)\n",
    "        print(f'\\nAfter Assigning  Min, Max {column}:', [y if y.index[0] is np.NaN or x.index[0] is None else 'No NaN Value'] , end='\\n')\n",
    "        \n",
    "        b = df.groupby(groupby)[column].apply(list)\n",
    "        print(f'\\nAfter Assigning Example {column}:\\n', *b.head().values, sep='\\n', end='\\n')\n",
    "    else:   \n",
    "        # Show\n",
    "        return make_group_NaN_and_fill_mode(df, groupby, column, inplace)"
   ]
  },
  {
   "cell_type": "code",
   "execution_count": 69,
   "metadata": {},
   "outputs": [
    {
     "data": {
      "text/plain": [
       "Index(['ID', 'Customer_ID', 'Month', 'Age', 'SSN', 'Annual_Income',\n",
       "       'Monthly_Inhand_Salary', 'Num_Bank_Accounts', 'Num_Credit_Card',\n",
       "       'Interest_Rate', 'Num_of_Loan', 'Delay_from_due_date',\n",
       "       'Num_of_Delayed_Payment', 'Changed_Credit_Limit',\n",
       "       'Num_Credit_Inquiries', 'Outstanding_Debt', 'Credit_Utilization_Ratio',\n",
       "       'Credit_History_Age', 'Total_EMI_per_month', 'Amount_invested_monthly',\n",
       "       'Monthly_Balance'],\n",
       "      dtype='object')"
      ]
     },
     "execution_count": 69,
     "metadata": {},
     "output_type": "execute_result"
    }
   ],
   "source": [
    "df_train.describe().columns"
   ]
  },
  {
   "cell_type": "code",
   "execution_count": 70,
   "metadata": {},
   "outputs": [
    {
     "name": "stdout",
     "output_type": "stream",
     "text": [
      "\n",
      "Existing Min, Max Values:\n",
      "min    -500\n",
      "max    8698\n",
      "Name: Age, dtype: int64\n",
      "\n",
      "by Customer_ID's Actual min, max Values:\n",
      "min:\t14,\n",
      "max:\t56\n",
      "\n",
      "Before Assigning Min, Max Age: ['No NaN Value']\n",
      "\n",
      "Before Assigning Example Age:\n",
      "\n",
      "[37, 38, 38, 8153, 38, 38, 38, 38]\n",
      "[48, 48, 48, 48, 48, 48, 48, 48]\n",
      "[3452, 37, 37, 37, 37, 37, 37, 37]\n",
      "[22, 22, 22, 22, 22, 22, 22, 23]\n",
      "[43, 44, 44, 44, 44, 44, 44, 44]\n",
      "\n",
      "After Assigning  Min, Max Age: ['No NaN Value']\n",
      "\n",
      "After Assigning Example Age:\n",
      "\n",
      "[37.0, 38.0, 38.0, 38.0, 38.0, 38.0, 38.0, 38.0]\n",
      "[48.0, 48.0, 48.0, 48.0, 48.0, 48.0, 48.0, 48.0]\n",
      "[37.0, 37.0, 37.0, 37.0, 37.0, 37.0, 37.0, 37.0]\n",
      "[22.0, 22.0, 22.0, 22.0, 22.0, 22.0, 22.0, 23.0]\n",
      "[43.0, 44.0, 44.0, 44.0, 44.0, 44.0, 44.0, 44.0]\n",
      "\n",
      "\n",
      "Existing Min, Max Values:\n",
      "min    -500\n",
      "max    8688\n",
      "Name: Age, dtype: int64\n",
      "\n",
      "by Customer_ID's Actual min, max Values:\n",
      "min:\t-500,\n",
      "max:\t56\n",
      "\n",
      "Before Assigning Min, Max Age: ['No NaN Value']\n",
      "\n",
      "Before Assigning Example Age:\n",
      "\n",
      "[38, 38, 38, 38]\n",
      "[48, 48, 48, 49]\n",
      "[37, 37, 37, 37]\n",
      "[23, 23, 23, 23]\n",
      "[44, 44, 44, 44]\n",
      "\n",
      "After Assigning  Min, Max Age: ['No NaN Value']\n",
      "\n",
      "After Assigning Example Age:\n",
      "\n",
      "[38.0, 38.0, 38.0, 38.0]\n",
      "[48.0, 48.0, 48.0, 49.0]\n",
      "[37.0, 37.0, 37.0, 37.0]\n",
      "[23.0, 23.0, 23.0, 23.0]\n",
      "[44.0, 44.0, 44.0, 44.0]\n"
     ]
    },
    {
     "data": {
      "text/plain": [
       "None"
      ]
     },
     "metadata": {},
     "output_type": "display_data"
    },
    {
     "data": {
      "text/plain": [
       "None"
      ]
     },
     "metadata": {},
     "output_type": "display_data"
    },
    {
     "data": {
      "text/plain": [
       "None"
      ]
     },
     "metadata": {},
     "output_type": "display_data"
    }
   ],
   "source": [
    "display(    \n",
    "    Reassign_Group_Numeric_Wrong_Values(df_train, 'Customer_ID', 'Age'),\n",
    "    print(),\n",
    "    Reassign_Group_Numeric_Wrong_Values(df_test, 'Customer_ID', 'Age')\n",
    ")"
   ]
  },
  {
   "cell_type": "code",
   "execution_count": 71,
   "metadata": {},
   "outputs": [
    {
     "name": "stdout",
     "output_type": "stream",
     "text": [
      "\n"
     ]
    },
    {
     "data": {
      "text/plain": [
       "(-3.0, 69.0)"
      ]
     },
     "metadata": {},
     "output_type": "display_data"
    },
    {
     "data": {
      "text/plain": [
       "None"
      ]
     },
     "metadata": {},
     "output_type": "display_data"
    },
    {
     "data": {
      "text/plain": [
       "(-0.5, 67.5)"
      ]
     },
     "metadata": {},
     "output_type": "display_data"
    }
   ],
   "source": [
    "# Check Outlier\n",
    "display(    \n",
    "    get_lower_upper(df_train['Age']),\n",
    "    print(),\n",
    "    get_lower_upper(df_test['Age'])\n",
    ")"
   ]
  },
  {
   "cell_type": "code",
   "execution_count": 72,
   "metadata": {},
   "outputs": [],
   "source": [
    "# Check df_test min:-500,\n",
    "lower = get_lower_upper(df_test['Age'])[0]\n",
    "df_test['Age'] = df_test['Age'].apply(lambda x: np.NaN if x < lower else x)"
   ]
  },
  {
   "cell_type": "code",
   "execution_count": 73,
   "metadata": {},
   "outputs": [
    {
     "name": "stdout",
     "output_type": "stream",
     "text": [
      "\n",
      "Existing Min, Max Values:\n",
      "min   14.000\n",
      "max   56.000\n",
      "Name: Age, dtype: float64\n",
      "\n",
      "by Customer_ID's Actual min, max Values:\n",
      "min:\t14.0,\n",
      "max:\t56.0\n",
      "\n",
      "Before Assigning Min, Max Age: ['No NaN Value']\n",
      "\n",
      "Before Assigning Example Age:\n",
      "\n",
      "[38.0, 38.0, 38.0, 38.0]\n",
      "[48.0, 48.0, 48.0, 49.0]\n",
      "[37.0, 37.0, 37.0, 37.0]\n",
      "[23.0, 23.0, 23.0, 23.0]\n",
      "[44.0, 44.0, 44.0, 44.0]\n",
      "\n",
      "After Assigning  Min, Max Age: ['No NaN Value']\n",
      "\n",
      "After Assigning Example Age:\n",
      "\n",
      "[38.0, 38.0, 38.0, 38.0]\n",
      "[48.0, 48.0, 48.0, 49.0]\n",
      "[37.0, 37.0, 37.0, 37.0]\n",
      "[23.0, 23.0, 23.0, 23.0]\n",
      "[44.0, 44.0, 44.0, 44.0]\n"
     ]
    }
   ],
   "source": [
    "Reassign_Group_Numeric_Wrong_Values(df_test, 'Customer_ID', 'Age')"
   ]
  },
  {
   "cell_type": "code",
   "execution_count": 74,
   "metadata": {},
   "outputs": [
    {
     "data": {
      "text/plain": [
       "NaN              5572\n",
       "78735990.000        8\n",
       "486783816.000       8\n",
       "750677525.000       8\n",
       "903500305.000       8\n",
       "                 ... \n",
       "856066147.000       4\n",
       "753722651.000       4\n",
       "331281921.000       4\n",
       "604626133.000       4\n",
       "286449634.000       4\n",
       "Name: SSN, Length: 12501, dtype: int64"
      ]
     },
     "execution_count": 74,
     "metadata": {},
     "output_type": "execute_result"
    }
   ],
   "source": [
    "df_train.SSN.value_counts(dropna=False)"
   ]
  },
  {
   "cell_type": "code",
   "execution_count": 75,
   "metadata": {},
   "outputs": [],
   "source": [
    "df_train[\"SSN\"] = df_train.groupby(\"Customer_ID\")[\"SSN\"].fillna(method=\"bfill\").fillna(method=\"ffill\")\n",
    "df_test[\"SSN\"] = df_test.groupby(\"Customer_ID\")[\"SSN\"].fillna(method=\"bfill\").fillna(method=\"ffill\")"
   ]
  },
  {
   "cell_type": "code",
   "execution_count": 76,
   "metadata": {},
   "outputs": [
    {
     "data": {
      "text/plain": [
       "17816.750       16\n",
       "22434.160       16\n",
       "40341.160       16\n",
       "17273.830       16\n",
       "109945.320      16\n",
       "                ..\n",
       "17079092.000     1\n",
       "1910572.000      1\n",
       "20179076.000     1\n",
       "7980216.000      1\n",
       "8299495.000      1\n",
       "Name: Annual_Income, Length: 13487, dtype: int64"
      ]
     },
     "execution_count": 76,
     "metadata": {},
     "output_type": "execute_result"
    }
   ],
   "source": [
    "df_train.Annual_Income.value_counts(dropna=False)"
   ]
  },
  {
   "cell_type": "code",
   "execution_count": 77,
   "metadata": {},
   "outputs": [
    {
     "name": "stdout",
     "output_type": "stream",
     "text": [
      "\n",
      "Existing Min, Max Values:\n",
      "min       7005.930\n",
      "max   24198062.000\n",
      "Name: Annual_Income, dtype: float64\n",
      "\n",
      "by Customer_ID's Actual min, max Values:\n",
      "min:\t7005.93,\n",
      "max:\t179987.28\n",
      "\n",
      "Before Assigning Min, Max Annual_Income: ['No NaN Value']\n",
      "\n",
      "Before Assigning Example Annual_Income:\n",
      "\n",
      "[16756.18, 16756.18, 16756.18, 16756.18, 16756.18, 16756.18, 16756.18, 16756.18]\n",
      "[21212.91, 21212.91, 21212.91, 21212.91, 21212.91, 21212.91, 21212.91, 21212.91]\n",
      "[33540.43, 33540.43, 33540.43, 33540.43, 33540.43, 33540.43, 33540.43, 33540.43]\n",
      "[80983.64, 80983.64, 80983.64, 80983.64, 80983.64, 80983.64, 80983.64, 80983.64]\n",
      "[104142.56, 104142.56, 104142.56, 104142.56, 104142.56, 104142.56, 104142.56, 104142.56]\n",
      "\n",
      "After Assigning  Min, Max Annual_Income: ['No NaN Value']\n",
      "\n",
      "After Assigning Example Annual_Income:\n",
      "\n",
      "[16756.18, 16756.18, 16756.18, 16756.18, 16756.18, 16756.18, 16756.18, 16756.18]\n",
      "[21212.91, 21212.91, 21212.91, 21212.91, 21212.91, 21212.91, 21212.91, 21212.91]\n",
      "[33540.43, 33540.43, 33540.43, 33540.43, 33540.43, 33540.43, 33540.43, 33540.43]\n",
      "[80983.64, 80983.64, 80983.64, 80983.64, 80983.64, 80983.64, 80983.64, 80983.64]\n",
      "[104142.56, 104142.56, 104142.56, 104142.56, 104142.56, 104142.56, 104142.56, 104142.56]\n",
      "\n",
      "\n",
      "Existing Min, Max Values:\n",
      "min       7005.930\n",
      "max   24137255.000\n",
      "Name: Annual_Income, dtype: float64\n",
      "\n",
      "by Customer_ID's Actual min, max Values:\n",
      "min:\t7005.93,\n",
      "max:\t179987.28\n",
      "\n",
      "Before Assigning Min, Max Annual_Income: ['No NaN Value']\n",
      "\n",
      "Before Assigning Example Annual_Income:\n",
      "\n",
      "[16756.18, 16756.18, 16756.18, 16756.18]\n",
      "[21212.91, 21212.91, 21212.91, 21212.91]\n",
      "[33540.43, 33540.43, 33540.43, 33540.43]\n",
      "[80983.64, 80983.64, 80983.64, 80983.64]\n",
      "[104142.56, 104142.56, 104142.56, 104142.56]\n",
      "\n",
      "After Assigning  Min, Max Annual_Income: ['No NaN Value']\n",
      "\n",
      "After Assigning Example Annual_Income:\n",
      "\n",
      "[16756.18, 16756.18, 16756.18, 16756.18]\n",
      "[21212.91, 21212.91, 21212.91, 21212.91]\n",
      "[33540.43, 33540.43, 33540.43, 33540.43]\n",
      "[80983.64, 80983.64, 80983.64, 80983.64]\n",
      "[104142.56, 104142.56, 104142.56, 104142.56]\n"
     ]
    },
    {
     "data": {
      "text/plain": [
       "None"
      ]
     },
     "metadata": {},
     "output_type": "display_data"
    },
    {
     "data": {
      "text/plain": [
       "None"
      ]
     },
     "metadata": {},
     "output_type": "display_data"
    },
    {
     "data": {
      "text/plain": [
       "None"
      ]
     },
     "metadata": {},
     "output_type": "display_data"
    }
   ],
   "source": [
    "display(    \n",
    "    Reassign_Group_Numeric_Wrong_Values(df_train, 'Customer_ID', 'Annual_Income'),\n",
    "    print(),\n",
    "    Reassign_Group_Numeric_Wrong_Values(df_test, 'Customer_ID', 'Annual_Income')\n",
    ")"
   ]
  },
  {
   "cell_type": "code",
   "execution_count": 78,
   "metadata": {},
   "outputs": [
    {
     "name": "stdout",
     "output_type": "stream",
     "text": [
      "\n"
     ]
    },
    {
     "data": {
      "text/plain": [
       "(-59167.77374999999, 150194.21625)"
      ]
     },
     "metadata": {},
     "output_type": "display_data"
    },
    {
     "data": {
      "text/plain": [
       "None"
      ]
     },
     "metadata": {},
     "output_type": "display_data"
    },
    {
     "data": {
      "text/plain": [
       "(-59167.77374999999, 150194.21625)"
      ]
     },
     "metadata": {},
     "output_type": "display_data"
    }
   ],
   "source": [
    "# Check Outlier\n",
    "display(    \n",
    "    get_lower_upper(df_train['Annual_Income']),\n",
    "    print(),\n",
    "    get_lower_upper(df_test['Annual_Income'])\n",
    ")"
   ]
  },
  {
   "cell_type": "code",
   "execution_count": 79,
   "metadata": {},
   "outputs": [
    {
     "data": {
      "text/plain": [
       "NaN         15002\n",
       "2295.058       15\n",
       "6082.188       15\n",
       "6769.130       15\n",
       "6358.957       15\n",
       "            ...  \n",
       "1087.546        1\n",
       "3189.212        1\n",
       "5640.118        1\n",
       "7727.560        1\n",
       "2443.654        1\n",
       "Name: Monthly_Inhand_Salary, Length: 13236, dtype: int64"
      ]
     },
     "execution_count": 79,
     "metadata": {},
     "output_type": "execute_result"
    }
   ],
   "source": [
    "df_train.Monthly_Inhand_Salary.value_counts(dropna=False)"
   ]
  },
  {
   "cell_type": "code",
   "execution_count": 80,
   "metadata": {},
   "outputs": [
    {
     "name": "stdout",
     "output_type": "stream",
     "text": [
      "\n",
      "Existing Min, Max Values:\n",
      "min     303.645\n",
      "max   15204.633\n",
      "Name: Monthly_Inhand_Salary, dtype: float64\n",
      "\n",
      "by Customer_ID's Actual min, max Values:\n",
      "min:\t303.6454166666666,\n",
      "max:\t15204.633333333331\n",
      "\n",
      "Before Assigning Min, Max Monthly_Inhand_Salary: ['No NaN Value']\n",
      "\n",
      "Before Assigning Example Monthly_Inhand_Salary:\n",
      "\n",
      "[1331.3483333333334, 1331.3483333333334, 1331.3483333333334, 1331.3483333333334, 1331.3483333333334, 1331.3483333333334, 1331.3483333333334, 1331.3483333333334]\n",
      "[1496.7425, 1496.7425, 1496.7425, 1496.7425, nan, 1496.7425, 1496.7425, 1496.7425]\n",
      "[2655.035833333333, 2655.035833333333, 2655.035833333333, 2655.035833333333, 2655.035833333333, 2655.035833333333, 2655.035833333333, 2655.035833333333]\n",
      "[6692.636666666666, 6692.636666666666, 6692.636666666666, 6692.636666666666, 6692.636666666666, 6692.636666666666, 6692.636666666666, 6692.636666666666]\n",
      "[8433.546666666667, 8433.546666666667, 8433.546666666667, 8433.546666666667, 8433.546666666667, 8433.546666666667, 8433.546666666667, nan]\n",
      "\n",
      "After Assigning  Min, Max Monthly_Inhand_Salary: ['No NaN Value']\n",
      "\n",
      "After Assigning Example Monthly_Inhand_Salary:\n",
      "\n",
      "[1331.3483333333334, 1331.3483333333334, 1331.3483333333334, 1331.3483333333334, 1331.3483333333334, 1331.3483333333334, 1331.3483333333334, 1331.3483333333334]\n",
      "[1496.7425, 1496.7425, 1496.7425, 1496.7425, 1496.7425, 1496.7425, 1496.7425, 1496.7425]\n",
      "[2655.035833333333, 2655.035833333333, 2655.035833333333, 2655.035833333333, 2655.035833333333, 2655.035833333333, 2655.035833333333, 2655.035833333333]\n",
      "[6692.636666666666, 6692.636666666666, 6692.636666666666, 6692.636666666666, 6692.636666666666, 6692.636666666666, 6692.636666666666, 6692.636666666666]\n",
      "[8433.546666666667, 8433.546666666667, 8433.546666666667, 8433.546666666667, 8433.546666666667, 8433.546666666667, 8433.546666666667, 8433.546666666667]\n",
      "\n",
      "\n",
      "Existing Min, Max Values:\n",
      "min     303.645\n",
      "max   15204.633\n",
      "Name: Monthly_Inhand_Salary, dtype: float64\n",
      "\n",
      "by Customer_ID's Actual min, max Values:\n",
      "min:\t303.6454166666666,\n",
      "max:\t15204.633333333331\n",
      "\n",
      "Before Assigning Min, Max Monthly_Inhand_Salary: ['No NaN Value']\n",
      "\n",
      "Before Assigning Example Monthly_Inhand_Salary:\n",
      "\n",
      "[1331.3483333333334, 1331.3483333333334, nan, 1331.3483333333334]\n",
      "[1496.7425, 1496.7425, 1496.7425, 1496.7425]\n",
      "[2655.035833333333, 2655.035833333333, 2655.035833333333, 2655.035833333333]\n",
      "[6692.636666666666, 6692.636666666666, 6692.636666666666, 6692.636666666666]\n",
      "[8433.546666666667, 8433.546666666667, 8433.546666666667, nan]\n",
      "\n",
      "After Assigning  Min, Max Monthly_Inhand_Salary: ['No NaN Value']\n",
      "\n",
      "After Assigning Example Monthly_Inhand_Salary:\n",
      "\n",
      "[1331.3483333333334, 1331.3483333333334, 1331.3483333333334, 1331.3483333333334]\n",
      "[1496.7425, 1496.7425, 1496.7425, 1496.7425]\n",
      "[2655.035833333333, 2655.035833333333, 2655.035833333333, 2655.035833333333]\n",
      "[6692.636666666666, 6692.636666666666, 6692.636666666666, 6692.636666666666]\n",
      "[8433.546666666667, 8433.546666666667, 8433.546666666667, 8433.546666666667]\n"
     ]
    },
    {
     "data": {
      "text/plain": [
       "None"
      ]
     },
     "metadata": {},
     "output_type": "display_data"
    },
    {
     "data": {
      "text/plain": [
       "None"
      ]
     },
     "metadata": {},
     "output_type": "display_data"
    },
    {
     "data": {
      "text/plain": [
       "None"
      ]
     },
     "metadata": {},
     "output_type": "display_data"
    }
   ],
   "source": [
    "display(    \n",
    "    Reassign_Group_Numeric_Wrong_Values(df_train, 'Customer_ID', 'Monthly_Inhand_Salary'),\n",
    "    print(),\n",
    "    Reassign_Group_Numeric_Wrong_Values(df_test, 'Customer_ID', 'Monthly_Inhand_Salary')\n",
    ")"
   ]
  },
  {
   "cell_type": "code",
   "execution_count": 81,
   "metadata": {},
   "outputs": [
    {
     "name": "stdout",
     "output_type": "stream",
     "text": [
      "\n"
     ]
    },
    {
     "data": {
      "text/plain": [
       "(-4875.552083333334, 12463.95125)"
      ]
     },
     "metadata": {},
     "output_type": "display_data"
    },
    {
     "data": {
      "text/plain": [
       "None"
      ]
     },
     "metadata": {},
     "output_type": "display_data"
    },
    {
     "data": {
      "text/plain": [
       "(-4846.678333333333, 12406.855)"
      ]
     },
     "metadata": {},
     "output_type": "display_data"
    }
   ],
   "source": [
    "# Check Outlier\n",
    "display(    \n",
    "    get_lower_upper(df_train['Monthly_Inhand_Salary']),\n",
    "    print(),\n",
    "    get_lower_upper(df_test['Monthly_Inhand_Salary'])\n",
    ")"
   ]
  },
  {
   "cell_type": "code",
   "execution_count": 82,
   "metadata": {},
   "outputs": [
    {
     "data": {
      "text/plain": [
       "6       13001\n",
       "7       12823\n",
       "8       12765\n",
       "4       12186\n",
       "5       12118\n",
       "        ...  \n",
       "1626        1\n",
       "1470        1\n",
       "887         1\n",
       "211         1\n",
       "697         1\n",
       "Name: Num_Bank_Accounts, Length: 943, dtype: int64"
      ]
     },
     "execution_count": 82,
     "metadata": {},
     "output_type": "execute_result"
    }
   ],
   "source": [
    "df_train.Num_Bank_Accounts.value_counts(dropna=False)"
   ]
  },
  {
   "cell_type": "code",
   "execution_count": 83,
   "metadata": {},
   "outputs": [
    {
     "name": "stdout",
     "output_type": "stream",
     "text": [
      "\n",
      "Existing Min, Max Values:\n",
      "min      -1\n",
      "max    1798\n",
      "Name: Num_Bank_Accounts, dtype: int64\n",
      "\n",
      "by Customer_ID's Actual min, max Values:\n",
      "min:\t-1,\n",
      "max:\t10\n",
      "\n",
      "Before Assigning Min, Max Num_Bank_Accounts: ['No NaN Value']\n",
      "\n",
      "Before Assigning Example Num_Bank_Accounts:\n",
      "\n",
      "[9, 9, 9, 9, 9, 9, 9, 9]\n",
      "[3, 3, 3, 1174, 3, 3, 3, 3]\n",
      "[6, 6, 6, 6, 6, 6, 6, 6]\n",
      "[6, 6, 6, 6, 6, 6, 6, 6]\n",
      "[3, 3, 3, 3, 3, 3, 3, 3]\n",
      "\n",
      "After Assigning  Min, Max Num_Bank_Accounts: ['No NaN Value']\n",
      "\n",
      "After Assigning Example Num_Bank_Accounts:\n",
      "\n",
      "[9.0, 9.0, 9.0, 9.0, 9.0, 9.0, 9.0, 9.0]\n",
      "[3.0, 3.0, 3.0, 3.0, 3.0, 3.0, 3.0, 3.0]\n",
      "[6.0, 6.0, 6.0, 6.0, 6.0, 6.0, 6.0, 6.0]\n",
      "[6.0, 6.0, 6.0, 6.0, 6.0, 6.0, 6.0, 6.0]\n",
      "[3.0, 3.0, 3.0, 3.0, 3.0, 3.0, 3.0, 3.0]\n",
      "\n",
      "\n",
      "Existing Min, Max Values:\n",
      "min      -1\n",
      "max    1798\n",
      "Name: Num_Bank_Accounts, dtype: int64\n",
      "\n",
      "by Customer_ID's Actual min, max Values:\n",
      "min:\t-1,\n",
      "max:\t11\n",
      "\n",
      "Before Assigning Min, Max Num_Bank_Accounts: ['No NaN Value']\n",
      "\n",
      "Before Assigning Example Num_Bank_Accounts:\n",
      "\n",
      "[9, 9, 9, 9]\n",
      "[3, 3, 3, 3]\n",
      "[6, 6, 6, 6]\n",
      "[6, 6, 6, 6]\n",
      "[3, 3, 3, 3]\n",
      "\n",
      "After Assigning  Min, Max Num_Bank_Accounts: ['No NaN Value']\n",
      "\n",
      "After Assigning Example Num_Bank_Accounts:\n",
      "\n",
      "[9.0, 9.0, 9.0, 9.0]\n",
      "[3.0, 3.0, 3.0, 3.0]\n",
      "[6.0, 6.0, 6.0, 6.0]\n",
      "[6.0, 6.0, 6.0, 6.0]\n",
      "[3.0, 3.0, 3.0, 3.0]\n"
     ]
    },
    {
     "data": {
      "text/plain": [
       "None"
      ]
     },
     "metadata": {},
     "output_type": "display_data"
    },
    {
     "data": {
      "text/plain": [
       "None"
      ]
     },
     "metadata": {},
     "output_type": "display_data"
    },
    {
     "data": {
      "text/plain": [
       "None"
      ]
     },
     "metadata": {},
     "output_type": "display_data"
    }
   ],
   "source": [
    "display(    \n",
    "    Reassign_Group_Numeric_Wrong_Values(df_train, 'Customer_ID', 'Num_Bank_Accounts'),\n",
    "    print(),\n",
    "    Reassign_Group_Numeric_Wrong_Values(df_test, 'Customer_ID', 'Num_Bank_Accounts')\n",
    ")"
   ]
  },
  {
   "cell_type": "code",
   "execution_count": 84,
   "metadata": {},
   "outputs": [
    {
     "name": "stdout",
     "output_type": "stream",
     "text": [
      "\n"
     ]
    },
    {
     "data": {
      "text/plain": [
       "(-3.0, 13.0)"
      ]
     },
     "metadata": {},
     "output_type": "display_data"
    },
    {
     "data": {
      "text/plain": [
       "None"
      ]
     },
     "metadata": {},
     "output_type": "display_data"
    },
    {
     "data": {
      "text/plain": [
       "(-3.0, 13.0)"
      ]
     },
     "metadata": {},
     "output_type": "display_data"
    }
   ],
   "source": [
    "# Check Outlier\n",
    "display(    \n",
    "    get_lower_upper(df_train['Num_Bank_Accounts']),\n",
    "    print(),\n",
    "    get_lower_upper(df_test['Num_Bank_Accounts'])\n",
    ")"
   ]
  },
  {
   "cell_type": "code",
   "execution_count": 85,
   "metadata": {},
   "outputs": [
    {
     "data": {
      "text/plain": [
       "5       18459\n",
       "7       16615\n",
       "6       16559\n",
       "4       14030\n",
       "3       13277\n",
       "        ...  \n",
       "791         1\n",
       "1118        1\n",
       "657         1\n",
       "640         1\n",
       "679         1\n",
       "Name: Num_Credit_Card, Length: 1179, dtype: int64"
      ]
     },
     "execution_count": 85,
     "metadata": {},
     "output_type": "execute_result"
    }
   ],
   "source": [
    "df_train.Num_Credit_Card.value_counts(dropna=False)"
   ]
  },
  {
   "cell_type": "code",
   "execution_count": 86,
   "metadata": {},
   "outputs": [
    {
     "name": "stdout",
     "output_type": "stream",
     "text": [
      "\n",
      "Existing Min, Max Values:\n",
      "min       0\n",
      "max    1499\n",
      "Name: Num_Credit_Card, dtype: int64\n",
      "\n",
      "by Customer_ID's Actual min, max Values:\n",
      "min:\t0,\n",
      "max:\t11\n",
      "\n",
      "Before Assigning Min, Max Num_Credit_Card: ['No NaN Value']\n",
      "\n",
      "Before Assigning Example Num_Credit_Card:\n",
      "\n",
      "[6, 6, 6, 6, 6, 6, 6, 6]\n",
      "[4, 4, 4, 4, 4, 4, 4, 888]\n",
      "[3, 3, 3, 3, 3, 3, 3, 3]\n",
      "[3, 3, 3, 3, 725, 3, 3, 3]\n",
      "[5, 5, 5, 5, 5, 5, 5, 5]\n",
      "\n",
      "After Assigning  Min, Max Num_Credit_Card: ['No NaN Value']\n",
      "\n",
      "After Assigning Example Num_Credit_Card:\n",
      "\n",
      "[6.0, 6.0, 6.0, 6.0, 6.0, 6.0, 6.0, 6.0]\n",
      "[4.0, 4.0, 4.0, 4.0, 4.0, 4.0, 4.0, 4.0]\n",
      "[3.0, 3.0, 3.0, 3.0, 3.0, 3.0, 3.0, 3.0]\n",
      "[3.0, 3.0, 3.0, 3.0, 3.0, 3.0, 3.0, 3.0]\n",
      "[5.0, 5.0, 5.0, 5.0, 5.0, 5.0, 5.0, 5.0]\n",
      "\n",
      "\n",
      "Existing Min, Max Values:\n",
      "min       0\n",
      "max    1499\n",
      "Name: Num_Credit_Card, dtype: int64\n",
      "\n",
      "by Customer_ID's Actual min, max Values:\n",
      "min:\t0,\n",
      "max:\t11\n",
      "\n",
      "Before Assigning Min, Max Num_Credit_Card: ['No NaN Value']\n",
      "\n",
      "Before Assigning Example Num_Credit_Card:\n",
      "\n",
      "[6, 6, 6, 750]\n",
      "[4, 4, 4, 4]\n",
      "[3, 3, 3, 112]\n",
      "[3, 3, 3, 3]\n",
      "[5, 5, 5, 5]\n",
      "\n",
      "After Assigning  Min, Max Num_Credit_Card: ['No NaN Value']\n",
      "\n",
      "After Assigning Example Num_Credit_Card:\n",
      "\n",
      "[6.0, 6.0, 6.0, 6.0]\n",
      "[4.0, 4.0, 4.0, 4.0]\n",
      "[3.0, 3.0, 3.0, 3.0]\n",
      "[3.0, 3.0, 3.0, 3.0]\n",
      "[5.0, 5.0, 5.0, 5.0]\n"
     ]
    },
    {
     "data": {
      "text/plain": [
       "None"
      ]
     },
     "metadata": {},
     "output_type": "display_data"
    },
    {
     "data": {
      "text/plain": [
       "None"
      ]
     },
     "metadata": {},
     "output_type": "display_data"
    },
    {
     "data": {
      "text/plain": [
       "None"
      ]
     },
     "metadata": {},
     "output_type": "display_data"
    }
   ],
   "source": [
    "display(    \n",
    "    Reassign_Group_Numeric_Wrong_Values(df_train, 'Customer_ID', 'Num_Credit_Card'),\n",
    "    print(),\n",
    "    Reassign_Group_Numeric_Wrong_Values(df_test, 'Customer_ID', 'Num_Credit_Card')\n",
    ")"
   ]
  },
  {
   "cell_type": "code",
   "execution_count": 87,
   "metadata": {},
   "outputs": [
    {
     "name": "stdout",
     "output_type": "stream",
     "text": [
      "\n"
     ]
    },
    {
     "data": {
      "text/plain": [
       "(-0.5, 11.5)"
      ]
     },
     "metadata": {},
     "output_type": "display_data"
    },
    {
     "data": {
      "text/plain": [
       "None"
      ]
     },
     "metadata": {},
     "output_type": "display_data"
    },
    {
     "data": {
      "text/plain": [
       "(-0.5, 11.5)"
      ]
     },
     "metadata": {},
     "output_type": "display_data"
    }
   ],
   "source": [
    "# Check Outlier\n",
    "display(    \n",
    "    get_lower_upper(df_train['Num_Credit_Card']),\n",
    "    print(),\n",
    "    get_lower_upper(df_test['Num_Credit_Card'])\n",
    ")"
   ]
  },
  {
   "cell_type": "code",
   "execution_count": 88,
   "metadata": {},
   "outputs": [
    {
     "data": {
      "text/plain": [
       "8       5012\n",
       "5       4979\n",
       "6       4721\n",
       "12      4540\n",
       "10      4540\n",
       "        ... \n",
       "4995       1\n",
       "1899       1\n",
       "2120       1\n",
       "5762       1\n",
       "5729       1\n",
       "Name: Interest_Rate, Length: 1750, dtype: int64"
      ]
     },
     "execution_count": 88,
     "metadata": {},
     "output_type": "execute_result"
    }
   ],
   "source": [
    "df_train.Interest_Rate.value_counts(dropna=False)"
   ]
  },
  {
   "cell_type": "code",
   "execution_count": 89,
   "metadata": {},
   "outputs": [
    {
     "name": "stdout",
     "output_type": "stream",
     "text": [
      "\n",
      "Existing Min, Max Values:\n",
      "min       1\n",
      "max    5797\n",
      "Name: Interest_Rate, dtype: int64\n",
      "\n",
      "by Customer_ID's Actual min, max Values:\n",
      "min:\t1,\n",
      "max:\t34\n",
      "\n",
      "Before Assigning Min, Max Interest_Rate: ['No NaN Value']\n",
      "\n",
      "Before Assigning Example Interest_Rate:\n",
      "\n",
      "[22, 22, 22, 22, 22, 22, 22, 22]\n",
      "[10, 10, 10, 10, 10, 10, 10, 10]\n",
      "[17, 17, 17, 17, 17, 17, 17, 17]\n",
      "[15, 15, 15, 15, 15, 15, 15, 15]\n",
      "[5, 5, 5, 5, 5, 5, 5, 5]\n",
      "\n",
      "After Assigning  Min, Max Interest_Rate: ['No NaN Value']\n",
      "\n",
      "After Assigning Example Interest_Rate:\n",
      "\n",
      "[22.0, 22.0, 22.0, 22.0, 22.0, 22.0, 22.0, 22.0]\n",
      "[10.0, 10.0, 10.0, 10.0, 10.0, 10.0, 10.0, 10.0]\n",
      "[17.0, 17.0, 17.0, 17.0, 17.0, 17.0, 17.0, 17.0]\n",
      "[15.0, 15.0, 15.0, 15.0, 15.0, 15.0, 15.0, 15.0]\n",
      "[5.0, 5.0, 5.0, 5.0, 5.0, 5.0, 5.0, 5.0]\n",
      "\n",
      "\n",
      "Existing Min, Max Values:\n",
      "min       1\n",
      "max    5799\n",
      "Name: Interest_Rate, dtype: int64\n",
      "\n",
      "by Customer_ID's Actual min, max Values:\n",
      "min:\t1,\n",
      "max:\t34\n",
      "\n",
      "Before Assigning Min, Max Interest_Rate: ['No NaN Value']\n",
      "\n",
      "Before Assigning Example Interest_Rate:\n",
      "\n",
      "[22, 22, 22, 22]\n",
      "[10, 10, 10, 10]\n",
      "[17, 17, 17, 17]\n",
      "[15, 15, 15, 15]\n",
      "[5, 5, 5, 5]\n",
      "\n",
      "After Assigning  Min, Max Interest_Rate: ['No NaN Value']\n",
      "\n",
      "After Assigning Example Interest_Rate:\n",
      "\n",
      "[22.0, 22.0, 22.0, 22.0]\n",
      "[10.0, 10.0, 10.0, 10.0]\n",
      "[17.0, 17.0, 17.0, 17.0]\n",
      "[15.0, 15.0, 15.0, 15.0]\n",
      "[5.0, 5.0, 5.0, 5.0]\n"
     ]
    },
    {
     "data": {
      "text/plain": [
       "None"
      ]
     },
     "metadata": {},
     "output_type": "display_data"
    },
    {
     "data": {
      "text/plain": [
       "None"
      ]
     },
     "metadata": {},
     "output_type": "display_data"
    },
    {
     "data": {
      "text/plain": [
       "None"
      ]
     },
     "metadata": {},
     "output_type": "display_data"
    }
   ],
   "source": [
    "display(    \n",
    "    Reassign_Group_Numeric_Wrong_Values(df_train, 'Customer_ID', 'Interest_Rate'),\n",
    "    print(),\n",
    "    Reassign_Group_Numeric_Wrong_Values(df_test, 'Customer_ID', 'Interest_Rate')\n",
    ")"
   ]
  },
  {
   "cell_type": "code",
   "execution_count": 90,
   "metadata": {},
   "outputs": [
    {
     "name": "stdout",
     "output_type": "stream",
     "text": [
      "\n"
     ]
    },
    {
     "data": {
      "text/plain": [
       "(-12.5, 39.5)"
      ]
     },
     "metadata": {},
     "output_type": "display_data"
    },
    {
     "data": {
      "text/plain": [
       "None"
      ]
     },
     "metadata": {},
     "output_type": "display_data"
    },
    {
     "data": {
      "text/plain": [
       "(-12.5, 39.5)"
      ]
     },
     "metadata": {},
     "output_type": "display_data"
    }
   ],
   "source": [
    "# Check Outlier\n",
    "display(    \n",
    "    get_lower_upper(df_train['Interest_Rate']),\n",
    "    print(),\n",
    "    get_lower_upper(df_test['Interest_Rate'])\n",
    ")"
   ]
  },
  {
   "cell_type": "code",
   "execution_count": 91,
   "metadata": {},
   "outputs": [
    {
     "data": {
      "text/plain": [
       "3       15104\n",
       "2       15032\n",
       "4       14743\n",
       "0       10930\n",
       "1       10606\n",
       "        ...  \n",
       "119         1\n",
       "321         1\n",
       "1439        1\n",
       "663         1\n",
       "966         1\n",
       "Name: Num_of_Loan, Length: 414, dtype: int64"
      ]
     },
     "execution_count": 91,
     "metadata": {},
     "output_type": "execute_result"
    }
   ],
   "source": [
    "df_train.Num_of_Loan.value_counts(dropna=False)"
   ]
  },
  {
   "cell_type": "code",
   "execution_count": 92,
   "metadata": {},
   "outputs": [
    {
     "name": "stdout",
     "output_type": "stream",
     "text": [
      "\n",
      "Existing Min, Max Values:\n",
      "min    -100\n",
      "max    1496\n",
      "Name: Num_of_Loan, dtype: int64\n",
      "\n",
      "by Customer_ID's Actual min, max Values:\n",
      "min:\t0,\n",
      "max:\t9\n",
      "\n",
      "Before Assigning Min, Max Num_of_Loan: ['No NaN Value']\n",
      "\n",
      "Before Assigning Example Num_of_Loan:\n",
      "\n",
      "[2, 2, 2, 2, 2, 2, 2, 2]\n",
      "[3, 3, 3, 3, -100, 3, 3, 3]\n",
      "[0, 0, 0, 0, 0, 0, 0, 0]\n",
      "[4, 4, 4, 4, 4, 4, 4, 4]\n",
      "[3, 3, 3, 3, 3, 3, 3, 3]\n",
      "\n",
      "After Assigning  Min, Max Num_of_Loan: ['No NaN Value']\n",
      "\n",
      "After Assigning Example Num_of_Loan:\n",
      "\n",
      "[2.0, 2.0, 2.0, 2.0, 2.0, 2.0, 2.0, 2.0]\n",
      "[3.0, 3.0, 3.0, 3.0, 3.0, 3.0, 3.0, 3.0]\n",
      "[0.0, 0.0, 0.0, 0.0, 0.0, 0.0, 0.0, 0.0]\n",
      "[4.0, 4.0, 4.0, 4.0, 4.0, 4.0, 4.0, 4.0]\n",
      "[3.0, 3.0, 3.0, 3.0, 3.0, 3.0, 3.0, 3.0]\n",
      "\n",
      "\n",
      "Existing Min, Max Values:\n",
      "min    -100\n",
      "max    1496\n",
      "Name: Num_of_Loan, dtype: int64\n",
      "\n",
      "by Customer_ID's Actual min, max Values:\n",
      "min:\t-100,\n",
      "max:\t9\n",
      "\n",
      "Before Assigning Min, Max Num_of_Loan: ['No NaN Value']\n",
      "\n",
      "Before Assigning Example Num_of_Loan:\n",
      "\n",
      "[2, 2, 2, -100]\n",
      "[3, 3, 3, 3]\n",
      "[0, 0, 0, 0]\n",
      "[4, 4, 4, 4]\n",
      "[3, 3, 3, 3]\n",
      "\n",
      "After Assigning  Min, Max Num_of_Loan: ['No NaN Value']\n",
      "\n",
      "After Assigning Example Num_of_Loan:\n",
      "\n",
      "[2.0, 2.0, 2.0, -100.0]\n",
      "[3.0, 3.0, 3.0, 3.0]\n",
      "[0.0, 0.0, 0.0, 0.0]\n",
      "[4.0, 4.0, 4.0, 4.0]\n",
      "[3.0, 3.0, 3.0, 3.0]\n"
     ]
    },
    {
     "data": {
      "text/plain": [
       "None"
      ]
     },
     "metadata": {},
     "output_type": "display_data"
    },
    {
     "data": {
      "text/plain": [
       "None"
      ]
     },
     "metadata": {},
     "output_type": "display_data"
    },
    {
     "data": {
      "text/plain": [
       "None"
      ]
     },
     "metadata": {},
     "output_type": "display_data"
    }
   ],
   "source": [
    "display(    \n",
    "    Reassign_Group_Numeric_Wrong_Values(df_train, 'Customer_ID', 'Num_of_Loan'),\n",
    "    print(),\n",
    "    Reassign_Group_Numeric_Wrong_Values(df_test, 'Customer_ID', 'Num_of_Loan')\n",
    ")"
   ]
  },
  {
   "cell_type": "code",
   "execution_count": 93,
   "metadata": {},
   "outputs": [
    {
     "name": "stdout",
     "output_type": "stream",
     "text": [
      "\n"
     ]
    },
    {
     "data": {
      "text/plain": [
       "(-2.5, 9.5)"
      ]
     },
     "metadata": {},
     "output_type": "display_data"
    },
    {
     "data": {
      "text/plain": [
       "None"
      ]
     },
     "metadata": {},
     "output_type": "display_data"
    },
    {
     "data": {
      "text/plain": [
       "(-5.0, 11.0)"
      ]
     },
     "metadata": {},
     "output_type": "display_data"
    }
   ],
   "source": [
    "# Check Outlier\n",
    "display(    \n",
    "    get_lower_upper(df_train['Num_of_Loan']),\n",
    "    print(),\n",
    "    get_lower_upper(df_test['Num_of_Loan'])\n",
    ")"
   ]
  },
  {
   "cell_type": "code",
   "execution_count": 94,
   "metadata": {},
   "outputs": [],
   "source": [
    "lower = get_lower_upper(df_test['Num_of_Loan'])[0]\n",
    "df_test['Num_of_Loan'] = df_test['Num_of_Loan'].apply(lambda x: np.NaN if x<lower else x)"
   ]
  },
  {
   "cell_type": "code",
   "execution_count": 95,
   "metadata": {},
   "outputs": [
    {
     "name": "stdout",
     "output_type": "stream",
     "text": [
      "\n",
      "Existing Min, Max Values:\n",
      "min   0.000\n",
      "max   9.000\n",
      "Name: Num_of_Loan, dtype: float64\n",
      "\n",
      "by Customer_ID's Actual min, max Values:\n",
      "min:\t0.0,\n",
      "max:\t9.0\n",
      "\n",
      "Before Assigning Min, Max Num_of_Loan: ['No NaN Value']\n",
      "\n",
      "Before Assigning Example Num_of_Loan:\n",
      "\n",
      "[2.0, 2.0, 2.0, nan]\n",
      "[3.0, 3.0, 3.0, 3.0]\n",
      "[0.0, 0.0, 0.0, 0.0]\n",
      "[4.0, 4.0, 4.0, 4.0]\n",
      "[3.0, 3.0, 3.0, 3.0]\n",
      "\n",
      "After Assigning  Min, Max Num_of_Loan: ['No NaN Value']\n",
      "\n",
      "After Assigning Example Num_of_Loan:\n",
      "\n",
      "[2.0, 2.0, 2.0, 2.0]\n",
      "[3.0, 3.0, 3.0, 3.0]\n",
      "[0.0, 0.0, 0.0, 0.0]\n",
      "[4.0, 4.0, 4.0, 4.0]\n",
      "[3.0, 3.0, 3.0, 3.0]\n"
     ]
    }
   ],
   "source": [
    "Reassign_Group_Numeric_Wrong_Values(df_test, 'Customer_ID', 'Num_of_Loan')"
   ]
  },
  {
   "cell_type": "code",
   "execution_count": 96,
   "metadata": {},
   "outputs": [
    {
     "data": {
      "text/plain": [
       " 13    1761\n",
       " 15    1759\n",
       " 8     1680\n",
       " 9     1656\n",
       " 10    1645\n",
       " 14    1636\n",
       " 12    1625\n",
       " 7     1587\n",
       " 6     1584\n",
       " 11    1573\n",
       " 5     1495\n",
       " 18    1335\n",
       " 19    1310\n",
       " 27    1308\n",
       " 20    1300\n",
       " 25    1289\n",
       " 16    1284\n",
       " 21    1230\n",
       " 26    1226\n",
       " 28    1223\n",
       " 29    1223\n",
       " 24    1214\n",
       " 17    1183\n",
       " 23    1165\n",
       " 22    1135\n",
       " 30    1115\n",
       " 3      848\n",
       " 4      825\n",
       " 2      669\n",
       " 1      668\n",
       " 0      626\n",
       " 32     402\n",
       " 31     397\n",
       " 33     381\n",
       " 48     363\n",
       " 47     321\n",
       " 34     320\n",
       " 54     308\n",
       " 41     307\n",
       " 38     306\n",
       " 42     303\n",
       " 52     302\n",
       " 44     299\n",
       " 35     298\n",
       " 55     296\n",
       " 53     291\n",
       " 56     283\n",
       " 58     282\n",
       " 62     279\n",
       " 36     279\n",
       " 40     272\n",
       " 61     271\n",
       " 50     270\n",
       " 45     269\n",
       " 57     269\n",
       " 49     269\n",
       " 37     267\n",
       " 60     259\n",
       " 46     258\n",
       " 43     253\n",
       " 39     250\n",
       " 59     250\n",
       " 51     248\n",
       "-1      101\n",
       "-2       71\n",
       "-3       59\n",
       "-4       49\n",
       " 64      33\n",
       " 65      30\n",
       " 63      21\n",
       "-5       18\n",
       " 66      12\n",
       " 67       7\n",
       "Name: Delay_from_due_date, dtype: int64"
      ]
     },
     "execution_count": 96,
     "metadata": {},
     "output_type": "execute_result"
    }
   ],
   "source": [
    "df_test.Delay_from_due_date.value_counts(dropna=False)"
   ]
  },
  {
   "cell_type": "code",
   "execution_count": 97,
   "metadata": {},
   "outputs": [
    {
     "name": "stdout",
     "output_type": "stream",
     "text": [
      "\n",
      "Existing Min, Max Values:\n",
      "min    -5\n",
      "max    67\n",
      "Name: Delay_from_due_date, dtype: int64\n",
      "\n",
      "by Customer_ID's Actual min, max Values:\n",
      "min:\t-5,\n",
      "max:\t62\n",
      "\n",
      "Before Assigning Min, Max Delay_from_due_date: ['No NaN Value']\n",
      "\n",
      "Before Assigning Example Delay_from_due_date:\n",
      "\n",
      "[48, 48, 48, 48, 48, 48, 48, 48]\n",
      "[19, 19, 19, 19, 19, 19, 19, 16]\n",
      "[25, 28, 22, 26, 26, 26, 26, 26]\n",
      "[19, 19, 19, 19, 19, 19, 19, 19]\n",
      "[15, 15, 20, 16, 20, 20, 20, 24]\n",
      "\n",
      "After Assigning  Min, Max Delay_from_due_date: ['No NaN Value']\n",
      "\n",
      "After Assigning Example Delay_from_due_date:\n",
      "\n",
      "[48.0, 48.0, 48.0, 48.0, 48.0, 48.0, 48.0, 48.0]\n",
      "[19.0, 19.0, 19.0, 19.0, 19.0, 19.0, 19.0, 16.0]\n",
      "[25.0, 28.0, 22.0, 26.0, 26.0, 26.0, 26.0, 26.0]\n",
      "[19.0, 19.0, 19.0, 19.0, 19.0, 19.0, 19.0, 19.0]\n",
      "[15.0, 15.0, 20.0, 16.0, 20.0, 20.0, 20.0, 24.0]\n",
      "\n",
      "\n",
      "Existing Min, Max Values:\n",
      "min    -5\n",
      "max    67\n",
      "Name: Delay_from_due_date, dtype: int64\n",
      "\n",
      "by Customer_ID's Actual min, max Values:\n",
      "min:\t-5,\n",
      "max:\t62\n",
      "\n",
      "Before Assigning Min, Max Delay_from_due_date: ['No NaN Value']\n",
      "\n",
      "Before Assigning Example Delay_from_due_date:\n",
      "\n",
      "[48, 50, 48, 53]\n",
      "[20, 19, 15, 19]\n",
      "[26, 26, 21, 26]\n",
      "[19, 18, 21, 19]\n",
      "[25, 20, 20, 20]\n",
      "\n",
      "After Assigning  Min, Max Delay_from_due_date: ['No NaN Value']\n",
      "\n",
      "After Assigning Example Delay_from_due_date:\n",
      "\n",
      "[48.0, 50.0, 48.0, 53.0]\n",
      "[20.0, 19.0, 15.0, 19.0]\n",
      "[26.0, 26.0, 21.0, 26.0]\n",
      "[19.0, 18.0, 21.0, 19.0]\n",
      "[25.0, 20.0, 20.0, 20.0]\n"
     ]
    },
    {
     "data": {
      "text/plain": [
       "None"
      ]
     },
     "metadata": {},
     "output_type": "display_data"
    },
    {
     "data": {
      "text/plain": [
       "None"
      ]
     },
     "metadata": {},
     "output_type": "display_data"
    },
    {
     "data": {
      "text/plain": [
       "None"
      ]
     },
     "metadata": {},
     "output_type": "display_data"
    }
   ],
   "source": [
    "display(    \n",
    "    Reassign_Group_Numeric_Wrong_Values(df_train, 'Customer_ID', 'Delay_from_due_date'),\n",
    "    print(),\n",
    "    Reassign_Group_Numeric_Wrong_Values(df_test, 'Customer_ID', 'Delay_from_due_date')\n",
    ")"
   ]
  },
  {
   "cell_type": "code",
   "execution_count": 98,
   "metadata": {},
   "outputs": [
    {
     "name": "stdout",
     "output_type": "stream",
     "text": [
      "\n"
     ]
    },
    {
     "data": {
      "text/plain": [
       "(-17.0, 55.0)"
      ]
     },
     "metadata": {},
     "output_type": "display_data"
    },
    {
     "data": {
      "text/plain": [
       "None"
      ]
     },
     "metadata": {},
     "output_type": "display_data"
    },
    {
     "data": {
      "text/plain": [
       "(-17.0, 55.0)"
      ]
     },
     "metadata": {},
     "output_type": "display_data"
    }
   ],
   "source": [
    "# Check Outlier\n",
    "display(    \n",
    "    get_lower_upper(df_train['Delay_from_due_date']),\n",
    "    print(),\n",
    "    get_lower_upper(df_test['Delay_from_due_date'])\n",
    ")"
   ]
  },
  {
   "cell_type": "code",
   "execution_count": 99,
   "metadata": {},
   "outputs": [
    {
     "data": {
      "text/plain": [
       "NaN         3498\n",
       "19.000      2707\n",
       "15.000      2674\n",
       "16.000      2637\n",
       "17.000      2636\n",
       "            ... \n",
       "1146.000       1\n",
       "288.000        1\n",
       "3556.000       1\n",
       "3393.000       1\n",
       "2034.000       1\n",
       "Name: Num_of_Delayed_Payment, Length: 412, dtype: int64"
      ]
     },
     "execution_count": 99,
     "metadata": {},
     "output_type": "execute_result"
    }
   ],
   "source": [
    "df_test.Num_of_Delayed_Payment.value_counts(dropna=False)"
   ]
  },
  {
   "cell_type": "code",
   "execution_count": 100,
   "metadata": {},
   "outputs": [
    {
     "name": "stdout",
     "output_type": "stream",
     "text": [
      "\n",
      "Existing Min, Max Values:\n",
      "min     -3.000\n",
      "max   4397.000\n",
      "Name: Num_of_Delayed_Payment, dtype: float64\n",
      "\n",
      "by Customer_ID's Actual min, max Values:\n",
      "min:\t-2.0,\n",
      "max:\t28.0\n",
      "\n",
      "Before Assigning Min, Max Num_of_Delayed_Payment: ['No NaN Value']\n",
      "\n",
      "Before Assigning Example Num_of_Delayed_Payment:\n",
      "\n",
      "[10.0, 12.0, 12.0, 13.0, nan, 12.0, 11.0, 12.0]\n",
      "[19.0, 19.0, 19.0, 19.0, 19.0, 21.0, 20.0, 19.0]\n",
      "[11.0, 11.0, 11.0, nan, 11.0, nan, 11.0, 13.0]\n",
      "[18.0, 18.0, 18.0, 18.0, 18.0, nan, 20.0, 18.0]\n",
      "[17.0, 16.0, 14.0, nan, 17.0, 14.0, 11.0, 14.0]\n",
      "\n",
      "After Assigning  Min, Max Num_of_Delayed_Payment: ['No NaN Value']\n",
      "\n",
      "After Assigning Example Num_of_Delayed_Payment:\n",
      "\n",
      "[10.0, 12.0, 12.0, 13.0, 12.0, 12.0, 11.0, 12.0]\n",
      "[19.0, 19.0, 19.0, 19.0, 19.0, 21.0, 20.0, 19.0]\n",
      "[11.0, 11.0, 11.0, 11.0, 11.0, 11.0, 11.0, 13.0]\n",
      "[18.0, 18.0, 18.0, 18.0, 18.0, 18.0, 20.0, 18.0]\n",
      "[17.0, 16.0, 14.0, 14.0, 17.0, 14.0, 11.0, 14.0]\n",
      "\n",
      "\n",
      "Existing Min, Max Values:\n",
      "min     -3.000\n",
      "max   4399.000\n",
      "Name: Num_of_Delayed_Payment, dtype: float64\n",
      "\n",
      "by Customer_ID's Actual min, max Values:\n",
      "min:\t-3.0,\n",
      "max:\t28.0\n",
      "\n",
      "Before Assigning Min, Max Num_of_Delayed_Payment: ['No NaN Value']\n",
      "\n",
      "Before Assigning Example Num_of_Delayed_Payment:\n",
      "\n",
      "[12.0, 12.0, 11.0, 12.0]\n",
      "[19.0, 18.0, 19.0, 20.0]\n",
      "[12.0, 11.0, 13.0, 11.0]\n",
      "[18.0, 18.0, nan, nan]\n",
      "[14.0, 14.0, 17.0, 12.0]\n",
      "\n",
      "After Assigning  Min, Max Num_of_Delayed_Payment: ['No NaN Value']\n",
      "\n",
      "After Assigning Example Num_of_Delayed_Payment:\n",
      "\n",
      "[12.0, 12.0, 11.0, 12.0]\n",
      "[19.0, 18.0, 19.0, 20.0]\n",
      "[12.0, 11.0, 13.0, 11.0]\n",
      "[18.0, 18.0, 18.0, 18.0]\n",
      "[14.0, 14.0, 17.0, 12.0]\n"
     ]
    },
    {
     "data": {
      "text/plain": [
       "None"
      ]
     },
     "metadata": {},
     "output_type": "display_data"
    },
    {
     "data": {
      "text/plain": [
       "None"
      ]
     },
     "metadata": {},
     "output_type": "display_data"
    },
    {
     "data": {
      "text/plain": [
       "None"
      ]
     },
     "metadata": {},
     "output_type": "display_data"
    }
   ],
   "source": [
    "display(    \n",
    "    Reassign_Group_Numeric_Wrong_Values(df_train, 'Customer_ID', 'Num_of_Delayed_Payment'),\n",
    "    print(),\n",
    "    Reassign_Group_Numeric_Wrong_Values(df_test, 'Customer_ID', 'Num_of_Delayed_Payment')\n",
    ")"
   ]
  },
  {
   "cell_type": "code",
   "execution_count": 101,
   "metadata": {},
   "outputs": [
    {
     "name": "stdout",
     "output_type": "stream",
     "text": [
      "\n"
     ]
    },
    {
     "data": {
      "text/plain": [
       "(-4.5, 31.5)"
      ]
     },
     "metadata": {},
     "output_type": "display_data"
    },
    {
     "data": {
      "text/plain": [
       "None"
      ]
     },
     "metadata": {},
     "output_type": "display_data"
    },
    {
     "data": {
      "text/plain": [
       "(-4.5, 31.5)"
      ]
     },
     "metadata": {},
     "output_type": "display_data"
    }
   ],
   "source": [
    "# Check Outlier\n",
    "display(    \n",
    "    get_lower_upper(df_train['Num_of_Delayed_Payment']),\n",
    "    print(),\n",
    "    get_lower_upper(df_test['Num_of_Delayed_Payment'])\n",
    ")"
   ]
  },
  {
   "cell_type": "code",
   "execution_count": 102,
   "metadata": {},
   "outputs": [
    {
     "data": {
      "text/plain": [
       "NaN       2091\n",
       "8.220      133\n",
       "11.500     127\n",
       "11.320     126\n",
       "7.350      121\n",
       "          ... \n",
       "-1.840       1\n",
       "0.890        1\n",
       "28.060       1\n",
       "1.560        1\n",
       "21.170       1\n",
       "Name: Changed_Credit_Limit, Length: 4384, dtype: int64"
      ]
     },
     "execution_count": 102,
     "metadata": {},
     "output_type": "execute_result"
    }
   ],
   "source": [
    "df_train.Changed_Credit_Limit.value_counts(dropna=False)"
   ]
  },
  {
   "cell_type": "code",
   "execution_count": 103,
   "metadata": {},
   "outputs": [
    {
     "name": "stdout",
     "output_type": "stream",
     "text": [
      "\n",
      "Existing Min, Max Values:\n",
      "min   -6.490\n",
      "max   36.970\n",
      "Name: Changed_Credit_Limit, dtype: float64\n",
      "\n",
      "by Customer_ID's Actual min, max Values:\n",
      "min:\t-5.01,\n",
      "max:\t29.98\n",
      "\n",
      "Before Assigning Min, Max Changed_Credit_Limit: ['No NaN Value']\n",
      "\n",
      "Before Assigning Example Changed_Credit_Limit:\n",
      "\n",
      "[10.66, 10.66, 10.66, 10.66, 10.66, 10.66, 10.66, 10.66]\n",
      "[12.13, 5.13, 5.13, 5.13, 5.13, 2.13, 5.13, 5.13]\n",
      "[14.11, 14.11, 14.11, 14.11, 14.11, 14.11, 14.11, 14.11]\n",
      "[16.91, 16.91, 16.91, 16.91, 16.91, 16.91, 19.91, 16.91]\n",
      "[15.28, 15.28, 15.28, 15.28, 19.28, 15.28, 15.28, 15.28]\n",
      "\n",
      "After Assigning  Min, Max Changed_Credit_Limit: ['No NaN Value']\n",
      "\n",
      "After Assigning Example Changed_Credit_Limit:\n",
      "\n",
      "[10.66, 10.66, 10.66, 10.66, 10.66, 10.66, 10.66, 10.66]\n",
      "[12.13, 5.13, 5.13, 5.13, 5.13, 2.13, 5.13, 5.13]\n",
      "[14.11, 14.11, 14.11, 14.11, 14.11, 14.11, 14.11, 14.11]\n",
      "[16.91, 16.91, 16.91, 16.91, 16.91, 16.91, 19.91, 16.91]\n",
      "[15.28, 15.28, 15.28, 15.28, 19.28, 15.28, 15.28, 15.28]\n",
      "\n",
      "\n",
      "Existing Min, Max Values:\n",
      "min   -6.450\n",
      "max   36.650\n",
      "Name: Changed_Credit_Limit, dtype: float64\n",
      "\n",
      "by Customer_ID's Actual min, max Values:\n",
      "min:\t-6.28,\n",
      "max:\t34.21\n",
      "\n",
      "Before Assigning Min, Max Changed_Credit_Limit: ['No NaN Value']\n",
      "\n",
      "Before Assigning Example Changed_Credit_Limit:\n",
      "\n",
      "[10.66, 10.66, 17.66, 10.66]\n",
      "[5.13, 5.13, 5.13, 5.13]\n",
      "[14.11, 14.11, 14.11, 14.11]\n",
      "[19.91, 16.91, 16.91, 16.91]\n",
      "[15.28, 15.28, 15.28, 15.28]\n",
      "\n",
      "After Assigning  Min, Max Changed_Credit_Limit: ['No NaN Value']\n",
      "\n",
      "After Assigning Example Changed_Credit_Limit:\n",
      "\n",
      "[10.66, 10.66, 17.66, 10.66]\n",
      "[5.13, 5.13, 5.13, 5.13]\n",
      "[14.11, 14.11, 14.11, 14.11]\n",
      "[19.91, 16.91, 16.91, 16.91]\n",
      "[15.28, 15.28, 15.28, 15.28]\n"
     ]
    },
    {
     "data": {
      "text/plain": [
       "None"
      ]
     },
     "metadata": {},
     "output_type": "display_data"
    },
    {
     "data": {
      "text/plain": [
       "None"
      ]
     },
     "metadata": {},
     "output_type": "display_data"
    },
    {
     "data": {
      "text/plain": [
       "None"
      ]
     },
     "metadata": {},
     "output_type": "display_data"
    }
   ],
   "source": [
    "display(    \n",
    "    Reassign_Group_Numeric_Wrong_Values(df_train, 'Customer_ID', 'Changed_Credit_Limit'),\n",
    "    print(),\n",
    "    Reassign_Group_Numeric_Wrong_Values(df_test, 'Customer_ID', 'Changed_Credit_Limit')\n",
    ")"
   ]
  },
  {
   "cell_type": "code",
   "execution_count": 104,
   "metadata": {},
   "outputs": [
    {
     "name": "stdout",
     "output_type": "stream",
     "text": [
      "\n"
     ]
    },
    {
     "data": {
      "text/plain": [
       "(-8.925, 29.115000000000002)"
      ]
     },
     "metadata": {},
     "output_type": "display_data"
    },
    {
     "data": {
      "text/plain": [
       "None"
      ]
     },
     "metadata": {},
     "output_type": "display_data"
    },
    {
     "data": {
      "text/plain": [
       "(-8.850000000000001, 28.990000000000002)"
      ]
     },
     "metadata": {},
     "output_type": "display_data"
    }
   ],
   "source": [
    "# Check Outlier\n",
    "display(    \n",
    "    get_lower_upper(df_train['Changed_Credit_Limit']),\n",
    "    print(),\n",
    "    get_lower_upper(df_test['Changed_Credit_Limit'])\n",
    ")"
   ]
  },
  {
   "cell_type": "code",
   "execution_count": 105,
   "metadata": {},
   "outputs": [
    {
     "data": {
      "text/plain": [
       "4.000       11271\n",
       "3.000        8890\n",
       "6.000        8111\n",
       "7.000        8058\n",
       "2.000        8028\n",
       "            ...  \n",
       "1721.000        1\n",
       "1750.000        1\n",
       "2397.000        1\n",
       "621.000         1\n",
       "74.000          1\n",
       "Name: Num_Credit_Inquiries, Length: 1224, dtype: int64"
      ]
     },
     "execution_count": 105,
     "metadata": {},
     "output_type": "execute_result"
    }
   ],
   "source": [
    "df_train.Num_Credit_Inquiries.value_counts(dropna=False)"
   ]
  },
  {
   "cell_type": "code",
   "execution_count": 106,
   "metadata": {},
   "outputs": [
    {
     "name": "stdout",
     "output_type": "stream",
     "text": [
      "\n",
      "Existing Min, Max Values:\n",
      "min      0.000\n",
      "max   2597.000\n",
      "Name: Num_Credit_Inquiries, dtype: float64\n",
      "\n",
      "by Customer_ID's Actual min, max Values:\n",
      "min:\t0.0,\n",
      "max:\t17.0\n",
      "\n",
      "Before Assigning Min, Max Num_Credit_Inquiries: ['No NaN Value']\n",
      "\n",
      "Before Assigning Example Num_Credit_Inquiries:\n",
      "\n",
      "[nan, 8.0, 8.0, 8.0, 8.0, 8.0, 8.0, 8.0]\n",
      "[1.0, 1.0, 1.0, 1.0, 1196.0, 1.0, 1.0, 1.0]\n",
      "[6.0, 10.0, 10.0, 10.0, 10.0, 10.0, 10.0, 10.0]\n",
      "[7.0, 7.0, 7.0, 7.0, 7.0, 7.0, 7.0, 7.0]\n",
      "[6.0, 6.0, 6.0, 6.0, 6.0, 6.0, 6.0, 692.0]\n",
      "\n",
      "After Assigning  Min, Max Num_Credit_Inquiries: ['No NaN Value']\n",
      "\n",
      "After Assigning Example Num_Credit_Inquiries:\n",
      "\n",
      "[8.0, 8.0, 8.0, 8.0, 8.0, 8.0, 8.0, 8.0]\n",
      "[1.0, 1.0, 1.0, 1.0, 1.0, 1.0, 1.0, 1.0]\n",
      "[6.0, 10.0, 10.0, 10.0, 10.0, 10.0, 10.0, 10.0]\n",
      "[7.0, 7.0, 7.0, 7.0, 7.0, 7.0, 7.0, 7.0]\n",
      "[6.0, 6.0, 6.0, 6.0, 6.0, 6.0, 6.0, 6.0]\n",
      "\n",
      "\n",
      "Existing Min, Max Values:\n",
      "min      0.000\n",
      "max   2593.000\n",
      "Name: Num_Credit_Inquiries, dtype: float64\n",
      "\n",
      "by Customer_ID's Actual min, max Values:\n",
      "min:\t0.0,\n",
      "max:\t17.0\n",
      "\n",
      "Before Assigning Min, Max Num_Credit_Inquiries: ['No NaN Value']\n",
      "\n",
      "Before Assigning Example Num_Credit_Inquiries:\n",
      "\n",
      "[13.0, 13.0, 13.0, 13.0]\n",
      "[1.0, 5.0, 5.0, 5.0]\n",
      "[10.0, 10.0, 10.0, 848.0]\n",
      "[11.0, 11.0, 11.0, 11.0]\n",
      "[10.0, 10.0, 10.0, 10.0]\n",
      "\n",
      "After Assigning  Min, Max Num_Credit_Inquiries: ['No NaN Value']\n",
      "\n",
      "After Assigning Example Num_Credit_Inquiries:\n",
      "\n",
      "[13.0, 13.0, 13.0, 13.0]\n",
      "[1.0, 5.0, 5.0, 5.0]\n",
      "[10.0, 10.0, 10.0, 10.0]\n",
      "[11.0, 11.0, 11.0, 11.0]\n",
      "[10.0, 10.0, 10.0, 10.0]\n"
     ]
    },
    {
     "data": {
      "text/plain": [
       "None"
      ]
     },
     "metadata": {},
     "output_type": "display_data"
    },
    {
     "data": {
      "text/plain": [
       "None"
      ]
     },
     "metadata": {},
     "output_type": "display_data"
    },
    {
     "data": {
      "text/plain": [
       "None"
      ]
     },
     "metadata": {},
     "output_type": "display_data"
    }
   ],
   "source": [
    "display(    \n",
    "    Reassign_Group_Numeric_Wrong_Values(df_train, 'Customer_ID', 'Num_Credit_Inquiries'),\n",
    "    print(),\n",
    "    Reassign_Group_Numeric_Wrong_Values(df_test, 'Customer_ID', 'Num_Credit_Inquiries')\n",
    ")"
   ]
  },
  {
   "cell_type": "code",
   "execution_count": 107,
   "metadata": {},
   "outputs": [
    {
     "name": "stdout",
     "output_type": "stream",
     "text": [
      "\n"
     ]
    },
    {
     "data": {
      "text/plain": [
       "(-4.5, 15.5)"
      ]
     },
     "metadata": {},
     "output_type": "display_data"
    },
    {
     "data": {
      "text/plain": [
       "None"
      ]
     },
     "metadata": {},
     "output_type": "display_data"
    },
    {
     "data": {
      "text/plain": [
       "(-5.0, 19.0)"
      ]
     },
     "metadata": {},
     "output_type": "display_data"
    }
   ],
   "source": [
    "# Check Outlier\n",
    "display(    \n",
    "    get_lower_upper(df_train['Num_Credit_Inquiries']),\n",
    "    print(),\n",
    "    get_lower_upper(df_test['Num_Credit_Inquiries'])\n",
    ")"
   ]
  },
  {
   "cell_type": "code",
   "execution_count": 108,
   "metadata": {},
   "outputs": [
    {
     "data": {
      "text/plain": [
       "1109.030    24\n",
       "1151.700    24\n",
       "1360.450    24\n",
       "460.460     24\n",
       "1058.130    16\n",
       "            ..\n",
       "4230.040     8\n",
       "641.990      8\n",
       "98.610       8\n",
       "2614.480     8\n",
       "502.380      8\n",
       "Name: Outstanding_Debt, Length: 12203, dtype: int64"
      ]
     },
     "execution_count": 108,
     "metadata": {},
     "output_type": "execute_result"
    }
   ],
   "source": [
    "df_train.Outstanding_Debt.value_counts(dropna=False)"
   ]
  },
  {
   "cell_type": "code",
   "execution_count": 109,
   "metadata": {},
   "outputs": [
    {
     "name": "stdout",
     "output_type": "stream",
     "text": [
      "\n",
      "Existing Min, Max Values:\n",
      "min      0.230\n",
      "max   4998.070\n",
      "Name: Outstanding_Debt, dtype: float64\n",
      "\n",
      "by Customer_ID's Actual min, max Values:\n",
      "min:\t0.23,\n",
      "max:\t4998.07\n",
      "\n",
      "Before Assigning Min, Max Outstanding_Debt: ['No NaN Value']\n",
      "\n",
      "Before Assigning Example Outstanding_Debt:\n",
      "\n",
      "[1941.73, 1941.73, 1941.73, 1941.73, 1941.73, 1941.73, 1941.73, 1941.73]\n",
      "[993.15, 993.15, 993.15, 993.15, 993.15, 993.15, 993.15, 993.15]\n",
      "[1138.97, 1138.97, 1138.97, 1138.97, 1138.97, 1138.97, 1138.97, 1138.97]\n",
      "[982.44, 982.44, 982.44, 982.44, 982.44, 982.44, 982.44, 982.44]\n",
      "[1371.8, 1371.8, 1371.8, 1371.8, 1371.8, 1371.8, 1371.8, 1371.8]\n",
      "\n",
      "After Assigning  Min, Max Outstanding_Debt: ['No NaN Value']\n",
      "\n",
      "After Assigning Example Outstanding_Debt:\n",
      "\n",
      "[1941.73, 1941.73, 1941.73, 1941.73, 1941.73, 1941.73, 1941.73, 1941.73]\n",
      "[993.15, 993.15, 993.15, 993.15, 993.15, 993.15, 993.15, 993.15]\n",
      "[1138.97, 1138.97, 1138.97, 1138.97, 1138.97, 1138.97, 1138.97, 1138.97]\n",
      "[982.44, 982.44, 982.44, 982.44, 982.44, 982.44, 982.44, 982.44]\n",
      "[1371.8, 1371.8, 1371.8, 1371.8, 1371.8, 1371.8, 1371.8, 1371.8]\n",
      "\n",
      "\n",
      "Existing Min, Max Values:\n",
      "min      0.230\n",
      "max   4998.070\n",
      "Name: Outstanding_Debt, dtype: float64\n",
      "\n",
      "by Customer_ID's Actual min, max Values:\n",
      "min:\t0.23,\n",
      "max:\t4998.07\n",
      "\n",
      "Before Assigning Min, Max Outstanding_Debt: ['No NaN Value']\n",
      "\n",
      "Before Assigning Example Outstanding_Debt:\n",
      "\n",
      "[1941.73, 1941.73, 1941.73, 1941.73]\n",
      "[993.15, 993.15, 993.15, 993.15]\n",
      "[1138.97, 1138.97, 1138.97, 1138.97]\n",
      "[982.44, 982.44, 982.44, 982.44]\n",
      "[1371.8, 1371.8, 1371.8, 1371.8]\n",
      "\n",
      "After Assigning  Min, Max Outstanding_Debt: ['No NaN Value']\n",
      "\n",
      "After Assigning Example Outstanding_Debt:\n",
      "\n",
      "[1941.73, 1941.73, 1941.73, 1941.73]\n",
      "[993.15, 993.15, 993.15, 993.15]\n",
      "[1138.97, 1138.97, 1138.97, 1138.97]\n",
      "[982.44, 982.44, 982.44, 982.44]\n",
      "[1371.8, 1371.8, 1371.8, 1371.8]\n"
     ]
    },
    {
     "data": {
      "text/plain": [
       "None"
      ]
     },
     "metadata": {},
     "output_type": "display_data"
    },
    {
     "data": {
      "text/plain": [
       "None"
      ]
     },
     "metadata": {},
     "output_type": "display_data"
    },
    {
     "data": {
      "text/plain": [
       "None"
      ]
     },
     "metadata": {},
     "output_type": "display_data"
    }
   ],
   "source": [
    "display(    \n",
    "    Reassign_Group_Numeric_Wrong_Values(df_train, 'Customer_ID', 'Outstanding_Debt'),\n",
    "    print(),\n",
    "    Reassign_Group_Numeric_Wrong_Values(df_test, 'Customer_ID', 'Outstanding_Debt')\n",
    ")"
   ]
  },
  {
   "cell_type": "code",
   "execution_count": 110,
   "metadata": {},
   "outputs": [
    {
     "name": "stdout",
     "output_type": "stream",
     "text": [
      "\n"
     ]
    },
    {
     "data": {
      "text/plain": [
       "(-1503.7625, 4015.7975)"
      ]
     },
     "metadata": {},
     "output_type": "display_data"
    },
    {
     "data": {
      "text/plain": [
       "None"
      ]
     },
     "metadata": {},
     "output_type": "display_data"
    },
    {
     "data": {
      "text/plain": [
       "(-1503.7625, 4015.7975)"
      ]
     },
     "metadata": {},
     "output_type": "display_data"
    }
   ],
   "source": [
    "# Check Outlier\n",
    "display(    \n",
    "    get_lower_upper(df_train['Outstanding_Debt']),\n",
    "    print(),\n",
    "    get_lower_upper(df_test['Outstanding_Debt'])\n",
    ")"
   ]
  },
  {
   "cell_type": "code",
   "execution_count": 111,
   "metadata": {},
   "outputs": [
    {
     "data": {
      "text/plain": [
       "26.823    1\n",
       "28.328    1\n",
       "30.017    1\n",
       "25.479    1\n",
       "33.934    1\n",
       "         ..\n",
       "30.687    1\n",
       "38.730    1\n",
       "30.018    1\n",
       "27.280    1\n",
       "34.192    1\n",
       "Name: Credit_Utilization_Ratio, Length: 100000, dtype: int64"
      ]
     },
     "execution_count": 111,
     "metadata": {},
     "output_type": "execute_result"
    }
   ],
   "source": [
    "df_train.Credit_Utilization_Ratio.value_counts(dropna=False)"
   ]
  },
  {
   "cell_type": "code",
   "execution_count": 112,
   "metadata": {},
   "outputs": [
    {
     "data": {
      "text/plain": [
       "0"
      ]
     },
     "execution_count": 112,
     "metadata": {},
     "output_type": "execute_result"
    }
   ],
   "source": [
    "df_train.Credit_Utilization_Ratio.isna().sum()"
   ]
  },
  {
   "cell_type": "code",
   "execution_count": 113,
   "metadata": {},
   "outputs": [
    {
     "data": {
      "text/plain": [
       "NaN        9030\n",
       "191.000     446\n",
       "232.000     445\n",
       "233.000     444\n",
       "215.000     443\n",
       "           ... \n",
       "3.000        20\n",
       "2.000        15\n",
       "403.000      14\n",
       "404.000      12\n",
       "1.000         2\n",
       "Name: Credit_History_Age, Length: 405, dtype: int64"
      ]
     },
     "execution_count": 113,
     "metadata": {},
     "output_type": "execute_result"
    }
   ],
   "source": [
    "df_train.Credit_History_Age.value_counts(dropna=False)"
   ]
  },
  {
   "cell_type": "code",
   "execution_count": 114,
   "metadata": {},
   "outputs": [],
   "source": [
    "df_train['Credit_History_Age'] = df_train.groupby('Customer_ID')['Credit_History_Age'].apply(lambda x: x.interpolate().bfill().ffill())\n",
    "df_test['Credit_History_Age'] = df_test.groupby('Customer_ID')['Credit_History_Age'].apply(lambda x: x.interpolate().bfill().ffill())"
   ]
  },
  {
   "cell_type": "code",
   "execution_count": 115,
   "metadata": {},
   "outputs": [
    {
     "name": "stdout",
     "output_type": "stream",
     "text": [
      "\n"
     ]
    },
    {
     "data": {
      "text/plain": [
       "(-93.0, 539.0)"
      ]
     },
     "metadata": {},
     "output_type": "display_data"
    },
    {
     "data": {
      "text/plain": [
       "None"
      ]
     },
     "metadata": {},
     "output_type": "display_data"
    },
    {
     "data": {
      "text/plain": [
       "(-87.0, 545.0)"
      ]
     },
     "metadata": {},
     "output_type": "display_data"
    }
   ],
   "source": [
    "# Check Outlier\n",
    "display(    \n",
    "    get_lower_upper(df_train['Credit_History_Age']),\n",
    "    print(),\n",
    "    get_lower_upper(df_test['Credit_History_Age'])\n",
    ")"
   ]
  },
  {
   "cell_type": "code",
   "execution_count": 116,
   "metadata": {},
   "outputs": [
    {
     "data": {
      "text/plain": [
       "0.000        10613\n",
       "49.575           8\n",
       "73.533           8\n",
       "22.961           8\n",
       "38.661           8\n",
       "             ...  \n",
       "36408.000        1\n",
       "23760.000        1\n",
       "24612.000        1\n",
       "24325.000        1\n",
       "58638.000        1\n",
       "Name: Total_EMI_per_month, Length: 14950, dtype: int64"
      ]
     },
     "execution_count": 116,
     "metadata": {},
     "output_type": "execute_result"
    }
   ],
   "source": [
    "df_train.Total_EMI_per_month.value_counts(dropna=False)"
   ]
  },
  {
   "cell_type": "code",
   "execution_count": 117,
   "metadata": {},
   "outputs": [
    {
     "name": "stdout",
     "output_type": "stream",
     "text": [
      "\n",
      "Existing Min, Max Values:\n",
      "min       0.000\n",
      "max   82331.000\n",
      "Name: Total_EMI_per_month, dtype: float64\n",
      "\n",
      "by Customer_ID's Actual min, max Values:\n",
      "min:\t0.0,\n",
      "max:\t1779.1032538262775\n",
      "\n",
      "Before Assigning Min, Max Total_EMI_per_month: ['No NaN Value']\n",
      "\n",
      "Before Assigning Example Total_EMI_per_month:\n",
      "\n",
      "[27.44208910654816, 27.44208910654816, 27.44208910654816, 27.44208910654816, 27.44208910654816, 27.44208910654816, 27.44208910654816, 32972.0]\n",
      "[45.74570037068675, 45.74570037068675, 45.74570037068675, 45.74570037068675, 45.74570037068675, 45.74570037068675, 45.74570037068675, 45.74570037068675]\n",
      "[0.0, 0.0, 0.0, 0.0, 0.0, 0.0, 0.0, 0.0]\n",
      "[188.45659522353543, 188.45659522353543, 188.45659522353543, 188.45659522353543, 188.45659522353543, 188.45659522353543, 188.45659522353543, 188.45659522353543]\n",
      "[257.7386460249556, 257.7386460249556, 257.7386460249556, 257.7386460249556, 257.7386460249556, 257.7386460249556, 257.7386460249556, 257.7386460249556]\n",
      "\n",
      "After Assigning  Min, Max Total_EMI_per_month: ['No NaN Value']\n",
      "\n",
      "After Assigning Example Total_EMI_per_month:\n",
      "\n",
      "[27.44208910654816, 27.44208910654816, 27.44208910654816, 27.44208910654816, 27.44208910654816, 27.44208910654816, 27.44208910654816, 27.44208910654816]\n",
      "[45.74570037068675, 45.74570037068675, 45.74570037068675, 45.74570037068675, 45.74570037068675, 45.74570037068675, 45.74570037068675, 45.74570037068675]\n",
      "[0.0, 0.0, 0.0, 0.0, 0.0, 0.0, 0.0, 0.0]\n",
      "[188.45659522353543, 188.45659522353543, 188.45659522353543, 188.45659522353543, 188.45659522353543, 188.45659522353543, 188.45659522353543, 188.45659522353543]\n",
      "[257.7386460249556, 257.7386460249556, 257.7386460249556, 257.7386460249556, 257.7386460249556, 257.7386460249556, 257.7386460249556, 257.7386460249556]\n",
      "\n",
      "\n",
      "Existing Min, Max Values:\n",
      "min       0.000\n",
      "max   82398.000\n",
      "Name: Total_EMI_per_month, dtype: float64\n",
      "\n",
      "by Customer_ID's Actual min, max Values:\n",
      "min:\t0.0,\n",
      "max:\t1779.1032538262775\n",
      "\n",
      "Before Assigning Min, Max Total_EMI_per_month: ['No NaN Value']\n",
      "\n",
      "Before Assigning Example Total_EMI_per_month:\n",
      "\n",
      "[27.44208910654816, 27.44208910654816, 27.44208910654816, 27.44208910654816]\n",
      "[45.74570037068675, 45.74570037068675, 45.74570037068675, 45.74570037068675]\n",
      "[0.0, 0.0, 0.0, 0.0]\n",
      "[188.45659522353543, 188.45659522353543, 188.45659522353543, 188.45659522353543]\n",
      "[257.7386460249556, 257.7386460249556, 257.7386460249556, 257.7386460249556]\n",
      "\n",
      "After Assigning  Min, Max Total_EMI_per_month: ['No NaN Value']\n",
      "\n",
      "After Assigning Example Total_EMI_per_month:\n",
      "\n",
      "[27.44208910654816, 27.44208910654816, 27.44208910654816, 27.44208910654816]\n",
      "[45.74570037068675, 45.74570037068675, 45.74570037068675, 45.74570037068675]\n",
      "[0.0, 0.0, 0.0, 0.0]\n",
      "[188.45659522353543, 188.45659522353543, 188.45659522353543, 188.45659522353543]\n",
      "[257.7386460249556, 257.7386460249556, 257.7386460249556, 257.7386460249556]\n"
     ]
    },
    {
     "data": {
      "text/plain": [
       "None"
      ]
     },
     "metadata": {},
     "output_type": "display_data"
    },
    {
     "data": {
      "text/plain": [
       "None"
      ]
     },
     "metadata": {},
     "output_type": "display_data"
    },
    {
     "data": {
      "text/plain": [
       "None"
      ]
     },
     "metadata": {},
     "output_type": "display_data"
    }
   ],
   "source": [
    "display(    \n",
    "    Reassign_Group_Numeric_Wrong_Values(df_train, 'Customer_ID', 'Total_EMI_per_month'),\n",
    "    print(),\n",
    "    Reassign_Group_Numeric_Wrong_Values(df_test, 'Customer_ID', 'Total_EMI_per_month')\n",
    ")"
   ]
  },
  {
   "cell_type": "code",
   "execution_count": 118,
   "metadata": {},
   "outputs": [
    {
     "name": "stdout",
     "output_type": "stream",
     "text": [
      "\n"
     ]
    },
    {
     "data": {
      "text/plain": [
       "(-147.48001686549193, 323.76380380888094)"
      ]
     },
     "metadata": {},
     "output_type": "display_data"
    },
    {
     "data": {
      "text/plain": [
       "None"
      ]
     },
     "metadata": {},
     "output_type": "display_data"
    },
    {
     "data": {
      "text/plain": [
       "(-167.00318529561883, 361.53628138659604)"
      ]
     },
     "metadata": {},
     "output_type": "display_data"
    }
   ],
   "source": [
    "# Check Outlier\n",
    "display(    \n",
    "    get_lower_upper(df_train['Total_EMI_per_month']),\n",
    "    print(),\n",
    "    get_lower_upper(df_test['Total_EMI_per_month'])\n",
    ")"
   ]
  },
  {
   "cell_type": "code",
   "execution_count": 119,
   "metadata": {},
   "outputs": [
    {
     "data": {
      "text/plain": [
       "NaN          4479\n",
       "10000.000    4305\n",
       "0.000         169\n",
       "36.662          1\n",
       "89.738          1\n",
       "             ... \n",
       "36.542          1\n",
       "93.451          1\n",
       "140.810         1\n",
       "38.739          1\n",
       "167.164         1\n",
       "Name: Amount_invested_monthly, Length: 91050, dtype: int64"
      ]
     },
     "execution_count": 119,
     "metadata": {},
     "output_type": "execute_result"
    }
   ],
   "source": [
    "df_train.Amount_invested_monthly.value_counts(dropna=False)"
   ]
  },
  {
   "cell_type": "code",
   "execution_count": 120,
   "metadata": {},
   "outputs": [
    {
     "name": "stdout",
     "output_type": "stream",
     "text": [
      "\n",
      "Existing Min, Max Values:\n",
      "min       0.000\n",
      "max   10000.000\n",
      "Name: Amount_invested_monthly, dtype: float64\n",
      "\n",
      "by Customer_ID's Actual min, max Values:\n",
      "min:\t0.0,\n",
      "max:\t10000.0\n",
      "\n",
      "Before Assigning Min, Max Amount_invested_monthly: ['No NaN Value']\n",
      "\n",
      "Before Assigning Example Amount_invested_monthly:\n",
      "\n",
      "[45.30106826949194, 90.07842318605292, 61.73271462991577, 56.4949816634165, 51.726244263612, 60.82828780912217, 95.6486475869488, 66.71824831147686]\n",
      "[30.373471914127194, 44.31995483866171, nan, 62.81248610216079, 148.30956484525, 10000.0, 59.30896122323683, 118.54244614778156]\n",
      "[118.8806978910128, nan, 337.1997406214716, 170.8689598433119, 74.1980692925824, 105.4573791889266, 197.85037247610126, 165.20443547590202]\n",
      "[149.37725143584314, 146.97809602243544, 101.12020124815511, 492.3974911743151, 264.1791118544216, 261.69017894140734, 200.64143588981403, 126.07161584554541]\n",
      "[292.2127037381353, nan, 187.59489650806347, 275.635709774446, 487.8062062008502, nan, 124.29952362711306, 481.7990883470461]\n",
      "\n",
      "After Assigning  Min, Max Amount_invested_monthly: ['No NaN Value']\n",
      "\n",
      "After Assigning Example Amount_invested_monthly:\n",
      "\n",
      "[45.30106826949194, 90.07842318605292, 61.73271462991577, 56.4949816634165, 51.726244263612, 60.82828780912217, 95.6486475869488, 66.71824831147686]\n",
      "[30.373471914127194, 44.31995483866171, 30.373471914127194, 62.81248610216079, 148.30956484525, 10000.0, 59.30896122323683, 118.54244614778156]\n",
      "[118.8806978910128, 74.1980692925824, 337.1997406214716, 170.8689598433119, 74.1980692925824, 105.4573791889266, 197.85037247610126, 165.20443547590202]\n",
      "[149.37725143584314, 146.97809602243544, 101.12020124815511, 492.3974911743151, 264.1791118544216, 261.69017894140734, 200.64143588981403, 126.07161584554541]\n",
      "[292.2127037381353, 124.29952362711306, 187.59489650806347, 275.635709774446, 487.8062062008502, 124.29952362711306, 124.29952362711306, 481.7990883470461]\n",
      "\n",
      "\n",
      "Existing Min, Max Values:\n",
      "min       0.000\n",
      "max   10000.000\n",
      "Name: Amount_invested_monthly, dtype: float64\n",
      "\n",
      "by Customer_ID's Actual min, max Values:\n",
      "min:\t0.0,\n",
      "max:\t10000.0\n",
      "\n",
      "Before Assigning Min, Max Amount_invested_monthly: ['No NaN Value']\n",
      "\n",
      "Before Assigning Example Amount_invested_monthly:\n",
      "\n",
      "[116.54410553197071, 79.08087443658461, 93.81567846791012, 168.43584020560507]\n",
      "[104.33987358576769, 55.45176127748453, nan, nan]\n",
      "[50.930150099663045, 86.4414839594447, 351.92301846584564, 55.62866930298164]\n",
      "[684.6651624547051, 103.13758327637464, 110.66061982791805, 161.67162412887268]\n",
      "[631.9932676909148, 772.3790958015891, 102.48803392235304, 474.3649639513685]\n",
      "\n",
      "After Assigning  Min, Max Amount_invested_monthly: ['No NaN Value']\n",
      "\n",
      "After Assigning Example Amount_invested_monthly:\n",
      "\n",
      "[116.54410553197071, 79.08087443658461, 93.81567846791012, 168.43584020560507]\n",
      "[104.33987358576769, 55.45176127748453, 55.45176127748453, 55.45176127748453]\n",
      "[50.930150099663045, 86.4414839594447, 351.92301846584564, 55.62866930298164]\n",
      "[684.6651624547051, 103.13758327637464, 110.66061982791805, 161.67162412887268]\n",
      "[631.9932676909148, 772.3790958015891, 102.48803392235304, 474.3649639513685]\n"
     ]
    },
    {
     "data": {
      "text/plain": [
       "None"
      ]
     },
     "metadata": {},
     "output_type": "display_data"
    },
    {
     "data": {
      "text/plain": [
       "None"
      ]
     },
     "metadata": {},
     "output_type": "display_data"
    },
    {
     "data": {
      "text/plain": [
       "None"
      ]
     },
     "metadata": {},
     "output_type": "display_data"
    }
   ],
   "source": [
    "display(    \n",
    "    Reassign_Group_Numeric_Wrong_Values(df_train, 'Customer_ID', 'Amount_invested_monthly'),\n",
    "    print(),\n",
    "    Reassign_Group_Numeric_Wrong_Values(df_test, 'Customer_ID', 'Amount_invested_monthly')\n",
    ")"
   ]
  },
  {
   "cell_type": "code",
   "execution_count": 121,
   "metadata": {},
   "outputs": [
    {
     "name": "stdout",
     "output_type": "stream",
     "text": [
      "\n"
     ]
    },
    {
     "data": {
      "text/plain": [
       "(-208.03825932668485, 536.1234129340274)"
      ]
     },
     "metadata": {},
     "output_type": "display_data"
    },
    {
     "data": {
      "text/plain": [
       "None"
      ]
     },
     "metadata": {},
     "output_type": "display_data"
    },
    {
     "data": {
      "text/plain": [
       "(-207.1988548412891, 538.6990674525657)"
      ]
     },
     "metadata": {},
     "output_type": "display_data"
    }
   ],
   "source": [
    "# Check Outlier\n",
    "display(    \n",
    "    get_lower_upper(df_train['Amount_invested_monthly']),\n",
    "    print(),\n",
    "    get_lower_upper(df_test['Amount_invested_monthly'])\n",
    ")"
   ]
  },
  {
   "cell_type": "code",
   "execution_count": 122,
   "metadata": {},
   "outputs": [
    {
     "data": {
      "text/plain": [
       "(4471, 2194)"
      ]
     },
     "execution_count": 122,
     "metadata": {},
     "output_type": "execute_result"
    }
   ],
   "source": [
    "df_train['Amount_invested_monthly'].isin([10000.000]).sum(), df_test['Amount_invested_monthly'].isin([10000.000]).sum()"
   ]
  },
  {
   "cell_type": "code",
   "execution_count": 123,
   "metadata": {},
   "outputs": [],
   "source": [
    "# Drop 10000.000\n",
    "data = [10000.000]\n",
    "\n",
    "df_train['Amount_invested_monthly'].replace( data, np.NaN, inplace=True)\n",
    "df_test['Amount_invested_monthly'].replace( data, np.NaN, inplace=True)"
   ]
  },
  {
   "cell_type": "code",
   "execution_count": 124,
   "metadata": {},
   "outputs": [
    {
     "name": "stdout",
     "output_type": "stream",
     "text": [
      "\n",
      "Existing Min, Max Values:\n",
      "min      0.000\n",
      "max   1977.326\n",
      "Name: Amount_invested_monthly, dtype: float64\n",
      "\n",
      "by Customer_ID's Actual min, max Values:\n",
      "min:\t0.0,\n",
      "max:\t510.7262372637133\n",
      "\n",
      "Before Assigning Min, Max Amount_invested_monthly: ['No NaN Value']\n",
      "\n",
      "Before Assigning Example Amount_invested_monthly:\n",
      "\n",
      "[45.30106826949194, 90.07842318605292, 61.73271462991577, 56.4949816634165, 51.726244263612, 60.82828780912217, 95.6486475869488, 66.71824831147686]\n",
      "[30.373471914127194, 44.31995483866171, 30.373471914127194, 62.81248610216079, 148.30956484525, nan, 59.30896122323683, 118.54244614778156]\n",
      "[118.8806978910128, 74.1980692925824, 337.1997406214716, 170.8689598433119, 74.1980692925824, 105.4573791889266, 197.85037247610126, 165.20443547590202]\n",
      "[149.37725143584314, 146.97809602243544, 101.12020124815511, 492.3974911743151, 264.1791118544216, 261.69017894140734, 200.64143588981403, 126.07161584554541]\n",
      "[292.2127037381353, 124.29952362711306, 187.59489650806347, 275.635709774446, 487.8062062008502, 124.29952362711306, 124.29952362711306, 481.7990883470461]\n",
      "\n",
      "After Assigning  Min, Max Amount_invested_monthly: ['No NaN Value']\n",
      "\n",
      "After Assigning Example Amount_invested_monthly:\n",
      "\n",
      "[45.30106826949194, 90.07842318605292, 61.73271462991577, 56.4949816634165, 51.726244263612, 60.82828780912217, 95.6486475869488, 66.71824831147686]\n",
      "[30.373471914127194, 44.31995483866171, 30.373471914127194, 62.81248610216079, 148.30956484525, 30.373471914127194, 59.30896122323683, 118.54244614778156]\n",
      "[118.8806978910128, 74.1980692925824, 337.1997406214716, 170.8689598433119, 74.1980692925824, 105.4573791889266, 197.85037247610126, 165.20443547590202]\n",
      "[149.37725143584314, 146.97809602243544, 101.12020124815511, 492.3974911743151, 264.1791118544216, 261.69017894140734, 200.64143588981403, 126.07161584554541]\n",
      "[292.2127037381353, 124.29952362711306, 187.59489650806347, 275.635709774446, 487.8062062008502, 124.29952362711306, 124.29952362711306, 481.7990883470461]\n",
      "\n",
      "\n",
      "Existing Min, Max Values:\n",
      "min      0.000\n",
      "max   1908.124\n",
      "Name: Amount_invested_monthly, dtype: float64\n",
      "\n",
      "by Customer_ID's Actual min, max Values:\n",
      "min:\t0.0,\n",
      "max:\t1080.8990680149284\n",
      "\n",
      "Before Assigning Min, Max Amount_invested_monthly: ['No NaN Value']\n",
      "\n",
      "Before Assigning Example Amount_invested_monthly:\n",
      "\n",
      "[116.54410553197071, 79.08087443658461, 93.81567846791012, 168.43584020560507]\n",
      "[104.33987358576769, 55.45176127748453, 55.45176127748453, 55.45176127748453]\n",
      "[50.930150099663045, 86.4414839594447, 351.92301846584564, 55.62866930298164]\n",
      "[684.6651624547051, 103.13758327637464, 110.66061982791805, 161.67162412887268]\n",
      "[631.9932676909148, 772.3790958015891, 102.48803392235304, 474.3649639513685]\n",
      "\n",
      "After Assigning  Min, Max Amount_invested_monthly: ['No NaN Value']\n",
      "\n",
      "After Assigning Example Amount_invested_monthly:\n",
      "\n",
      "[116.54410553197071, 79.08087443658461, 93.81567846791012, 168.43584020560507]\n",
      "[104.33987358576769, 55.45176127748453, 55.45176127748453, 55.45176127748453]\n",
      "[50.930150099663045, 86.4414839594447, 351.92301846584564, 55.62866930298164]\n",
      "[684.6651624547051, 103.13758327637464, 110.66061982791805, 161.67162412887268]\n",
      "[631.9932676909148, 772.3790958015891, 102.48803392235304, 474.3649639513685]\n"
     ]
    },
    {
     "data": {
      "text/plain": [
       "None"
      ]
     },
     "metadata": {},
     "output_type": "display_data"
    },
    {
     "data": {
      "text/plain": [
       "None"
      ]
     },
     "metadata": {},
     "output_type": "display_data"
    },
    {
     "data": {
      "text/plain": [
       "None"
      ]
     },
     "metadata": {},
     "output_type": "display_data"
    }
   ],
   "source": [
    "display(    \n",
    "    Reassign_Group_Numeric_Wrong_Values(df_train, 'Customer_ID', 'Amount_invested_monthly'),\n",
    "    print(),\n",
    "    Reassign_Group_Numeric_Wrong_Values(df_test, 'Customer_ID', 'Amount_invested_monthly')\n",
    ")"
   ]
  },
  {
   "cell_type": "code",
   "execution_count": 125,
   "metadata": {},
   "outputs": [
    {
     "data": {
      "text/plain": [
       "NaN                                 1200\n",
       "-333333333333333314856026112.000       9\n",
       "312.494                                1\n",
       "347.414                                1\n",
       "254.971                                1\n",
       "                                    ... \n",
       "366.289                                1\n",
       "151.188                                1\n",
       "306.750                                1\n",
       "278.872                                1\n",
       "393.674                                1\n",
       "Name: Monthly_Balance, Length: 98793, dtype: int64"
      ]
     },
     "execution_count": 125,
     "metadata": {},
     "output_type": "execute_result"
    }
   ],
   "source": [
    "df_train.Monthly_Balance.value_counts(dropna=False)"
   ]
  },
  {
   "cell_type": "code",
   "execution_count": 126,
   "metadata": {},
   "outputs": [
    {
     "name": "stdout",
     "output_type": "stream",
     "text": [
      "\n",
      "Existing Min, Max Values:\n",
      "min   -333333333333333314856026112.000\n",
      "max                           1602.041\n",
      "Name: Monthly_Balance, dtype: float64\n",
      "\n",
      "by Customer_ID's Actual min, max Values:\n",
      "min:\t-3.333333333333333e+26,\n",
      "max:\t1183.9306960885192\n",
      "\n",
      "Before Assigning Min, Max Monthly_Balance: ['No NaN Value']\n",
      "\n",
      "Before Assigning Example Monthly_Balance:\n",
      "\n",
      "[310.39167595729333, 295.61432104073225, 333.9600295968694, 309.1977625633686, 323.9664999631732, 334.864456417663, 280.04409663983637, 328.97449591530835]\n",
      "[323.5550777151861, 309.6085947906515, 265.4874646531188, 291.11606352715245, 245.61898478406326, 239.46481499922072, 334.61958840607645, 275.3861034815317]\n",
      "[406.62288544232047, 350.39351957834924, 218.30384271186168, 354.63462349002145, 441.30551404075095, 420.04620414440666, 337.6532108572321, 370.2991478574313]\n",
      "[581.4298200072883, 573.8289754206959, 629.6868701949761, 258.40958026881617, 496.6279595887097, 489.116892501724, 560.1656355533173, 594.7354555975859]\n",
      "[553.4033169035758, 228.71773015063442, 648.0211241336477, 579.9803108672652, 377.809814440861, nan, 701.3164970145981, 383.81693229466515]\n",
      "\n",
      "After Assigning  Min, Max Monthly_Balance: ['No NaN Value']\n",
      "\n",
      "After Assigning Example Monthly_Balance:\n",
      "\n",
      "[310.39167595729333, 295.61432104073225, 333.9600295968694, 309.1977625633686, 323.9664999631732, 334.864456417663, 280.04409663983637, 328.97449591530835]\n",
      "[323.5550777151861, 309.6085947906515, 265.4874646531188, 291.11606352715245, 245.61898478406326, 239.46481499922072, 334.61958840607645, 275.3861034815317]\n",
      "[406.62288544232047, 350.39351957834924, 218.30384271186168, 354.63462349002145, 441.30551404075095, 420.04620414440666, 337.6532108572321, 370.2991478574313]\n",
      "[581.4298200072883, 573.8289754206959, 629.6868701949761, 258.40958026881617, 496.6279595887097, 489.116892501724, 560.1656355533173, 594.7354555975859]\n",
      "[553.4033169035758, 228.71773015063442, 648.0211241336477, 579.9803108672652, 377.809814440861, 228.71773015063442, 701.3164970145981, 383.81693229466515]\n",
      "\n",
      "\n",
      "Existing Min, Max Values:\n",
      "min   -333333333333333314856026112.000\n",
      "max                           1606.518\n",
      "Name: Monthly_Balance, dtype: float64\n",
      "\n",
      "by Customer_ID's Actual min, max Values:\n",
      "min:\t-3.333333333333333e+26,\n",
      "max:\t1348.682942960819\n",
      "\n",
      "Before Assigning Min, Max Monthly_Balance: ['No NaN Value']\n",
      "\n",
      "Before Assigning Example Monthly_Balance:\n",
      "\n",
      "[279.14863869481445, 306.61186979020056, 301.87706575887506, 227.25690402118008]\n",
      "[279.58867604354555, 318.4767883518287, 260.7342254927612, 307.57591763672826]\n",
      "[474.5734332336703, 439.0620993738886, 203.58056486748768, 459.8749140303517]\n",
      "[76.14190898842622, 617.6694881667568, 620.1464516152132, 569.1354473142586]\n",
      "[223.62275295079644, 93.23692484012213, 723.1279867193582, 401.2510566903428]\n",
      "\n",
      "After Assigning  Min, Max Monthly_Balance: ['No NaN Value']\n",
      "\n",
      "After Assigning Example Monthly_Balance:\n",
      "\n",
      "[279.14863869481445, 306.61186979020056, 301.87706575887506, 227.25690402118008]\n",
      "[279.58867604354555, 318.4767883518287, 260.7342254927612, 307.57591763672826]\n",
      "[474.5734332336703, 439.0620993738886, 203.58056486748768, 459.8749140303517]\n",
      "[76.14190898842622, 617.6694881667568, 620.1464516152132, 569.1354473142586]\n",
      "[223.62275295079644, 93.23692484012213, 723.1279867193582, 401.2510566903428]\n"
     ]
    },
    {
     "data": {
      "text/plain": [
       "None"
      ]
     },
     "metadata": {},
     "output_type": "display_data"
    },
    {
     "data": {
      "text/plain": [
       "None"
      ]
     },
     "metadata": {},
     "output_type": "display_data"
    },
    {
     "data": {
      "text/plain": [
       "None"
      ]
     },
     "metadata": {},
     "output_type": "display_data"
    }
   ],
   "source": [
    "display(    \n",
    "    Reassign_Group_Numeric_Wrong_Values(df_train, 'Customer_ID', 'Monthly_Balance'),\n",
    "    print(),\n",
    "    Reassign_Group_Numeric_Wrong_Values(df_test, 'Customer_ID', 'Monthly_Balance')\n",
    ")"
   ]
  },
  {
   "cell_type": "code",
   "execution_count": 127,
   "metadata": {},
   "outputs": [
    {
     "name": "stdout",
     "output_type": "stream",
     "text": [
      "\n"
     ]
    },
    {
     "data": {
      "text/plain": [
       "(-26.41535366651823, 759.1677907892747)"
      ]
     },
     "metadata": {},
     "output_type": "display_data"
    },
    {
     "data": {
      "text/plain": [
       "None"
      ]
     },
     "metadata": {},
     "output_type": "display_data"
    },
    {
     "data": {
      "text/plain": [
       "(-30.292015924012276, 769.4529720817945)"
      ]
     },
     "metadata": {},
     "output_type": "display_data"
    }
   ],
   "source": [
    "# Check Outlier\n",
    "display(    \n",
    "    get_lower_upper(df_train['Monthly_Balance']),\n",
    "    print(),\n",
    "    get_lower_upper(df_test['Monthly_Balance'])\n",
    ")"
   ]
  },
  {
   "cell_type": "markdown",
   "metadata": {},
   "source": [
    "## END"
   ]
  },
  {
   "cell_type": "code",
   "execution_count": 128,
   "metadata": {},
   "outputs": [
    {
     "data": {
      "text/html": [
       "<div>\n",
       "<style scoped>\n",
       "    .dataframe tbody tr th:only-of-type {\n",
       "        vertical-align: middle;\n",
       "    }\n",
       "\n",
       "    .dataframe tbody tr th {\n",
       "        vertical-align: top;\n",
       "    }\n",
       "\n",
       "    .dataframe thead th {\n",
       "        text-align: right;\n",
       "    }\n",
       "</style>\n",
       "<table border=\"1\" class=\"dataframe\">\n",
       "  <thead>\n",
       "    <tr style=\"text-align: right;\">\n",
       "      <th></th>\n",
       "      <th>ID</th>\n",
       "      <th>Customer_ID</th>\n",
       "      <th>Month</th>\n",
       "      <th>Name</th>\n",
       "      <th>Age</th>\n",
       "      <th>SSN</th>\n",
       "      <th>Occupation</th>\n",
       "      <th>Annual_Income</th>\n",
       "      <th>Monthly_Inhand_Salary</th>\n",
       "      <th>Num_Bank_Accounts</th>\n",
       "      <th>Num_Credit_Card</th>\n",
       "      <th>Interest_Rate</th>\n",
       "      <th>Num_of_Loan</th>\n",
       "      <th>Type_of_Loan</th>\n",
       "      <th>Delay_from_due_date</th>\n",
       "      <th>Num_of_Delayed_Payment</th>\n",
       "      <th>Changed_Credit_Limit</th>\n",
       "      <th>Num_Credit_Inquiries</th>\n",
       "      <th>Credit_Mix</th>\n",
       "      <th>Outstanding_Debt</th>\n",
       "      <th>Credit_Utilization_Ratio</th>\n",
       "      <th>Credit_History_Age</th>\n",
       "      <th>Payment_of_Min_Amount</th>\n",
       "      <th>Total_EMI_per_month</th>\n",
       "      <th>Amount_invested_monthly</th>\n",
       "      <th>Payment_Behaviour</th>\n",
       "      <th>Monthly_Balance</th>\n",
       "      <th>Credit_Score</th>\n",
       "    </tr>\n",
       "  </thead>\n",
       "  <tbody>\n",
       "    <tr>\n",
       "      <th>0</th>\n",
       "      <td>5634</td>\n",
       "      <td>3392</td>\n",
       "      <td>1</td>\n",
       "      <td>Aaron Maashoh</td>\n",
       "      <td>23.000</td>\n",
       "      <td>821000265.000</td>\n",
       "      <td>Scientist</td>\n",
       "      <td>19114.120</td>\n",
       "      <td>1824.843</td>\n",
       "      <td>3.000</td>\n",
       "      <td>4.000</td>\n",
       "      <td>3.000</td>\n",
       "      <td>4.000</td>\n",
       "      <td>Auto Loan, Credit-Builder Loan, Personal Loan,...</td>\n",
       "      <td>3.000</td>\n",
       "      <td>7.000</td>\n",
       "      <td>11.270</td>\n",
       "      <td>4.000</td>\n",
       "      <td>Good</td>\n",
       "      <td>809.980</td>\n",
       "      <td>26.823</td>\n",
       "      <td>265.000</td>\n",
       "      <td>No</td>\n",
       "      <td>49.575</td>\n",
       "      <td>80.415</td>\n",
       "      <td>High_spent_Small_value_payments</td>\n",
       "      <td>312.494</td>\n",
       "      <td>Good</td>\n",
       "    </tr>\n",
       "    <tr>\n",
       "      <th>1</th>\n",
       "      <td>5635</td>\n",
       "      <td>3392</td>\n",
       "      <td>2</td>\n",
       "      <td>Aaron Maashoh</td>\n",
       "      <td>23.000</td>\n",
       "      <td>821000265.000</td>\n",
       "      <td>Scientist</td>\n",
       "      <td>19114.120</td>\n",
       "      <td>1824.843</td>\n",
       "      <td>3.000</td>\n",
       "      <td>4.000</td>\n",
       "      <td>3.000</td>\n",
       "      <td>4.000</td>\n",
       "      <td>Auto Loan, Credit-Builder Loan, Personal Loan,...</td>\n",
       "      <td>-1.000</td>\n",
       "      <td>4.000</td>\n",
       "      <td>11.270</td>\n",
       "      <td>4.000</td>\n",
       "      <td>Good</td>\n",
       "      <td>809.980</td>\n",
       "      <td>31.945</td>\n",
       "      <td>266.000</td>\n",
       "      <td>No</td>\n",
       "      <td>49.575</td>\n",
       "      <td>118.280</td>\n",
       "      <td>Low_spent_Large_value_payments</td>\n",
       "      <td>284.629</td>\n",
       "      <td>Good</td>\n",
       "    </tr>\n",
       "    <tr>\n",
       "      <th>2</th>\n",
       "      <td>5636</td>\n",
       "      <td>3392</td>\n",
       "      <td>3</td>\n",
       "      <td>Aaron Maashoh</td>\n",
       "      <td>23.000</td>\n",
       "      <td>821000265.000</td>\n",
       "      <td>Scientist</td>\n",
       "      <td>19114.120</td>\n",
       "      <td>1824.843</td>\n",
       "      <td>3.000</td>\n",
       "      <td>4.000</td>\n",
       "      <td>3.000</td>\n",
       "      <td>4.000</td>\n",
       "      <td>Auto Loan, Credit-Builder Loan, Personal Loan,...</td>\n",
       "      <td>3.000</td>\n",
       "      <td>7.000</td>\n",
       "      <td>11.270</td>\n",
       "      <td>4.000</td>\n",
       "      <td>Good</td>\n",
       "      <td>809.980</td>\n",
       "      <td>28.609</td>\n",
       "      <td>267.000</td>\n",
       "      <td>No</td>\n",
       "      <td>49.575</td>\n",
       "      <td>81.700</td>\n",
       "      <td>Low_spent_Medium_value_payments</td>\n",
       "      <td>331.210</td>\n",
       "      <td>Good</td>\n",
       "    </tr>\n",
       "    <tr>\n",
       "      <th>3</th>\n",
       "      <td>5637</td>\n",
       "      <td>3392</td>\n",
       "      <td>4</td>\n",
       "      <td>Aaron Maashoh</td>\n",
       "      <td>23.000</td>\n",
       "      <td>821000265.000</td>\n",
       "      <td>Scientist</td>\n",
       "      <td>19114.120</td>\n",
       "      <td>1824.843</td>\n",
       "      <td>3.000</td>\n",
       "      <td>4.000</td>\n",
       "      <td>3.000</td>\n",
       "      <td>4.000</td>\n",
       "      <td>Auto Loan, Credit-Builder Loan, Personal Loan,...</td>\n",
       "      <td>5.000</td>\n",
       "      <td>4.000</td>\n",
       "      <td>6.270</td>\n",
       "      <td>4.000</td>\n",
       "      <td>Good</td>\n",
       "      <td>809.980</td>\n",
       "      <td>31.378</td>\n",
       "      <td>268.000</td>\n",
       "      <td>No</td>\n",
       "      <td>49.575</td>\n",
       "      <td>199.458</td>\n",
       "      <td>Low_spent_Small_value_payments</td>\n",
       "      <td>223.451</td>\n",
       "      <td>Good</td>\n",
       "    </tr>\n",
       "    <tr>\n",
       "      <th>4</th>\n",
       "      <td>5638</td>\n",
       "      <td>3392</td>\n",
       "      <td>5</td>\n",
       "      <td>Aaron Maashoh</td>\n",
       "      <td>23.000</td>\n",
       "      <td>821000265.000</td>\n",
       "      <td>Scientist</td>\n",
       "      <td>19114.120</td>\n",
       "      <td>1824.843</td>\n",
       "      <td>3.000</td>\n",
       "      <td>4.000</td>\n",
       "      <td>3.000</td>\n",
       "      <td>4.000</td>\n",
       "      <td>Auto Loan, Credit-Builder Loan, Personal Loan,...</td>\n",
       "      <td>6.000</td>\n",
       "      <td>4.000</td>\n",
       "      <td>11.270</td>\n",
       "      <td>4.000</td>\n",
       "      <td>Good</td>\n",
       "      <td>809.980</td>\n",
       "      <td>24.797</td>\n",
       "      <td>269.000</td>\n",
       "      <td>No</td>\n",
       "      <td>49.575</td>\n",
       "      <td>41.420</td>\n",
       "      <td>High_spent_Medium_value_payments</td>\n",
       "      <td>341.489</td>\n",
       "      <td>Good</td>\n",
       "    </tr>\n",
       "    <tr>\n",
       "      <th>...</th>\n",
       "      <td>...</td>\n",
       "      <td>...</td>\n",
       "      <td>...</td>\n",
       "      <td>...</td>\n",
       "      <td>...</td>\n",
       "      <td>...</td>\n",
       "      <td>...</td>\n",
       "      <td>...</td>\n",
       "      <td>...</td>\n",
       "      <td>...</td>\n",
       "      <td>...</td>\n",
       "      <td>...</td>\n",
       "      <td>...</td>\n",
       "      <td>...</td>\n",
       "      <td>...</td>\n",
       "      <td>...</td>\n",
       "      <td>...</td>\n",
       "      <td>...</td>\n",
       "      <td>...</td>\n",
       "      <td>...</td>\n",
       "      <td>...</td>\n",
       "      <td>...</td>\n",
       "      <td>...</td>\n",
       "      <td>...</td>\n",
       "      <td>...</td>\n",
       "      <td>...</td>\n",
       "      <td>...</td>\n",
       "      <td>...</td>\n",
       "    </tr>\n",
       "    <tr>\n",
       "      <th>99995</th>\n",
       "      <td>155625</td>\n",
       "      <td>37932</td>\n",
       "      <td>4</td>\n",
       "      <td>Nicks</td>\n",
       "      <td>25.000</td>\n",
       "      <td>78735990.000</td>\n",
       "      <td>Mechanic</td>\n",
       "      <td>39628.990</td>\n",
       "      <td>3359.416</td>\n",
       "      <td>4.000</td>\n",
       "      <td>6.000</td>\n",
       "      <td>7.000</td>\n",
       "      <td>2.000</td>\n",
       "      <td>Auto Loan, and Student Loan</td>\n",
       "      <td>23.000</td>\n",
       "      <td>7.000</td>\n",
       "      <td>11.500</td>\n",
       "      <td>3.000</td>\n",
       "      <td>Good</td>\n",
       "      <td>502.380</td>\n",
       "      <td>34.664</td>\n",
       "      <td>378.000</td>\n",
       "      <td>No</td>\n",
       "      <td>35.104</td>\n",
       "      <td>60.971</td>\n",
       "      <td>High_spent_Large_value_payments</td>\n",
       "      <td>479.866</td>\n",
       "      <td>Poor</td>\n",
       "    </tr>\n",
       "    <tr>\n",
       "      <th>99996</th>\n",
       "      <td>155626</td>\n",
       "      <td>37932</td>\n",
       "      <td>5</td>\n",
       "      <td>Nicks</td>\n",
       "      <td>25.000</td>\n",
       "      <td>78735990.000</td>\n",
       "      <td>Mechanic</td>\n",
       "      <td>39628.990</td>\n",
       "      <td>3359.416</td>\n",
       "      <td>4.000</td>\n",
       "      <td>6.000</td>\n",
       "      <td>7.000</td>\n",
       "      <td>2.000</td>\n",
       "      <td>Auto Loan, and Student Loan</td>\n",
       "      <td>18.000</td>\n",
       "      <td>7.000</td>\n",
       "      <td>11.500</td>\n",
       "      <td>3.000</td>\n",
       "      <td>Good</td>\n",
       "      <td>502.380</td>\n",
       "      <td>40.566</td>\n",
       "      <td>379.000</td>\n",
       "      <td>No</td>\n",
       "      <td>35.104</td>\n",
       "      <td>54.186</td>\n",
       "      <td>High_spent_Medium_value_payments</td>\n",
       "      <td>496.652</td>\n",
       "      <td>Poor</td>\n",
       "    </tr>\n",
       "    <tr>\n",
       "      <th>99997</th>\n",
       "      <td>155627</td>\n",
       "      <td>37932</td>\n",
       "      <td>6</td>\n",
       "      <td>Nicks</td>\n",
       "      <td>25.000</td>\n",
       "      <td>78735990.000</td>\n",
       "      <td>Mechanic</td>\n",
       "      <td>39628.990</td>\n",
       "      <td>3359.416</td>\n",
       "      <td>4.000</td>\n",
       "      <td>6.000</td>\n",
       "      <td>7.000</td>\n",
       "      <td>2.000</td>\n",
       "      <td>Auto Loan, and Student Loan</td>\n",
       "      <td>27.000</td>\n",
       "      <td>6.000</td>\n",
       "      <td>11.500</td>\n",
       "      <td>3.000</td>\n",
       "      <td>Good</td>\n",
       "      <td>502.380</td>\n",
       "      <td>41.256</td>\n",
       "      <td>380.000</td>\n",
       "      <td>No</td>\n",
       "      <td>35.104</td>\n",
       "      <td>24.028</td>\n",
       "      <td>High_spent_Large_value_payments</td>\n",
       "      <td>516.809</td>\n",
       "      <td>Poor</td>\n",
       "    </tr>\n",
       "    <tr>\n",
       "      <th>99998</th>\n",
       "      <td>155628</td>\n",
       "      <td>37932</td>\n",
       "      <td>7</td>\n",
       "      <td>Nicks</td>\n",
       "      <td>25.000</td>\n",
       "      <td>78735990.000</td>\n",
       "      <td>Mechanic</td>\n",
       "      <td>39628.990</td>\n",
       "      <td>3359.416</td>\n",
       "      <td>4.000</td>\n",
       "      <td>6.000</td>\n",
       "      <td>7.000</td>\n",
       "      <td>2.000</td>\n",
       "      <td>Auto Loan, and Student Loan</td>\n",
       "      <td>20.000</td>\n",
       "      <td>6.000</td>\n",
       "      <td>11.500</td>\n",
       "      <td>3.000</td>\n",
       "      <td>Good</td>\n",
       "      <td>502.380</td>\n",
       "      <td>33.638</td>\n",
       "      <td>381.000</td>\n",
       "      <td>No</td>\n",
       "      <td>35.104</td>\n",
       "      <td>251.673</td>\n",
       "      <td>Low_spent_Large_value_payments</td>\n",
       "      <td>319.165</td>\n",
       "      <td>Standard</td>\n",
       "    </tr>\n",
       "    <tr>\n",
       "      <th>99999</th>\n",
       "      <td>155629</td>\n",
       "      <td>37932</td>\n",
       "      <td>8</td>\n",
       "      <td>Nicks</td>\n",
       "      <td>25.000</td>\n",
       "      <td>78735990.000</td>\n",
       "      <td>Mechanic</td>\n",
       "      <td>39628.990</td>\n",
       "      <td>3359.416</td>\n",
       "      <td>4.000</td>\n",
       "      <td>6.000</td>\n",
       "      <td>7.000</td>\n",
       "      <td>2.000</td>\n",
       "      <td>Auto Loan, and Student Loan</td>\n",
       "      <td>18.000</td>\n",
       "      <td>6.000</td>\n",
       "      <td>11.500</td>\n",
       "      <td>3.000</td>\n",
       "      <td>Good</td>\n",
       "      <td>502.380</td>\n",
       "      <td>34.192</td>\n",
       "      <td>382.000</td>\n",
       "      <td>No</td>\n",
       "      <td>35.104</td>\n",
       "      <td>167.164</td>\n",
       "      <td>High_spent_Medium_value_payments</td>\n",
       "      <td>393.674</td>\n",
       "      <td>Poor</td>\n",
       "    </tr>\n",
       "  </tbody>\n",
       "</table>\n",
       "<p>100000 rows × 28 columns</p>\n",
       "</div>"
      ],
      "text/plain": [
       "           ID  Customer_ID  Month           Name    Age           SSN  \\\n",
       "0        5634         3392      1  Aaron Maashoh 23.000 821000265.000   \n",
       "1        5635         3392      2  Aaron Maashoh 23.000 821000265.000   \n",
       "2        5636         3392      3  Aaron Maashoh 23.000 821000265.000   \n",
       "3        5637         3392      4  Aaron Maashoh 23.000 821000265.000   \n",
       "4        5638         3392      5  Aaron Maashoh 23.000 821000265.000   \n",
       "...       ...          ...    ...            ...    ...           ...   \n",
       "99995  155625        37932      4          Nicks 25.000  78735990.000   \n",
       "99996  155626        37932      5          Nicks 25.000  78735990.000   \n",
       "99997  155627        37932      6          Nicks 25.000  78735990.000   \n",
       "99998  155628        37932      7          Nicks 25.000  78735990.000   \n",
       "99999  155629        37932      8          Nicks 25.000  78735990.000   \n",
       "\n",
       "      Occupation  Annual_Income  Monthly_Inhand_Salary  Num_Bank_Accounts  \\\n",
       "0      Scientist      19114.120               1824.843              3.000   \n",
       "1      Scientist      19114.120               1824.843              3.000   \n",
       "2      Scientist      19114.120               1824.843              3.000   \n",
       "3      Scientist      19114.120               1824.843              3.000   \n",
       "4      Scientist      19114.120               1824.843              3.000   \n",
       "...          ...            ...                    ...                ...   \n",
       "99995   Mechanic      39628.990               3359.416              4.000   \n",
       "99996   Mechanic      39628.990               3359.416              4.000   \n",
       "99997   Mechanic      39628.990               3359.416              4.000   \n",
       "99998   Mechanic      39628.990               3359.416              4.000   \n",
       "99999   Mechanic      39628.990               3359.416              4.000   \n",
       "\n",
       "       Num_Credit_Card  Interest_Rate  Num_of_Loan  \\\n",
       "0                4.000          3.000        4.000   \n",
       "1                4.000          3.000        4.000   \n",
       "2                4.000          3.000        4.000   \n",
       "3                4.000          3.000        4.000   \n",
       "4                4.000          3.000        4.000   \n",
       "...                ...            ...          ...   \n",
       "99995            6.000          7.000        2.000   \n",
       "99996            6.000          7.000        2.000   \n",
       "99997            6.000          7.000        2.000   \n",
       "99998            6.000          7.000        2.000   \n",
       "99999            6.000          7.000        2.000   \n",
       "\n",
       "                                            Type_of_Loan  Delay_from_due_date  \\\n",
       "0      Auto Loan, Credit-Builder Loan, Personal Loan,...                3.000   \n",
       "1      Auto Loan, Credit-Builder Loan, Personal Loan,...               -1.000   \n",
       "2      Auto Loan, Credit-Builder Loan, Personal Loan,...                3.000   \n",
       "3      Auto Loan, Credit-Builder Loan, Personal Loan,...                5.000   \n",
       "4      Auto Loan, Credit-Builder Loan, Personal Loan,...                6.000   \n",
       "...                                                  ...                  ...   \n",
       "99995                        Auto Loan, and Student Loan               23.000   \n",
       "99996                        Auto Loan, and Student Loan               18.000   \n",
       "99997                        Auto Loan, and Student Loan               27.000   \n",
       "99998                        Auto Loan, and Student Loan               20.000   \n",
       "99999                        Auto Loan, and Student Loan               18.000   \n",
       "\n",
       "       Num_of_Delayed_Payment  Changed_Credit_Limit  Num_Credit_Inquiries  \\\n",
       "0                       7.000                11.270                 4.000   \n",
       "1                       4.000                11.270                 4.000   \n",
       "2                       7.000                11.270                 4.000   \n",
       "3                       4.000                 6.270                 4.000   \n",
       "4                       4.000                11.270                 4.000   \n",
       "...                       ...                   ...                   ...   \n",
       "99995                   7.000                11.500                 3.000   \n",
       "99996                   7.000                11.500                 3.000   \n",
       "99997                   6.000                11.500                 3.000   \n",
       "99998                   6.000                11.500                 3.000   \n",
       "99999                   6.000                11.500                 3.000   \n",
       "\n",
       "      Credit_Mix  Outstanding_Debt  Credit_Utilization_Ratio  \\\n",
       "0           Good           809.980                    26.823   \n",
       "1           Good           809.980                    31.945   \n",
       "2           Good           809.980                    28.609   \n",
       "3           Good           809.980                    31.378   \n",
       "4           Good           809.980                    24.797   \n",
       "...          ...               ...                       ...   \n",
       "99995       Good           502.380                    34.664   \n",
       "99996       Good           502.380                    40.566   \n",
       "99997       Good           502.380                    41.256   \n",
       "99998       Good           502.380                    33.638   \n",
       "99999       Good           502.380                    34.192   \n",
       "\n",
       "       Credit_History_Age Payment_of_Min_Amount  Total_EMI_per_month  \\\n",
       "0                 265.000                    No               49.575   \n",
       "1                 266.000                    No               49.575   \n",
       "2                 267.000                    No               49.575   \n",
       "3                 268.000                    No               49.575   \n",
       "4                 269.000                    No               49.575   \n",
       "...                   ...                   ...                  ...   \n",
       "99995             378.000                    No               35.104   \n",
       "99996             379.000                    No               35.104   \n",
       "99997             380.000                    No               35.104   \n",
       "99998             381.000                    No               35.104   \n",
       "99999             382.000                    No               35.104   \n",
       "\n",
       "       Amount_invested_monthly                 Payment_Behaviour  \\\n",
       "0                       80.415   High_spent_Small_value_payments   \n",
       "1                      118.280    Low_spent_Large_value_payments   \n",
       "2                       81.700   Low_spent_Medium_value_payments   \n",
       "3                      199.458    Low_spent_Small_value_payments   \n",
       "4                       41.420  High_spent_Medium_value_payments   \n",
       "...                        ...                               ...   \n",
       "99995                   60.971   High_spent_Large_value_payments   \n",
       "99996                   54.186  High_spent_Medium_value_payments   \n",
       "99997                   24.028   High_spent_Large_value_payments   \n",
       "99998                  251.673    Low_spent_Large_value_payments   \n",
       "99999                  167.164  High_spent_Medium_value_payments   \n",
       "\n",
       "       Monthly_Balance Credit_Score  \n",
       "0              312.494         Good  \n",
       "1              284.629         Good  \n",
       "2              331.210         Good  \n",
       "3              223.451         Good  \n",
       "4              341.489         Good  \n",
       "...                ...          ...  \n",
       "99995          479.866         Poor  \n",
       "99996          496.652         Poor  \n",
       "99997          516.809         Poor  \n",
       "99998          319.165     Standard  \n",
       "99999          393.674         Poor  \n",
       "\n",
       "[100000 rows x 28 columns]"
      ]
     },
     "execution_count": 128,
     "metadata": {},
     "output_type": "execute_result"
    }
   ],
   "source": [
    "df_train"
   ]
  },
  {
   "cell_type": "code",
   "execution_count": 129,
   "metadata": {},
   "outputs": [
    {
     "data": {
      "text/html": [
       "<div>\n",
       "<style scoped>\n",
       "    .dataframe tbody tr th:only-of-type {\n",
       "        vertical-align: middle;\n",
       "    }\n",
       "\n",
       "    .dataframe tbody tr th {\n",
       "        vertical-align: top;\n",
       "    }\n",
       "\n",
       "    .dataframe thead th {\n",
       "        text-align: right;\n",
       "    }\n",
       "</style>\n",
       "<table border=\"1\" class=\"dataframe\">\n",
       "  <thead>\n",
       "    <tr style=\"text-align: right;\">\n",
       "      <th></th>\n",
       "      <th>ID</th>\n",
       "      <th>Customer_ID</th>\n",
       "      <th>Month</th>\n",
       "      <th>Name</th>\n",
       "      <th>Age</th>\n",
       "      <th>SSN</th>\n",
       "      <th>Occupation</th>\n",
       "      <th>Annual_Income</th>\n",
       "      <th>Monthly_Inhand_Salary</th>\n",
       "      <th>Num_Bank_Accounts</th>\n",
       "      <th>Num_Credit_Card</th>\n",
       "      <th>Interest_Rate</th>\n",
       "      <th>Num_of_Loan</th>\n",
       "      <th>Type_of_Loan</th>\n",
       "      <th>Delay_from_due_date</th>\n",
       "      <th>Num_of_Delayed_Payment</th>\n",
       "      <th>Changed_Credit_Limit</th>\n",
       "      <th>Num_Credit_Inquiries</th>\n",
       "      <th>Credit_Mix</th>\n",
       "      <th>Outstanding_Debt</th>\n",
       "      <th>Credit_Utilization_Ratio</th>\n",
       "      <th>Credit_History_Age</th>\n",
       "      <th>Payment_of_Min_Amount</th>\n",
       "      <th>Total_EMI_per_month</th>\n",
       "      <th>Amount_invested_monthly</th>\n",
       "      <th>Payment_Behaviour</th>\n",
       "      <th>Monthly_Balance</th>\n",
       "    </tr>\n",
       "  </thead>\n",
       "  <tbody>\n",
       "    <tr>\n",
       "      <th>0</th>\n",
       "      <td>5642</td>\n",
       "      <td>3392</td>\n",
       "      <td>9</td>\n",
       "      <td>Aaron Maashoh</td>\n",
       "      <td>23.000</td>\n",
       "      <td>821000265.000</td>\n",
       "      <td>Scientist</td>\n",
       "      <td>19114.120</td>\n",
       "      <td>1824.843</td>\n",
       "      <td>3.000</td>\n",
       "      <td>4.000</td>\n",
       "      <td>3.000</td>\n",
       "      <td>4.000</td>\n",
       "      <td>Auto Loan, Credit-Builder Loan, Personal Loan,...</td>\n",
       "      <td>3.000</td>\n",
       "      <td>7.000</td>\n",
       "      <td>11.270</td>\n",
       "      <td>4.000</td>\n",
       "      <td>Good</td>\n",
       "      <td>809.980</td>\n",
       "      <td>35.030</td>\n",
       "      <td>273.000</td>\n",
       "      <td>No</td>\n",
       "      <td>49.575</td>\n",
       "      <td>236.643</td>\n",
       "      <td>Low_spent_Small_value_payments</td>\n",
       "      <td>186.267</td>\n",
       "    </tr>\n",
       "    <tr>\n",
       "      <th>1</th>\n",
       "      <td>5643</td>\n",
       "      <td>3392</td>\n",
       "      <td>10</td>\n",
       "      <td>Aaron Maashoh</td>\n",
       "      <td>24.000</td>\n",
       "      <td>821000265.000</td>\n",
       "      <td>Scientist</td>\n",
       "      <td>19114.120</td>\n",
       "      <td>1824.843</td>\n",
       "      <td>3.000</td>\n",
       "      <td>4.000</td>\n",
       "      <td>3.000</td>\n",
       "      <td>4.000</td>\n",
       "      <td>Auto Loan, Credit-Builder Loan, Personal Loan,...</td>\n",
       "      <td>3.000</td>\n",
       "      <td>9.000</td>\n",
       "      <td>13.270</td>\n",
       "      <td>4.000</td>\n",
       "      <td>Good</td>\n",
       "      <td>809.980</td>\n",
       "      <td>33.053</td>\n",
       "      <td>274.000</td>\n",
       "      <td>No</td>\n",
       "      <td>49.575</td>\n",
       "      <td>21.465</td>\n",
       "      <td>High_spent_Medium_value_payments</td>\n",
       "      <td>361.444</td>\n",
       "    </tr>\n",
       "    <tr>\n",
       "      <th>2</th>\n",
       "      <td>5644</td>\n",
       "      <td>3392</td>\n",
       "      <td>11</td>\n",
       "      <td>Aaron Maashoh</td>\n",
       "      <td>24.000</td>\n",
       "      <td>821000265.000</td>\n",
       "      <td>Scientist</td>\n",
       "      <td>19114.120</td>\n",
       "      <td>1824.843</td>\n",
       "      <td>3.000</td>\n",
       "      <td>4.000</td>\n",
       "      <td>3.000</td>\n",
       "      <td>4.000</td>\n",
       "      <td>Auto Loan, Credit-Builder Loan, Personal Loan,...</td>\n",
       "      <td>-1.000</td>\n",
       "      <td>4.000</td>\n",
       "      <td>12.270</td>\n",
       "      <td>4.000</td>\n",
       "      <td>Good</td>\n",
       "      <td>809.980</td>\n",
       "      <td>33.812</td>\n",
       "      <td>275.000</td>\n",
       "      <td>No</td>\n",
       "      <td>49.575</td>\n",
       "      <td>148.234</td>\n",
       "      <td>Low_spent_Medium_value_payments</td>\n",
       "      <td>264.675</td>\n",
       "    </tr>\n",
       "    <tr>\n",
       "      <th>3</th>\n",
       "      <td>5645</td>\n",
       "      <td>3392</td>\n",
       "      <td>12</td>\n",
       "      <td>Aaron Maashoh</td>\n",
       "      <td>24.000</td>\n",
       "      <td>821000265.000</td>\n",
       "      <td>Scientist</td>\n",
       "      <td>19114.120</td>\n",
       "      <td>1824.843</td>\n",
       "      <td>3.000</td>\n",
       "      <td>4.000</td>\n",
       "      <td>3.000</td>\n",
       "      <td>4.000</td>\n",
       "      <td>Auto Loan, Credit-Builder Loan, Personal Loan,...</td>\n",
       "      <td>4.000</td>\n",
       "      <td>5.000</td>\n",
       "      <td>11.270</td>\n",
       "      <td>4.000</td>\n",
       "      <td>Good</td>\n",
       "      <td>809.980</td>\n",
       "      <td>32.431</td>\n",
       "      <td>276.000</td>\n",
       "      <td>No</td>\n",
       "      <td>49.575</td>\n",
       "      <td>39.083</td>\n",
       "      <td>High_spent_Medium_value_payments</td>\n",
       "      <td>343.827</td>\n",
       "    </tr>\n",
       "    <tr>\n",
       "      <th>4</th>\n",
       "      <td>5654</td>\n",
       "      <td>8625</td>\n",
       "      <td>9</td>\n",
       "      <td>Rick Rothackerj</td>\n",
       "      <td>28.000</td>\n",
       "      <td>4075839.000</td>\n",
       "      <td>Teacher</td>\n",
       "      <td>34847.840</td>\n",
       "      <td>3037.987</td>\n",
       "      <td>2.000</td>\n",
       "      <td>4.000</td>\n",
       "      <td>6.000</td>\n",
       "      <td>1.000</td>\n",
       "      <td>Credit-Builder Loan</td>\n",
       "      <td>3.000</td>\n",
       "      <td>1.000</td>\n",
       "      <td>5.420</td>\n",
       "      <td>5.000</td>\n",
       "      <td>Good</td>\n",
       "      <td>605.030</td>\n",
       "      <td>25.927</td>\n",
       "      <td>327.000</td>\n",
       "      <td>No</td>\n",
       "      <td>18.816</td>\n",
       "      <td>39.684</td>\n",
       "      <td>High_spent_Large_value_payments</td>\n",
       "      <td>485.298</td>\n",
       "    </tr>\n",
       "    <tr>\n",
       "      <th>...</th>\n",
       "      <td>...</td>\n",
       "      <td>...</td>\n",
       "      <td>...</td>\n",
       "      <td>...</td>\n",
       "      <td>...</td>\n",
       "      <td>...</td>\n",
       "      <td>...</td>\n",
       "      <td>...</td>\n",
       "      <td>...</td>\n",
       "      <td>...</td>\n",
       "      <td>...</td>\n",
       "      <td>...</td>\n",
       "      <td>...</td>\n",
       "      <td>...</td>\n",
       "      <td>...</td>\n",
       "      <td>...</td>\n",
       "      <td>...</td>\n",
       "      <td>...</td>\n",
       "      <td>...</td>\n",
       "      <td>...</td>\n",
       "      <td>...</td>\n",
       "      <td>...</td>\n",
       "      <td>...</td>\n",
       "      <td>...</td>\n",
       "      <td>...</td>\n",
       "      <td>...</td>\n",
       "      <td>...</td>\n",
       "    </tr>\n",
       "    <tr>\n",
       "      <th>49995</th>\n",
       "      <td>155621</td>\n",
       "      <td>34304</td>\n",
       "      <td>12</td>\n",
       "      <td>Sarah McBridec</td>\n",
       "      <td>29.000</td>\n",
       "      <td>31350942.000</td>\n",
       "      <td>Architect</td>\n",
       "      <td>20002.880</td>\n",
       "      <td>1929.907</td>\n",
       "      <td>10.000</td>\n",
       "      <td>8.000</td>\n",
       "      <td>29.000</td>\n",
       "      <td>5.000</td>\n",
       "      <td>Personal Loan, Auto Loan, Mortgage Loan, Stude...</td>\n",
       "      <td>33.000</td>\n",
       "      <td>25.000</td>\n",
       "      <td>18.310</td>\n",
       "      <td>12.000</td>\n",
       "      <td>Bad</td>\n",
       "      <td>3571.700</td>\n",
       "      <td>34.781</td>\n",
       "      <td>78.000</td>\n",
       "      <td>Yes</td>\n",
       "      <td>60.965</td>\n",
       "      <td>146.486</td>\n",
       "      <td>Low_spent_Small_value_payments</td>\n",
       "      <td>275.540</td>\n",
       "    </tr>\n",
       "    <tr>\n",
       "      <th>49996</th>\n",
       "      <td>155630</td>\n",
       "      <td>37932</td>\n",
       "      <td>9</td>\n",
       "      <td>Nicks</td>\n",
       "      <td>25.000</td>\n",
       "      <td>78735990.000</td>\n",
       "      <td>Mechanic</td>\n",
       "      <td>39628.990</td>\n",
       "      <td>3359.416</td>\n",
       "      <td>4.000</td>\n",
       "      <td>6.000</td>\n",
       "      <td>7.000</td>\n",
       "      <td>2.000</td>\n",
       "      <td>Auto Loan, and Student Loan</td>\n",
       "      <td>20.000</td>\n",
       "      <td>5.000</td>\n",
       "      <td>11.500</td>\n",
       "      <td>7.000</td>\n",
       "      <td>Good</td>\n",
       "      <td>502.380</td>\n",
       "      <td>27.759</td>\n",
       "      <td>383.000</td>\n",
       "      <td>NM</td>\n",
       "      <td>35.104</td>\n",
       "      <td>181.443</td>\n",
       "      <td>Low_spent_Small_value_payments</td>\n",
       "      <td>409.395</td>\n",
       "    </tr>\n",
       "    <tr>\n",
       "      <th>49997</th>\n",
       "      <td>155631</td>\n",
       "      <td>37932</td>\n",
       "      <td>10</td>\n",
       "      <td>Nicks</td>\n",
       "      <td>25.000</td>\n",
       "      <td>78735990.000</td>\n",
       "      <td>Mechanic</td>\n",
       "      <td>39628.990</td>\n",
       "      <td>3359.416</td>\n",
       "      <td>4.000</td>\n",
       "      <td>6.000</td>\n",
       "      <td>7.000</td>\n",
       "      <td>2.000</td>\n",
       "      <td>Auto Loan, and Student Loan</td>\n",
       "      <td>23.000</td>\n",
       "      <td>5.000</td>\n",
       "      <td>13.500</td>\n",
       "      <td>7.000</td>\n",
       "      <td>Good</td>\n",
       "      <td>502.380</td>\n",
       "      <td>36.859</td>\n",
       "      <td>384.000</td>\n",
       "      <td>No</td>\n",
       "      <td>35.104</td>\n",
       "      <td>97.599</td>\n",
       "      <td>Low_spent_Large_value_payments</td>\n",
       "      <td>349.726</td>\n",
       "    </tr>\n",
       "    <tr>\n",
       "      <th>49998</th>\n",
       "      <td>155632</td>\n",
       "      <td>37932</td>\n",
       "      <td>11</td>\n",
       "      <td>Nicks</td>\n",
       "      <td>25.000</td>\n",
       "      <td>78735990.000</td>\n",
       "      <td>Mechanic</td>\n",
       "      <td>39628.990</td>\n",
       "      <td>3359.416</td>\n",
       "      <td>4.000</td>\n",
       "      <td>6.000</td>\n",
       "      <td>7.000</td>\n",
       "      <td>2.000</td>\n",
       "      <td>Auto Loan, and Student Loan</td>\n",
       "      <td>21.000</td>\n",
       "      <td>6.000</td>\n",
       "      <td>11.500</td>\n",
       "      <td>7.000</td>\n",
       "      <td>Good</td>\n",
       "      <td>502.380</td>\n",
       "      <td>39.140</td>\n",
       "      <td>385.000</td>\n",
       "      <td>No</td>\n",
       "      <td>35.104</td>\n",
       "      <td>97.599</td>\n",
       "      <td>High_spent_Small_value_payments</td>\n",
       "      <td>463.239</td>\n",
       "    </tr>\n",
       "    <tr>\n",
       "      <th>49999</th>\n",
       "      <td>155633</td>\n",
       "      <td>37932</td>\n",
       "      <td>12</td>\n",
       "      <td>Nicks</td>\n",
       "      <td>25.000</td>\n",
       "      <td>78735990.000</td>\n",
       "      <td>Mechanic</td>\n",
       "      <td>39628.990</td>\n",
       "      <td>3359.416</td>\n",
       "      <td>4.000</td>\n",
       "      <td>6.000</td>\n",
       "      <td>7.000</td>\n",
       "      <td>2.000</td>\n",
       "      <td>Auto Loan, and Student Loan</td>\n",
       "      <td>22.000</td>\n",
       "      <td>5.000</td>\n",
       "      <td>11.500</td>\n",
       "      <td>7.000</td>\n",
       "      <td>Good</td>\n",
       "      <td>502.380</td>\n",
       "      <td>34.109</td>\n",
       "      <td>386.000</td>\n",
       "      <td>No</td>\n",
       "      <td>35.104</td>\n",
       "      <td>220.458</td>\n",
       "      <td>Low_spent_Medium_value_payments</td>\n",
       "      <td>360.380</td>\n",
       "    </tr>\n",
       "  </tbody>\n",
       "</table>\n",
       "<p>50000 rows × 27 columns</p>\n",
       "</div>"
      ],
      "text/plain": [
       "           ID  Customer_ID  Month             Name    Age           SSN  \\\n",
       "0        5642         3392      9    Aaron Maashoh 23.000 821000265.000   \n",
       "1        5643         3392     10    Aaron Maashoh 24.000 821000265.000   \n",
       "2        5644         3392     11    Aaron Maashoh 24.000 821000265.000   \n",
       "3        5645         3392     12    Aaron Maashoh 24.000 821000265.000   \n",
       "4        5654         8625      9  Rick Rothackerj 28.000   4075839.000   \n",
       "...       ...          ...    ...              ...    ...           ...   \n",
       "49995  155621        34304     12   Sarah McBridec 29.000  31350942.000   \n",
       "49996  155630        37932      9            Nicks 25.000  78735990.000   \n",
       "49997  155631        37932     10            Nicks 25.000  78735990.000   \n",
       "49998  155632        37932     11            Nicks 25.000  78735990.000   \n",
       "49999  155633        37932     12            Nicks 25.000  78735990.000   \n",
       "\n",
       "      Occupation  Annual_Income  Monthly_Inhand_Salary  Num_Bank_Accounts  \\\n",
       "0      Scientist      19114.120               1824.843              3.000   \n",
       "1      Scientist      19114.120               1824.843              3.000   \n",
       "2      Scientist      19114.120               1824.843              3.000   \n",
       "3      Scientist      19114.120               1824.843              3.000   \n",
       "4        Teacher      34847.840               3037.987              2.000   \n",
       "...          ...            ...                    ...                ...   \n",
       "49995  Architect      20002.880               1929.907             10.000   \n",
       "49996   Mechanic      39628.990               3359.416              4.000   \n",
       "49997   Mechanic      39628.990               3359.416              4.000   \n",
       "49998   Mechanic      39628.990               3359.416              4.000   \n",
       "49999   Mechanic      39628.990               3359.416              4.000   \n",
       "\n",
       "       Num_Credit_Card  Interest_Rate  Num_of_Loan  \\\n",
       "0                4.000          3.000        4.000   \n",
       "1                4.000          3.000        4.000   \n",
       "2                4.000          3.000        4.000   \n",
       "3                4.000          3.000        4.000   \n",
       "4                4.000          6.000        1.000   \n",
       "...                ...            ...          ...   \n",
       "49995            8.000         29.000        5.000   \n",
       "49996            6.000          7.000        2.000   \n",
       "49997            6.000          7.000        2.000   \n",
       "49998            6.000          7.000        2.000   \n",
       "49999            6.000          7.000        2.000   \n",
       "\n",
       "                                            Type_of_Loan  Delay_from_due_date  \\\n",
       "0      Auto Loan, Credit-Builder Loan, Personal Loan,...                3.000   \n",
       "1      Auto Loan, Credit-Builder Loan, Personal Loan,...                3.000   \n",
       "2      Auto Loan, Credit-Builder Loan, Personal Loan,...               -1.000   \n",
       "3      Auto Loan, Credit-Builder Loan, Personal Loan,...                4.000   \n",
       "4                                    Credit-Builder Loan                3.000   \n",
       "...                                                  ...                  ...   \n",
       "49995  Personal Loan, Auto Loan, Mortgage Loan, Stude...               33.000   \n",
       "49996                        Auto Loan, and Student Loan               20.000   \n",
       "49997                        Auto Loan, and Student Loan               23.000   \n",
       "49998                        Auto Loan, and Student Loan               21.000   \n",
       "49999                        Auto Loan, and Student Loan               22.000   \n",
       "\n",
       "       Num_of_Delayed_Payment  Changed_Credit_Limit  Num_Credit_Inquiries  \\\n",
       "0                       7.000                11.270                 4.000   \n",
       "1                       9.000                13.270                 4.000   \n",
       "2                       4.000                12.270                 4.000   \n",
       "3                       5.000                11.270                 4.000   \n",
       "4                       1.000                 5.420                 5.000   \n",
       "...                       ...                   ...                   ...   \n",
       "49995                  25.000                18.310                12.000   \n",
       "49996                   5.000                11.500                 7.000   \n",
       "49997                   5.000                13.500                 7.000   \n",
       "49998                   6.000                11.500                 7.000   \n",
       "49999                   5.000                11.500                 7.000   \n",
       "\n",
       "      Credit_Mix  Outstanding_Debt  Credit_Utilization_Ratio  \\\n",
       "0           Good           809.980                    35.030   \n",
       "1           Good           809.980                    33.053   \n",
       "2           Good           809.980                    33.812   \n",
       "3           Good           809.980                    32.431   \n",
       "4           Good           605.030                    25.927   \n",
       "...          ...               ...                       ...   \n",
       "49995        Bad          3571.700                    34.781   \n",
       "49996       Good           502.380                    27.759   \n",
       "49997       Good           502.380                    36.859   \n",
       "49998       Good           502.380                    39.140   \n",
       "49999       Good           502.380                    34.109   \n",
       "\n",
       "       Credit_History_Age Payment_of_Min_Amount  Total_EMI_per_month  \\\n",
       "0                 273.000                    No               49.575   \n",
       "1                 274.000                    No               49.575   \n",
       "2                 275.000                    No               49.575   \n",
       "3                 276.000                    No               49.575   \n",
       "4                 327.000                    No               18.816   \n",
       "...                   ...                   ...                  ...   \n",
       "49995              78.000                   Yes               60.965   \n",
       "49996             383.000                    NM               35.104   \n",
       "49997             384.000                    No               35.104   \n",
       "49998             385.000                    No               35.104   \n",
       "49999             386.000                    No               35.104   \n",
       "\n",
       "       Amount_invested_monthly                 Payment_Behaviour  \\\n",
       "0                      236.643    Low_spent_Small_value_payments   \n",
       "1                       21.465  High_spent_Medium_value_payments   \n",
       "2                      148.234   Low_spent_Medium_value_payments   \n",
       "3                       39.083  High_spent_Medium_value_payments   \n",
       "4                       39.684   High_spent_Large_value_payments   \n",
       "...                        ...                               ...   \n",
       "49995                  146.486    Low_spent_Small_value_payments   \n",
       "49996                  181.443    Low_spent_Small_value_payments   \n",
       "49997                   97.599    Low_spent_Large_value_payments   \n",
       "49998                   97.599   High_spent_Small_value_payments   \n",
       "49999                  220.458   Low_spent_Medium_value_payments   \n",
       "\n",
       "       Monthly_Balance  \n",
       "0              186.267  \n",
       "1              361.444  \n",
       "2              264.675  \n",
       "3              343.827  \n",
       "4              485.298  \n",
       "...                ...  \n",
       "49995          275.540  \n",
       "49996          409.395  \n",
       "49997          349.726  \n",
       "49998          463.239  \n",
       "49999          360.380  \n",
       "\n",
       "[50000 rows x 27 columns]"
      ]
     },
     "execution_count": 129,
     "metadata": {},
     "output_type": "execute_result"
    }
   ],
   "source": [
    "df_test"
   ]
  },
  {
   "cell_type": "code",
   "execution_count": 130,
   "metadata": {},
   "outputs": [
    {
     "name": "stdout",
     "output_type": "stream",
     "text": [
      "\n"
     ]
    },
    {
     "data": {
      "text/plain": [
       "ID                          0\n",
       "Customer_ID                 0\n",
       "Month                       0\n",
       "Name                        0\n",
       "Age                         0\n",
       "SSN                         0\n",
       "Occupation                  0\n",
       "Annual_Income               0\n",
       "Monthly_Inhand_Salary       0\n",
       "Num_Bank_Accounts           0\n",
       "Num_Credit_Card             0\n",
       "Interest_Rate               0\n",
       "Num_of_Loan                 0\n",
       "Type_of_Loan                0\n",
       "Delay_from_due_date         0\n",
       "Num_of_Delayed_Payment      0\n",
       "Changed_Credit_Limit        0\n",
       "Num_Credit_Inquiries        0\n",
       "Credit_Mix                  0\n",
       "Outstanding_Debt            0\n",
       "Credit_Utilization_Ratio    0\n",
       "Credit_History_Age          0\n",
       "Payment_of_Min_Amount       0\n",
       "Total_EMI_per_month         0\n",
       "Amount_invested_monthly     0\n",
       "Payment_Behaviour           0\n",
       "Monthly_Balance             0\n",
       "Credit_Score                0\n",
       "dtype: int64"
      ]
     },
     "metadata": {},
     "output_type": "display_data"
    },
    {
     "data": {
      "text/plain": [
       "None"
      ]
     },
     "metadata": {},
     "output_type": "display_data"
    },
    {
     "data": {
      "text/plain": [
       "ID                           0\n",
       "Customer_ID                  0\n",
       "Month                        0\n",
       "Name                         0\n",
       "Age                          0\n",
       "SSN                          0\n",
       "Occupation                   0\n",
       "Annual_Income                0\n",
       "Monthly_Inhand_Salary       28\n",
       "Num_Bank_Accounts            0\n",
       "Num_Credit_Card              0\n",
       "Interest_Rate                0\n",
       "Num_of_Loan                  0\n",
       "Type_of_Loan                 0\n",
       "Delay_from_due_date          0\n",
       "Num_of_Delayed_Payment       4\n",
       "Changed_Credit_Limit         0\n",
       "Num_Credit_Inquiries         0\n",
       "Credit_Mix                   0\n",
       "Outstanding_Debt             0\n",
       "Credit_Utilization_Ratio     0\n",
       "Credit_History_Age           4\n",
       "Payment_of_Min_Amount        0\n",
       "Total_EMI_per_month          0\n",
       "Amount_invested_monthly      4\n",
       "Payment_Behaviour            0\n",
       "Monthly_Balance              4\n",
       "dtype: int64"
      ]
     },
     "metadata": {},
     "output_type": "display_data"
    }
   ],
   "source": [
    "display(\n",
    "    df_train.isna().sum(), \n",
    "    print(), \n",
    "    df_test.isna().sum()\n",
    ")"
   ]
  },
  {
   "cell_type": "markdown",
   "metadata": {
    "id": "II2iQLeCjwPd"
   },
   "source": [
    "<a id=\"10\"></a>\n",
    "\n",
    "<p style=\"background-color:romance; color:plum; font-size:220%; text-align:center; border-radius:10px 10px; font-family:newtimeroman; line-height: 1.4; font-weight:bold;\"><b>The End of the Project</b></p>\n",
    "\n",
    "<a href=\"#content\" class=\"btn btn-primary btn-sm\" role=\"button\" aria-pressed=\"true\" style=\"color:blue; background-color:#dfa8e4\" data-toggle=\"popover\">Content</a>"
   ]
  }
 ],
 "metadata": {
  "colab": {
   "collapsed_sections": [
    "3QuB60ZKjwOM",
    "tRENVPjsjwOO",
    "FWVwlGMnjwOO",
    "O-WjXfO7jwOQ",
    "UVjAplv8jwOQ",
    "HOIESqNjjwOT",
    "6MCscpw1jwOV",
    "9Xgur7CdjwOY",
    "x6Q6OxR6jwOa",
    "jWt2NRMNjwOd",
    "KoqL-m8HjwOd",
    "r2MBtjItjwOd",
    "vqWCeRBujwOr",
    "ZjfFoHZTjwOx",
    "KxHaqS4mjwO2",
    "eoAUdH20jwO6",
    "-atLCuBJjwO8",
    "Q1AO-wkrjwO_",
    "aQo2OjRBjwPE",
    "4Nzi2KokjwPE",
    "Atr3vfcKjwPF",
    "7CvSp9f7jwPF",
    "F7sK9___jwPG",
    "7qqMjUE9jwPG",
    "R5sVvHBYjwPH",
    "tct5KTULjwPH",
    "-_TS1bdWjwPH",
    "OqhEXvvtjwPJ",
    "A96k9zQ-jwPJ",
    "9s-OW2OwjwPR",
    "vlBdLCMhjwPT",
    "HE-2lkvajwPV",
    "CQ9PuUCZjwPa",
    "slzCtnsnjwPa",
    "YjCbYLcxjwPc",
    "II2iQLeCjwPd"
   ],
   "name": "DAwPy (EDA Project- (Analyze US Citizens))-Solution.ipynb",
   "provenance": []
  },
  "hide_input": false,
  "kernelspec": {
   "display_name": "Python 3.10.4 64-bit",
   "language": "python",
   "name": "python3"
  },
  "language_info": {
   "codemirror_mode": {
    "name": "ipython",
    "version": 3
   },
   "file_extension": ".py",
   "mimetype": "text/x-python",
   "name": "python",
   "nbconvert_exporter": "python",
   "pygments_lexer": "ipython3",
   "version": "3.10.4"
  },
  "nbTranslate": {
   "displayLangs": [
    "*"
   ],
   "hotkey": "alt-t",
   "langInMainMenu": true,
   "sourceLang": "en",
   "targetLang": "fr",
   "useGoogleTranslate": true
  },
  "toc": {
   "base_numbering": 1,
   "nav_menu": {},
   "number_sections": true,
   "sideBar": true,
   "skip_h1_title": false,
   "title_cell": "Table of Contents",
   "title_sidebar": "Contents",
   "toc_cell": false,
   "toc_position": {
    "height": "calc(100% - 180px)",
    "left": "10px",
    "top": "150px",
    "width": "345.994px"
   },
   "toc_section_display": true,
   "toc_window_display": false
  },
  "vscode": {
   "interpreter": {
    "hash": "229cdfb8eedfa4964725b7eb0da8d7a63b25d97a6ab808f09bd6b506844c0629"
   }
  }
 },
 "nbformat": 4,
 "nbformat_minor": 1
}
